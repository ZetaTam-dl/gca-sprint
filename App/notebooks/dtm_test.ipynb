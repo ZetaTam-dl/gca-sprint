{
 "cells": [
  {
   "cell_type": "code",
   "execution_count": 1,
   "metadata": {},
   "outputs": [],
   "source": [
    "import pystac_client\n",
    "import xarray as xr\n",
    "import rioxarray as rio\n",
    "from shapely.geometry import Polygon\n",
    "import geopandas as gpd\n",
    "import matplotlib.pyplot as plt\n",
    "import numpy as np\n",
    "\n"
   ]
  },
  {
   "cell_type": "code",
   "execution_count": 2,
   "metadata": {},
   "outputs": [
    {
     "name": "stderr",
     "output_type": "stream",
     "text": [
      "c:\\Users\\tam\\AppData\\Local\\miniforge3\\envs\\gca-env\\lib\\site-packages\\pystac_client\\client.py:186: NoConformsTo: Server does not advertise any conformance classes.\n",
      "  warnings.warn(NoConformsTo())\n",
      "c:\\Users\\tam\\AppData\\Local\\miniforge3\\envs\\gca-env\\lib\\site-packages\\pystac_client\\collection_client.py:196: FallbackToPystac: Falling back to pystac. This might be slow.\n",
      "  root._warn_about_fallback(\"FEATURES\", \"ITEM_SEARCH\")\n",
      "c:\\Users\\tam\\AppData\\Local\\miniforge3\\envs\\gca-env\\lib\\site-packages\\pystac_client\\collection_client.py:148: FallbackToPystac: Falling back to pystac. This might be slow.\n",
      "  root._warn_about_fallback(\"ITEM_SEARCH\")\n"
     ]
    }
   ],
   "source": [
    "# Set stac URL\n",
    "STAC_url = \"https://raw.githubusercontent.com/openearth/coclicodata/main/current/catalog.json\"\n",
    "\n",
    "# Open the catalog\n",
    "catalog = pystac_client.Client.open(STAC_url)\n",
    "DTMcollection = catalog.get_child(\"deltares-delta-dtm\")\n",
    "href = DTMcollection.get_item('DeltaDTM_v1_1_N00E006').assets['data'].href"
   ]
  },
  {
   "cell_type": "code",
   "execution_count": 3,
   "metadata": {},
   "outputs": [
    {
     "data": {
      "text/plain": [
       "'az://deltares-delta-dtm/v1.1/DeltaDTM_v1_1_N00E006.tif'"
      ]
     },
     "execution_count": 3,
     "metadata": {},
     "output_type": "execute_result"
    }
   ],
   "source": [
    "href"
   ]
  }
 ],
 "metadata": {
  "kernelspec": {
   "display_name": "gca-env",
   "language": "python",
   "name": "python3"
  },
  "language_info": {
   "codemirror_mode": {
    "name": "ipython",
    "version": 3
   },
   "file_extension": ".py",
   "mimetype": "text/x-python",
   "name": "python",
   "nbconvert_exporter": "python",
   "pygments_lexer": "ipython3",
   "version": "3.10.15"
  }
 },
 "nbformat": 4,
 "nbformat_minor": 2
}
