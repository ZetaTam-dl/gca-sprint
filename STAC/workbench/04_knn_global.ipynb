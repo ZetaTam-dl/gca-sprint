{
 "cells": [
  {
   "attachments": {},
   "cell_type": "markdown",
   "metadata": {},
   "source": [
    "# K-Nearest Neighbour Clustering on a Global Scale"
   ]
  },
  {
   "cell_type": "code",
   "execution_count": 2,
   "metadata": {},
   "outputs": [
    {
     "data": {
      "text/plain": [
       "[<CollectionClient id=ssl>,\n",
       " <CollectionClient id=wef>,\n",
       " <CollectionClient id=eesl>,\n",
       " <CollectionClient id=floodmaps>,\n",
       " <CollectionClient id=sc>,\n",
       " <CollectionClient id=cbca>,\n",
       " <CollectionClient id=cfr>,\n",
       " <CollectionClient id=cm>,\n",
       " <CollectionClient id=smd>,\n",
       " <CollectionClient id=cisi>,\n",
       " <CollectionClient id=shore_mon_fut>,\n",
       " <CollectionClient id=sed_class>,\n",
       " <CollectionClient id=shore_mon>,\n",
       " <CollectionClient id=world_pop>,\n",
       " <CollectionClient id=world_gdp>,\n",
       " <CollectionClient id=shore_mon_hr>,\n",
       " <CollectionClient id=shore_mon_drivers>]"
      ]
     },
     "execution_count": 2,
     "metadata": {},
     "output_type": "execute_result"
    }
   ],
   "source": [
    "import os\n",
    "import pandas as pd\n",
    "import matplotlib.pyplot as plt\n",
    "from sklearn.cluster import KMeans\n",
    "from sklearn.preprocessing import StandardScaler, MinMaxScaler \n",
    "import plotly.express as px\n",
    "import numpy as np\n",
    "import pystac_client\n",
    "import xarray as xr\n",
    "\n",
    "catalog = pystac_client.Client.open(\n",
    "    #\"https://storage.googleapis.com/dgds-data-public/coclico/coclico-stac/catalog.json\" # cloud API\n",
    "    r\"p:\\1000545-054-globalbeaches\\15_GlobalCoastalAtlas\\coclicodata\\current\\catalog.json\" # P drive API \n",
    ")\n",
    "list(catalog.get_children())"
   ]
  },
  {
   "cell_type": "code",
   "execution_count": 3,
   "metadata": {},
   "outputs": [
    {
     "data": {
      "text/html": [
       "<div>\n",
       "<style scoped>\n",
       "    .dataframe tbody tr th:only-of-type {\n",
       "        vertical-align: middle;\n",
       "    }\n",
       "\n",
       "    .dataframe tbody tr th {\n",
       "        vertical-align: top;\n",
       "    }\n",
       "\n",
       "    .dataframe thead th {\n",
       "        text-align: right;\n",
       "    }\n",
       "</style>\n",
       "<table border=\"1\" class=\"dataframe\">\n",
       "  <thead>\n",
       "    <tr style=\"text-align: right;\">\n",
       "      <th></th>\n",
       "      <th>transect_id</th>\n",
       "      <th>hotspot_id</th>\n",
       "      <th>changerate</th>\n",
       "      <th>transect_geom</th>\n",
       "    </tr>\n",
       "    <tr>\n",
       "      <th>stations</th>\n",
       "      <th></th>\n",
       "      <th></th>\n",
       "      <th></th>\n",
       "      <th></th>\n",
       "    </tr>\n",
       "  </thead>\n",
       "  <tbody>\n",
       "    <tr>\n",
       "      <th>0</th>\n",
       "      <td>BOX_117_067_110</td>\n",
       "      <td>prograding_feature_polygon_2167</td>\n",
       "      <td>0.407175</td>\n",
       "      <td>LINESTRING (-71.624166 10.990024, -71.60742 10...</td>\n",
       "    </tr>\n",
       "    <tr>\n",
       "      <th>1</th>\n",
       "      <td>BOX_117_067_111</td>\n",
       "      <td>prograding_feature_polygon_2167</td>\n",
       "      <td>5.370909</td>\n",
       "      <td>LINESTRING (-71.625 10.991483, -71.610989 11.0...</td>\n",
       "    </tr>\n",
       "  </tbody>\n",
       "</table>\n",
       "</div>"
      ],
      "text/plain": [
       "              transect_id                       hotspot_id  changerate  \\\n",
       "stations                                                                 \n",
       "0         BOX_117_067_110  prograding_feature_polygon_2167    0.407175   \n",
       "1         BOX_117_067_111  prograding_feature_polygon_2167    5.370909   \n",
       "\n",
       "                                              transect_geom  \n",
       "stations                                                     \n",
       "0         LINESTRING (-71.624166 10.990024, -71.60742 10...  \n",
       "1         LINESTRING (-71.625 10.991483, -71.610989 11.0...  "
      ]
     },
     "execution_count": 3,
     "metadata": {},
     "output_type": "execute_result"
    }
   ],
   "source": [
    "from shapely import wkt\n",
    "\n",
    "href_sm = catalog.get_child(\"shore_mon_hr\").assets[\"data\"].href\n",
    "df_sm = xr.open_zarr(href_sm)[['changerate']].to_dataframe()[['transect_id', 'hotspot_id', 'changerate', 'transect_geom']].applymap(lambda x: x.decode(\"utf_8\") if type(x) == bytes else x)\n",
    "df_sm['transect_geom'] = df_sm['transect_geom'].apply(wkt.loads)\n",
    "df_sm.head(2)"
   ]
  },
  {
   "cell_type": "code",
   "execution_count": 4,
   "metadata": {},
   "outputs": [
    {
     "data": {
      "text/html": [
       "<div>\n",
       "<style scoped>\n",
       "    .dataframe tbody tr th:only-of-type {\n",
       "        vertical-align: middle;\n",
       "    }\n",
       "\n",
       "    .dataframe tbody tr th {\n",
       "        vertical-align: top;\n",
       "    }\n",
       "\n",
       "    .dataframe thead th {\n",
       "        text-align: right;\n",
       "    }\n",
       "</style>\n",
       "<table border=\"1\" class=\"dataframe\">\n",
       "  <thead>\n",
       "    <tr style=\"text-align: right;\">\n",
       "      <th></th>\n",
       "      <th>transect_id</th>\n",
       "      <th>country</th>\n",
       "      <th>continent</th>\n",
       "      <th>pop_tot</th>\n",
       "    </tr>\n",
       "    <tr>\n",
       "      <th>stations</th>\n",
       "      <th></th>\n",
       "      <th></th>\n",
       "      <th></th>\n",
       "      <th></th>\n",
       "    </tr>\n",
       "  </thead>\n",
       "  <tbody>\n",
       "    <tr>\n",
       "      <th>0</th>\n",
       "      <td>BOX_028_183_0</td>\n",
       "      <td>Chile</td>\n",
       "      <td>South America</td>\n",
       "      <td>0.0</td>\n",
       "    </tr>\n",
       "    <tr>\n",
       "      <th>1</th>\n",
       "      <td>BOX_028_183_1</td>\n",
       "      <td>Chile</td>\n",
       "      <td>South America</td>\n",
       "      <td>0.0</td>\n",
       "    </tr>\n",
       "  </tbody>\n",
       "</table>\n",
       "</div>"
      ],
      "text/plain": [
       "            transect_id country      continent  pop_tot\n",
       "stations                                               \n",
       "0         BOX_028_183_0   Chile  South America      0.0\n",
       "1         BOX_028_183_1   Chile  South America      0.0"
      ]
     },
     "execution_count": 4,
     "metadata": {},
     "output_type": "execute_result"
    }
   ],
   "source": [
    "href_sm = catalog.get_child(\"world_pop\").assets[\"data\"].href\n",
    "df_pop = xr.open_zarr(href_sm)[['pop_tot']].to_dataframe()[['transect_id', 'country', 'continent', 'pop_tot']].applymap(lambda x: x.decode(\"utf_8\") if type(x) == bytes else x)\n",
    "df_pop.head(2)"
   ]
  },
  {
   "cell_type": "code",
   "execution_count": 5,
   "metadata": {},
   "outputs": [
    {
     "name": "stderr",
     "output_type": "stream",
     "text": [
      "C:\\Users\\heijd_de\\AppData\\Local\\Temp\\ipykernel_3156\\17204432.py:3: UserWarning: Shapely 2.0 is installed, but because PyGEOS is also installed, GeoPandas will still use PyGEOS by default for now. To force to use and test Shapely 2.0, you have to set the environment variable USE_PYGEOS=0. You can do this before starting the Python process, or in your code before importing geopandas:\n",
      "\n",
      "import os\n",
      "os.environ['USE_PYGEOS'] = '0'\n",
      "import geopandas\n",
      "\n",
      "In a future release, GeoPandas will switch to using Shapely by default. If you are using PyGEOS directly (calling PyGEOS functions on geometries from GeoPandas), this will then stop working and you are encouraged to migrate from PyGEOS to Shapely 2.0 (https://shapely.readthedocs.io/en/latest/migration_pygeos.html).\n",
      "  import geopandas as gpd\n"
     ]
    }
   ],
   "source": [
    "from shapely.geometry import Polygon, Point, MultiLineString\n",
    "from shapely.wkt import loads\n",
    "import geopandas as gpd\n",
    "\n",
    "df_merged = df_pop.merge(df_sm, on = 'transect_id', how= 'left').groupby('hotspot_id').agg({'changerate': 'mean', 'pop_tot': 'mean', 'transect_geom': list})\n",
    "\n",
    "# create linestrings\n",
    "df_merged['polygon'] = df_merged.apply(lambda x: MultiLineString(x['transect_geom']), axis= 1)\n",
    "df_merged = gpd.GeoDataFrame(df_merged, geometry='polygon')\n",
    "\n",
    "# merge MultiLineString objects and create envelope\n",
    "df_merged['polygon'] = df_merged['polygon'].convex_hull"
   ]
  },
  {
   "cell_type": "code",
   "execution_count": 6,
   "metadata": {},
   "outputs": [
    {
     "data": {
      "text/plain": [
       "(False, False)"
      ]
     },
     "execution_count": 6,
     "metadata": {},
     "output_type": "execute_result"
    }
   ],
   "source": [
    "df_merged['changerate'].isna().any(), df_merged['pop_tot'].isna().any()"
   ]
  },
  {
   "cell_type": "code",
   "execution_count": 7,
   "metadata": {},
   "outputs": [
    {
     "data": {
      "text/plain": [
       "(-2559.886064997741, 62.17529487609863)"
      ]
     },
     "execution_count": 7,
     "metadata": {},
     "output_type": "execute_result"
    }
   ],
   "source": [
    "min(df_merged['changerate']), max(df_merged['changerate'])"
   ]
  },
  {
   "cell_type": "code",
   "execution_count": 8,
   "metadata": {},
   "outputs": [
    {
     "data": {
      "text/plain": [
       "(0.0, 249910.58266666668)"
      ]
     },
     "execution_count": 8,
     "metadata": {},
     "output_type": "execute_result"
    }
   ],
   "source": [
    "min(df_merged['pop_tot']), max(df_merged['pop_tot'])"
   ]
  },
  {
   "cell_type": "code",
   "execution_count": 9,
   "metadata": {},
   "outputs": [],
   "source": [
    "df_merged = df_merged[df_merged['changerate'] >= -500]"
   ]
  },
  {
   "cell_type": "code",
   "execution_count": 10,
   "metadata": {},
   "outputs": [],
   "source": [
    "# input features to cluster on\n",
    "df_fit = df_merged[['changerate', 'pop_tot']].dropna(axis = 0)\n",
    "# perform a standard scaling\n",
    "scaler = MinMaxScaler()\n",
    "df_scaled_fit = scaler.fit_transform(df_fit)"
   ]
  },
  {
   "cell_type": "code",
   "execution_count": 11,
   "metadata": {},
   "outputs": [
    {
     "data": {
      "image/png": "[encoded data removed]",
      "text/plain": [
       "<Figure size 640x480 with 1 Axes>"
      ]
     },
     "metadata": {},
     "output_type": "display_data"
    }
   ],
   "source": [
    "#initialize kmeans parameters\n",
    "kmeans_kwargs = {\n",
    "\"init\": \"random\",\n",
    "\"n_init\": 10,\n",
    "\"random_state\": 1,\n",
    "}\n",
    "\n",
    "#create list to hold SSE values for each k\n",
    "sse = []\n",
    "for k in range(1, 11):\n",
    "    kmeans = KMeans(n_clusters=k, **kmeans_kwargs)\n",
    "    kmeans.fit(df_scaled_fit)\n",
    "    sse.append(kmeans.inertia_)\n",
    "\n",
    "#visualize results\n",
    "plt.plot(range(1, 11), sse)\n",
    "plt.xticks(range(1, 11))\n",
    "plt.xlabel(\"Number of Clusters\")\n",
    "plt.ylabel(\"SSE\")\n",
    "plt.show()"
   ]
  },
  {
   "cell_type": "code",
   "execution_count": 12,
   "metadata": {},
   "outputs": [
    {
     "data": {
      "text/html": [
       "<style>#sk-container-id-1 {color: black;background-color: white;}#sk-container-id-1 pre{padding: 0;}#sk-container-id-1 div.sk-toggleable {background-color: white;}#sk-container-id-1 label.sk-toggleable__label {cursor: pointer;display: block;width: 100%;margin-bottom: 0;padding: 0.3em;box-sizing: border-box;text-align: center;}#sk-container-id-1 label.sk-toggleable__label-arrow:before {content: \"▸\";float: left;margin-right: 0.25em;color: #696969;}#sk-container-id-1 label.sk-toggleable__label-arrow:hover:before {color: black;}#sk-container-id-1 div.sk-estimator:hover label.sk-toggleable__label-arrow:before {color: black;}#sk-container-id-1 div.sk-toggleable__content {max-height: 0;max-width: 0;overflow: hidden;text-align: left;background-color: #f0f8ff;}#sk-container-id-1 div.sk-toggleable__content pre {margin: 0.2em;color: black;border-radius: 0.25em;background-color: #f0f8ff;}#sk-container-id-1 input.sk-toggleable__control:checked~div.sk-toggleable__content {max-height: 200px;max-width: 100%;overflow: auto;}#sk-container-id-1 input.sk-toggleable__control:checked~label.sk-toggleable__label-arrow:before {content: \"▾\";}#sk-container-id-1 div.sk-estimator input.sk-toggleable__control:checked~label.sk-toggleable__label {background-color: #d4ebff;}#sk-container-id-1 div.sk-label input.sk-toggleable__control:checked~label.sk-toggleable__label {background-color: #d4ebff;}#sk-container-id-1 input.sk-hidden--visually {border: 0;clip: rect(1px 1px 1px 1px);clip: rect(1px, 1px, 1px, 1px);height: 1px;margin: -1px;overflow: hidden;padding: 0;position: absolute;width: 1px;}#sk-container-id-1 div.sk-estimator {font-family: monospace;background-color: #f0f8ff;border: 1px dotted black;border-radius: 0.25em;box-sizing: border-box;margin-bottom: 0.5em;}#sk-container-id-1 div.sk-estimator:hover {background-color: #d4ebff;}#sk-container-id-1 div.sk-parallel-item::after {content: \"\";width: 100%;border-bottom: 1px solid gray;flex-grow: 1;}#sk-container-id-1 div.sk-label:hover label.sk-toggleable__label {background-color: #d4ebff;}#sk-container-id-1 div.sk-serial::before {content: \"\";position: absolute;border-left: 1px solid gray;box-sizing: border-box;top: 0;bottom: 0;left: 50%;z-index: 0;}#sk-container-id-1 div.sk-serial {display: flex;flex-direction: column;align-items: center;background-color: white;padding-right: 0.2em;padding-left: 0.2em;position: relative;}#sk-container-id-1 div.sk-item {position: relative;z-index: 1;}#sk-container-id-1 div.sk-parallel {display: flex;align-items: stretch;justify-content: center;background-color: white;position: relative;}#sk-container-id-1 div.sk-item::before, #sk-container-id-1 div.sk-parallel-item::before {content: \"\";position: absolute;border-left: 1px solid gray;box-sizing: border-box;top: 0;bottom: 0;left: 50%;z-index: -1;}#sk-container-id-1 div.sk-parallel-item {display: flex;flex-direction: column;z-index: 1;position: relative;background-color: white;}#sk-container-id-1 div.sk-parallel-item:first-child::after {align-self: flex-end;width: 50%;}#sk-container-id-1 div.sk-parallel-item:last-child::after {align-self: flex-start;width: 50%;}#sk-container-id-1 div.sk-parallel-item:only-child::after {width: 0;}#sk-container-id-1 div.sk-dashed-wrapped {border: 1px dashed gray;margin: 0 0.4em 0.5em 0.4em;box-sizing: border-box;padding-bottom: 0.4em;background-color: white;}#sk-container-id-1 div.sk-label label {font-family: monospace;font-weight: bold;display: inline-block;line-height: 1.2em;}#sk-container-id-1 div.sk-label-container {text-align: center;}#sk-container-id-1 div.sk-container {/* jupyter's `normalize.less` sets `[hidden] { display: none; }` but bootstrap.min.css set `[hidden] { display: none !important; }` so we also need the `!important` here to be able to override the default hidden behavior on the sphinx rendered scikit-learn.org. See: https://github.com/scikit-learn/scikit-learn/issues/21755 */display: inline-block !important;position: relative;}#sk-container-id-1 div.sk-text-repr-fallback {display: none;}</style><div id=\"sk-container-id-1\" class=\"sk-top-container\"><div class=\"sk-text-repr-fallback\"><pre>KMeans(init=&#x27;random&#x27;, n_clusters=4, n_init=10, random_state=1)</pre><b>In a Jupyter environment, please rerun this cell to show the HTML representation or trust the notebook. <br />On GitHub, the HTML representation is unable to render, please try loading this page with nbviewer.org.</b></div><div class=\"sk-container\" hidden><div class=\"sk-item\"><div class=\"sk-estimator sk-toggleable\"><input class=\"sk-toggleable__control sk-hidden--visually\" id=\"sk-estimator-id-1\" type=\"checkbox\" checked><label for=\"sk-estimator-id-1\" class=\"sk-toggleable__label sk-toggleable__label-arrow\">KMeans</label><div class=\"sk-toggleable__content\"><pre>KMeans(init=&#x27;random&#x27;, n_clusters=4, n_init=10, random_state=1)</pre></div></div></div></div></div>"
      ],
      "text/plain": [
       "KMeans(init='random', n_clusters=4, n_init=10, random_state=1)"
      ]
     },
     "execution_count": 12,
     "metadata": {},
     "output_type": "execute_result"
    }
   ],
   "source": [
    "#instantiate the k-means class, using optimal number of clusters\n",
    "kmeans = KMeans(init=\"random\", n_clusters= 4, n_init=10, random_state=1)\n",
    "\n",
    "#fit k-means algorithm to data\n",
    "kmeans.fit(df_scaled_fit)"
   ]
  },
  {
   "cell_type": "code",
   "execution_count": 13,
   "metadata": {},
   "outputs": [
    {
     "data": {
      "text/html": [
       "<div>\n",
       "<style scoped>\n",
       "    .dataframe tbody tr th:only-of-type {\n",
       "        vertical-align: middle;\n",
       "    }\n",
       "\n",
       "    .dataframe tbody tr th {\n",
       "        vertical-align: top;\n",
       "    }\n",
       "\n",
       "    .dataframe thead th {\n",
       "        text-align: right;\n",
       "    }\n",
       "</style>\n",
       "<table border=\"1\" class=\"dataframe\">\n",
       "  <thead>\n",
       "    <tr style=\"text-align: right;\">\n",
       "      <th></th>\n",
       "      <th>changerate</th>\n",
       "      <th>pop_tot</th>\n",
       "      <th>transect_geom</th>\n",
       "      <th>polygon</th>\n",
       "      <th>cluster</th>\n",
       "    </tr>\n",
       "    <tr>\n",
       "      <th>hotspot_id</th>\n",
       "      <th></th>\n",
       "      <th></th>\n",
       "      <th></th>\n",
       "      <th></th>\n",
       "      <th></th>\n",
       "    </tr>\n",
       "  </thead>\n",
       "  <tbody>\n",
       "    <tr>\n",
       "      <th>prograding_feature_polygon_1</th>\n",
       "      <td>-0.078720</td>\n",
       "      <td>0.000000</td>\n",
       "      <td>[LINESTRING (13.746586 66.240552, 13.744609 66...</td>\n",
       "      <td>POLYGON ((13.70319 66.23720, 13.69992 66.24432...</td>\n",
       "      <td>cluster 1</td>\n",
       "    </tr>\n",
       "    <tr>\n",
       "      <th>prograding_feature_polygon_10</th>\n",
       "      <td>2.587726</td>\n",
       "      <td>104.331994</td>\n",
       "      <td>[LINESTRING (11.236603 64.078695, 11.240477 64...</td>\n",
       "      <td>POLYGON ((11.24395 64.06700, 11.22636 64.06859...</td>\n",
       "      <td>cluster 3</td>\n",
       "    </tr>\n",
       "    <tr>\n",
       "      <th>prograding_feature_polygon_100</th>\n",
       "      <td>0.957202</td>\n",
       "      <td>2545.999469</td>\n",
       "      <td>[LINESTRING (0.083052 49.365717, 0.070023 49.3...</td>\n",
       "      <td>POLYGON ((0.03342 49.33503, 0.02201 49.34407, ...</td>\n",
       "      <td>cluster 3</td>\n",
       "    </tr>\n",
       "    <tr>\n",
       "      <th>prograding_feature_polygon_1000</th>\n",
       "      <td>0.593314</td>\n",
       "      <td>0.000000</td>\n",
       "      <td>[LINESTRING (62.159666 25.226322, 62.1606 25.2...</td>\n",
       "      <td>POLYGON ((62.16060 25.21009, 62.15967 25.22632...</td>\n",
       "      <td>cluster 3</td>\n",
       "    </tr>\n",
       "    <tr>\n",
       "      <th>prograding_feature_polygon_1002</th>\n",
       "      <td>13.479387</td>\n",
       "      <td>2517.489765</td>\n",
       "      <td>[LINESTRING (63.472553 25.237158, 63.488416 25...</td>\n",
       "      <td>POLYGON ((63.47255 25.23716, 63.47020 25.24198...</td>\n",
       "      <td>cluster 2</td>\n",
       "    </tr>\n",
       "    <tr>\n",
       "      <th>...</th>\n",
       "      <td>...</td>\n",
       "      <td>...</td>\n",
       "      <td>...</td>\n",
       "      <td>...</td>\n",
       "      <td>...</td>\n",
       "    </tr>\n",
       "    <tr>\n",
       "      <th>retreating_feature_polygon_995</th>\n",
       "      <td>-4.560150</td>\n",
       "      <td>8220.132750</td>\n",
       "      <td>[LINESTRING (102.275231 6.18663, 102.282641 6....</td>\n",
       "      <td>POLYGON ((102.27523 6.18663, 102.27114 6.18847...</td>\n",
       "      <td>cluster 1</td>\n",
       "    </tr>\n",
       "    <tr>\n",
       "      <th>retreating_feature_polygon_996</th>\n",
       "      <td>-7.850073</td>\n",
       "      <td>3700.805620</td>\n",
       "      <td>[LINESTRING (102.076671 6.242656, 102.086476 6...</td>\n",
       "      <td>POLYGON ((102.07667 6.24266, 102.06162 6.25240...</td>\n",
       "      <td>cluster 1</td>\n",
       "    </tr>\n",
       "    <tr>\n",
       "      <th>retreating_feature_polygon_997</th>\n",
       "      <td>-1.852390</td>\n",
       "      <td>2208.452375</td>\n",
       "      <td>[LINESTRING (101.99465 6.297944, 102.004942 6....</td>\n",
       "      <td>POLYGON ((101.99465 6.29794, 101.98729 6.30306...</td>\n",
       "      <td>cluster 1</td>\n",
       "    </tr>\n",
       "    <tr>\n",
       "      <th>retreating_feature_polygon_998</th>\n",
       "      <td>-4.876340</td>\n",
       "      <td>1142.509638</td>\n",
       "      <td>[LINESTRING (101.94666 6.33274, 101.958581 6.3...</td>\n",
       "      <td>POLYGON ((101.94666 6.33274, 101.94330 6.33570...</td>\n",
       "      <td>cluster 1</td>\n",
       "    </tr>\n",
       "    <tr>\n",
       "      <th>retreating_feature_polygon_999</th>\n",
       "      <td>9.348758</td>\n",
       "      <td>9566.227000</td>\n",
       "      <td>[LINESTRING (101.836917 6.430309, 101.848284 6...</td>\n",
       "      <td>POLYGON ((101.83692 6.43031, 101.83344 6.43313...</td>\n",
       "      <td>cluster 2</td>\n",
       "    </tr>\n",
       "  </tbody>\n",
       "</table>\n",
       "<p>5049 rows × 5 columns</p>\n",
       "</div>"
      ],
      "text/plain": [
       "                                 changerate      pop_tot  \\\n",
       "hotspot_id                                                 \n",
       "prograding_feature_polygon_1      -0.078720     0.000000   \n",
       "prograding_feature_polygon_10      2.587726   104.331994   \n",
       "prograding_feature_polygon_100     0.957202  2545.999469   \n",
       "prograding_feature_polygon_1000    0.593314     0.000000   \n",
       "prograding_feature_polygon_1002   13.479387  2517.489765   \n",
       "...                                     ...          ...   \n",
       "retreating_feature_polygon_995    -4.560150  8220.132750   \n",
       "retreating_feature_polygon_996    -7.850073  3700.805620   \n",
       "retreating_feature_polygon_997    -1.852390  2208.452375   \n",
       "retreating_feature_polygon_998    -4.876340  1142.509638   \n",
       "retreating_feature_polygon_999     9.348758  9566.227000   \n",
       "\n",
       "                                                                     transect_geom  \\\n",
       "hotspot_id                                                                           \n",
       "prograding_feature_polygon_1     [LINESTRING (13.746586 66.240552, 13.744609 66...   \n",
       "prograding_feature_polygon_10    [LINESTRING (11.236603 64.078695, 11.240477 64...   \n",
       "prograding_feature_polygon_100   [LINESTRING (0.083052 49.365717, 0.070023 49.3...   \n",
       "prograding_feature_polygon_1000  [LINESTRING (62.159666 25.226322, 62.1606 25.2...   \n",
       "prograding_feature_polygon_1002  [LINESTRING (63.472553 25.237158, 63.488416 25...   \n",
       "...                                                                            ...   \n",
       "retreating_feature_polygon_995   [LINESTRING (102.275231 6.18663, 102.282641 6....   \n",
       "retreating_feature_polygon_996   [LINESTRING (102.076671 6.242656, 102.086476 6...   \n",
       "retreating_feature_polygon_997   [LINESTRING (101.99465 6.297944, 102.004942 6....   \n",
       "retreating_feature_polygon_998   [LINESTRING (101.94666 6.33274, 101.958581 6.3...   \n",
       "retreating_feature_polygon_999   [LINESTRING (101.836917 6.430309, 101.848284 6...   \n",
       "\n",
       "                                                                           polygon  \\\n",
       "hotspot_id                                                                           \n",
       "prograding_feature_polygon_1     POLYGON ((13.70319 66.23720, 13.69992 66.24432...   \n",
       "prograding_feature_polygon_10    POLYGON ((11.24395 64.06700, 11.22636 64.06859...   \n",
       "prograding_feature_polygon_100   POLYGON ((0.03342 49.33503, 0.02201 49.34407, ...   \n",
       "prograding_feature_polygon_1000  POLYGON ((62.16060 25.21009, 62.15967 25.22632...   \n",
       "prograding_feature_polygon_1002  POLYGON ((63.47255 25.23716, 63.47020 25.24198...   \n",
       "...                                                                            ...   \n",
       "retreating_feature_polygon_995   POLYGON ((102.27523 6.18663, 102.27114 6.18847...   \n",
       "retreating_feature_polygon_996   POLYGON ((102.07667 6.24266, 102.06162 6.25240...   \n",
       "retreating_feature_polygon_997   POLYGON ((101.99465 6.29794, 101.98729 6.30306...   \n",
       "retreating_feature_polygon_998   POLYGON ((101.94666 6.33274, 101.94330 6.33570...   \n",
       "retreating_feature_polygon_999   POLYGON ((101.83692 6.43031, 101.83344 6.43313...   \n",
       "\n",
       "                                   cluster  \n",
       "hotspot_id                                  \n",
       "prograding_feature_polygon_1     cluster 1  \n",
       "prograding_feature_polygon_10    cluster 3  \n",
       "prograding_feature_polygon_100   cluster 3  \n",
       "prograding_feature_polygon_1000  cluster 3  \n",
       "prograding_feature_polygon_1002  cluster 2  \n",
       "...                                    ...  \n",
       "retreating_feature_polygon_995   cluster 1  \n",
       "retreating_feature_polygon_996   cluster 1  \n",
       "retreating_feature_polygon_997   cluster 1  \n",
       "retreating_feature_polygon_998   cluster 1  \n",
       "retreating_feature_polygon_999   cluster 2  \n",
       "\n",
       "[5049 rows x 5 columns]"
      ]
     },
     "execution_count": 13,
     "metadata": {},
     "output_type": "execute_result"
    }
   ],
   "source": [
    "labels = [f'cluster {int(x)}' for x in kmeans.labels_]\n",
    "df_merged = df_merged.assign(cluster = labels)\n",
    "df_merged"
   ]
  },
  {
   "cell_type": "code",
   "execution_count": 14,
   "metadata": {},
   "outputs": [
    {
     "data": {
      "text/plain": [
       "<AxesSubplot: xlabel='changerate', ylabel='pop_tot'>"
      ]
     },
     "execution_count": 14,
     "metadata": {},
     "output_type": "execute_result"
    },
    {
     "data": {
      "image/png": "[encoded data removed]",
      "text/plain": [
       "<Figure size 640x480 with 1 Axes>"
      ]
     },
     "metadata": {},
     "output_type": "display_data"
    }
   ],
   "source": [
    "import seaborn as sns\n",
    "\n",
    "sns.scatterplot(df_merged, x = 'changerate', y = 'pop_tot', hue = 'cluster')"
   ]
  },
  {
   "cell_type": "code",
   "execution_count": 16,
   "metadata": {},
   "outputs": [
    {
     "name": "stderr",
     "output_type": "stream",
     "text": [
      "c:\\Users\\heijd_de\\Anaconda3\\envs\\geo_env\\lib\\site-packages\\geopandas\\geodataframe.py:1443: SettingWithCopyWarning: \n",
      "A value is trying to be set on a copy of a slice from a DataFrame.\n",
      "Try using .loc[row_indexer,col_indexer] = value instead\n",
      "\n",
      "See the caveats in the documentation: https://pandas.pydata.org/pandas-docs/stable/user_guide/indexing.html#returning-a-view-versus-a-copy\n",
      "  super().__setitem__(key, value)\n",
      "C:\\Users\\heijd_de\\AppData\\Local\\Temp\\ipykernel_3156\\4218278973.py:7: UserWarning: Geometry is in a geographic CRS. Results from 'centroid' are likely incorrect. Use 'GeoSeries.to_crs()' to re-project geometries to a projected CRS before this operation.\n",
      "\n",
      "  df_merged_filt['center_x'] = df_merged_filt['polygon'].centroid.x\n",
      "C:\\Users\\heijd_de\\AppData\\Local\\Temp\\ipykernel_3156\\4218278973.py:8: UserWarning: Geometry is in a geographic CRS. Results from 'centroid' are likely incorrect. Use 'GeoSeries.to_crs()' to re-project geometries to a projected CRS before this operation.\n",
      "\n",
      "  df_merged_filt['center_y'] = df_merged_filt['polygon'].centroid.y\n"
     ]
    },
    {
     "data": {
      "text/html": [
       "<div>\n",
       "<style scoped>\n",
       "    .dataframe tbody tr th:only-of-type {\n",
       "        vertical-align: middle;\n",
       "    }\n",
       "\n",
       "    .dataframe tbody tr th {\n",
       "        vertical-align: top;\n",
       "    }\n",
       "\n",
       "    .dataframe thead th {\n",
       "        text-align: right;\n",
       "    }\n",
       "</style>\n",
       "<table border=\"1\" class=\"dataframe\">\n",
       "  <thead>\n",
       "    <tr style=\"text-align: right;\">\n",
       "      <th></th>\n",
       "      <th>changerate</th>\n",
       "      <th>pop_tot</th>\n",
       "      <th>polygon</th>\n",
       "      <th>cluster</th>\n",
       "      <th>center_x</th>\n",
       "      <th>center_y</th>\n",
       "    </tr>\n",
       "    <tr>\n",
       "      <th>hotspot_id</th>\n",
       "      <th></th>\n",
       "      <th></th>\n",
       "      <th></th>\n",
       "      <th></th>\n",
       "      <th></th>\n",
       "      <th></th>\n",
       "    </tr>\n",
       "  </thead>\n",
       "  <tbody>\n",
       "    <tr>\n",
       "      <th>prograding_feature_polygon_1027</th>\n",
       "      <td>8.002133</td>\n",
       "      <td>40775.602500</td>\n",
       "      <td>POLYGON ((66.93997 24.85026, 66.93661 24.86628...</td>\n",
       "      <td>cluster 0</td>\n",
       "      <td>66.949327</td>\n",
       "      <td>24.860198</td>\n",
       "    </tr>\n",
       "    <tr>\n",
       "      <th>prograding_feature_polygon_1028</th>\n",
       "      <td>9.935418</td>\n",
       "      <td>120593.402131</td>\n",
       "      <td>POLYGON ((67.03490 24.78613, 66.96985 24.79452...</td>\n",
       "      <td>cluster 0</td>\n",
       "      <td>67.002985</td>\n",
       "      <td>24.808198</td>\n",
       "    </tr>\n",
       "  </tbody>\n",
       "</table>\n",
       "</div>"
      ],
      "text/plain": [
       "                                 changerate        pop_tot  \\\n",
       "hotspot_id                                                   \n",
       "prograding_feature_polygon_1027    8.002133   40775.602500   \n",
       "prograding_feature_polygon_1028    9.935418  120593.402131   \n",
       "\n",
       "                                                                           polygon  \\\n",
       "hotspot_id                                                                           \n",
       "prograding_feature_polygon_1027  POLYGON ((66.93997 24.85026, 66.93661 24.86628...   \n",
       "prograding_feature_polygon_1028  POLYGON ((67.03490 24.78613, 66.96985 24.79452...   \n",
       "\n",
       "                                   cluster   center_x   center_y  \n",
       "hotspot_id                                                        \n",
       "prograding_feature_polygon_1027  cluster 0  66.949327  24.860198  \n",
       "prograding_feature_polygon_1028  cluster 0  67.002985  24.808198  "
      ]
     },
     "execution_count": 16,
     "metadata": {},
     "output_type": "execute_result"
    }
   ],
   "source": [
    "df_merged_filt = df_merged[((df_merged['changerate'] <= -5) | (df_merged['changerate'] >= 5)) & (df_merged['pop_tot'] >= 10000)]\n",
    "df_merged_filt['polygon'] = df_merged_filt['polygon'].buffer(0)\n",
    "df_merged_filt = df_merged_filt[df_merged_filt.polygon.area != 0]\n",
    "df_merged_filt.drop('transect_geom', axis = 1, inplace = True)\n",
    "df_merged_filt = df_merged_filt.set_crs('EPSG:4326')\n",
    "\n",
    "df_merged_filt['center_x'] = df_merged_filt['polygon'].centroid.x\n",
    "df_merged_filt['center_y'] = df_merged_filt['polygon'].centroid.y\n",
    "\n",
    "df_merged_filt.head(2)"
   ]
  },
  {
   "cell_type": "code",
   "execution_count": 17,
   "metadata": {},
   "outputs": [
    {
     "data": {
      "application/vnd.plotly.v1+json": {
       "config": {
        "plotlyServerURL": "https://plot.ly"
       },
       "data": [
        {
         "coloraxis": "coloraxis",
         "geojson": {
          "bbox": [
           -122.64355,
           -29.883354,
           141.305413,
           54.913122
          ],
          "features": [
           {
            "bbox": [
             66.936609,
             24.850263,
             66.961156,
             24.869875
            ],
            "geometry": {
             "coordinates": [
              [
               [
                66.939966,
                24.850263
               ],
               [
                66.936609,
                24.866277
               ],
               [
                66.941021,
                24.867039
               ],
               [
                66.949846,
                24.868562
               ],
               [
                66.954259,
                24.869323
               ],
               [
                66.959642,
                24.869875
               ],
               [
                66.961156,
                24.853632
               ],
               [
                66.939966,
                24.850263
               ]
              ]
             ],
             "type": "Polygon"
            },
            "id": "prograding_feature_polygon_1027",
            "properties": {},
            "type": "Feature"
           },
           {
            "bbox": [
             66.964363,
             24.786131,
             67.04819,
             24.8354
            ],
            "geometry": {
             "coordinates": [
              [
               [
                67.034899,
                24.786131
               ],
               [
                66.969854,
                24.794522
               ],
               [
                66.964363,
                24.799325
               ],
               [
                66.965714,
                24.818356
               ],
               [
                66.998482,
                24.8354
               ],
               [
                67.002811,
                24.834315
               ],
               [
                67.009024,
                24.832368
               ],
               [
                67.014047,
                24.829279
               ],
               [
                67.045168,
                24.800122
               ],
               [
                67.04819,
                24.797105
               ],
               [
                67.034899,
                24.786131
               ]
              ]
             ],
             "type": "Polygon"
            },
            "id": "prograding_feature_polygon_1028",
            "properties": {},
            "type": "Feature"
           },
           {
            "bbox": [
             67.037124,
             24.743799,
             67.110172,
             24.793258
            ],
            "geometry": {
             "coordinates": [
              [
               [
                67.083418,
                24.743799
               ],
               [
                67.075863,
                24.744918
               ],
               [
                67.071798,
                24.746654
               ],
               [
                67.066301,
                24.750208
               ],
               [
                67.062012,
                24.753762
               ],
               [
                67.059021,
                24.756805
               ],
               [
                67.055529,
                24.760564
               ],
               [
                67.037124,
                24.783709
               ],
               [
                67.05169,
                24.793258
               ],
               [
                67.109168,
                24.770939
               ],
               [
                67.110172,
                24.764892
               ],
               [
                67.107624,
                24.756047
               ],
               [
                67.10296,
                24.751199
               ],
               [
                67.098063,
                24.748075
               ],
               [
                67.090891,
                24.745002
               ],
               [
                67.083418,
                24.743799
               ]
              ]
             ],
             "type": "Polygon"
            },
            "id": "prograding_feature_polygon_1029",
            "properties": {},
            "type": "Feature"
           },
           {
            "bbox": [
             72.743038,
             21.139136,
             72.800834,
             21.194987
            ],
            "geometry": {
             "coordinates": [
              [
               [
                72.762366,
                21.139136
               ],
               [
                72.751071,
                21.152167
               ],
               [
                72.743038,
                21.166673
               ],
               [
                72.746324,
                21.169528
               ],
               [
                72.749611,
                21.172383
               ],
               [
                72.780874,
                21.193874
               ],
               [
                72.787698,
                21.194987
               ],
               [
                72.800834,
                21.167537
               ],
               [
                72.762366,
                21.139136
               ]
              ]
             ],
             "type": "Polygon"
            },
            "id": "prograding_feature_polygon_1070",
            "properties": {},
            "type": "Feature"
           },
           {
            "bbox": [
             74.971706,
             12.474567,
             74.993523,
             12.493902
            ],
            "geometry": {
             "coordinates": [
              [
               [
                74.977336,
                12.474567
               ],
               [
                74.975309,
                12.478832
               ],
               [
                74.971706,
                12.486866
               ],
               [
                74.988164,
                12.493902
               ],
               [
                74.993523,
                12.482179
               ],
               [
                74.977336,
                12.474567
               ]
              ]
             ],
             "type": "Polygon"
            },
            "id": "prograding_feature_polygon_1072",
            "properties": {},
            "type": "Feature"
           },
           {
            "bbox": [
             80.333537,
             13.242686,
             80.346604,
             13.255471
            ],
            "geometry": {
             "coordinates": [
              [
               [
                80.343799,
                13.242686
               ],
               [
                80.333578,
                13.244992
               ],
               [
                80.333537,
                13.248644
               ],
               [
                80.335906,
                13.255471
               ],
               [
                80.346604,
                13.255073
               ],
               [
                80.34482,
                13.246944
               ],
               [
                80.343799,
                13.242686
               ]
              ]
             ],
             "type": "Polygon"
            },
            "id": "prograding_feature_polygon_1104",
            "properties": {},
            "type": "Feature"
           },
           {
            "bbox": [
             80.337163,
             13.285554,
             80.356075,
             13.300416
            ],
            "geometry": {
             "coordinates": [
              [
               [
                80.354905,
                13.285554
               ],
               [
                80.337163,
                13.288307
               ],
               [
                80.338061,
                13.299511
               ],
               [
                80.356003,
                13.300416
               ],
               [
                80.356075,
                13.29537
               ],
               [
                80.355612,
                13.289871
               ],
               [
                80.354905,
                13.285554
               ]
              ]
             ],
             "type": "Polygon"
            },
            "id": "prograding_feature_polygon_1105",
            "properties": {},
            "type": "Feature"
           },
           {
            "bbox": [
             82.263806,
             16.959271,
             82.288998,
             16.982159
            ],
            "geometry": {
             "coordinates": [
              [
               [
                82.279971,
                16.959271
               ],
               [
                82.263806,
                16.966361
               ],
               [
                82.270532,
                16.980049
               ],
               [
                82.288362,
                16.982159
               ],
               [
                82.288914,
                16.977896
               ],
               [
                82.288998,
                16.972172
               ],
               [
                82.283594,
                16.961811
               ],
               [
                82.2802,
                16.95933
               ],
               [
                82.279971,
                16.959271
               ]
              ]
             ],
             "type": "Polygon"
            },
            "id": "prograding_feature_polygon_1120",
            "properties": {},
            "type": "Feature"
           },
           {
            "bbox": [
             82.277354,
             16.986419,
             82.30835,
             17.036727
            ],
            "geometry": {
             "coordinates": [
              [
               [
                82.284321,
                16.986419
               ],
               [
                82.277354,
                17.003832
               ],
               [
                82.278132,
                17.008062
               ],
               [
                82.281102,
                17.014547
               ],
               [
                82.290208,
                17.032855
               ],
               [
                82.29215,
                17.036727
               ],
               [
                82.30835,
                17.029299
               ],
               [
                82.303127,
                17.013713
               ],
               [
                82.295049,
                17.000857
               ],
               [
                82.284321,
                16.986419
               ]
              ]
             ],
             "type": "Polygon"
            },
            "id": "prograding_feature_polygon_1121",
            "properties": {},
            "type": "Feature"
           },
           {
            "bbox": [
             88.160154,
             22.066679,
             88.201024,
             22.111564
            ],
            "geometry": {
             "coordinates": [
              [
               [
                88.171981,
                22.066679
               ],
               [
                88.160154,
                22.079213
               ],
               [
                88.182894,
                22.107239
               ],
               [
                88.200243,
                22.111564
               ],
               [
                88.201024,
                22.105104
               ],
               [
                88.200159,
                22.098562
               ],
               [
                88.198738,
                22.094614
               ],
               [
                88.195685,
                22.089343
               ],
               [
                88.192424,
                22.08494
               ],
               [
                88.189034,
                22.081195
               ],
               [
                88.185897,
                22.078216
               ],
               [
                88.182124,
                22.074899
               ],
               [
                88.175362,
                22.069419
               ],
               [
                88.171981,
                22.066679
               ]
              ]
             ],
             "type": "Polygon"
            },
            "id": "prograding_feature_polygon_1146",
            "properties": {},
            "type": "Feature"
           },
           {
            "bbox": [
             -1.237406,
             46.153637,
             -1.210665,
             46.178585
            ],
            "geometry": {
             "coordinates": [
              [
               [
                -1.234282,
                46.153637
               ],
               [
                -1.237406,
                46.155872
               ],
               [
                -1.233867,
                46.169673
               ],
               [
                -1.226735,
                46.178585
               ],
               [
                -1.210665,
                46.173021
               ],
               [
                -1.211128,
                46.171234
               ],
               [
                -1.21459,
                46.166215
               ],
               [
                -1.217317,
                46.163743
               ],
               [
                -1.221198,
                46.16085
               ],
               [
                -1.234282,
                46.153637
               ]
              ]
             ],
             "type": "Polygon"
            },
            "id": "prograding_feature_polygon_115",
            "properties": {},
            "type": "Feature"
           },
           {
            "bbox": [
             91.941212,
             21.446891,
             91.975614,
             21.475501
            ],
            "geometry": {
             "coordinates": [
              [
               [
                91.944098,
                21.446891
               ],
               [
                91.941819,
                21.453254
               ],
               [
                91.941212,
                21.457396
               ],
               [
                91.941861,
                21.463978
               ],
               [
                91.94837,
                21.473393
               ],
               [
                91.952248,
                21.475501
               ],
               [
                91.975525,
                21.467278
               ],
               [
                91.975614,
                21.465038
               ],
               [
                91.960316,
                21.454085
               ],
               [
                91.944098,
                21.446891
               ]
              ]
             ],
             "type": "Polygon"
            },
            "id": "prograding_feature_polygon_1152",
            "properties": {},
            "type": "Feature"
           },
           {
            "bbox": [
             100.356749,
             5.401554,
             100.38259,
             5.430959
            ],
            "geometry": {
             "coordinates": [
              [
               [
                100.374701,
                5.401554
               ],
               [
                100.356749,
                5.402286
               ],
               [
                100.357267,
                5.408672
               ],
               [
                100.358417,
                5.412994
               ],
               [
                100.360462,
                5.419011
               ],
               [
                100.364546,
                5.426977
               ],
               [
                100.366588,
                5.430959
               ],
               [
                100.38259,
                5.422829
               ],
               [
                100.374701,
                5.401554
               ]
              ]
             ],
             "type": "Polygon"
            },
            "id": "prograding_feature_polygon_1164",
            "properties": {},
            "type": "Feature"
           },
           {
            "bbox": [
             102.178071,
             2.182367,
             102.232137,
             2.22294
            ],
            "geometry": {
             "coordinates": [
              [
               [
                102.228983,
                2.182367
               ],
               [
                102.218912,
                2.185281
               ],
               [
                102.193944,
                2.196072
               ],
               [
                102.180446,
                2.206976
               ],
               [
                102.178071,
                2.209685
               ],
               [
                102.190188,
                2.22294
               ],
               [
                102.232137,
                2.200041
               ],
               [
                102.228983,
                2.182367
               ]
              ]
             ],
             "type": "Polygon"
            },
            "id": "prograding_feature_polygon_1166",
            "properties": {},
            "type": "Feature"
           },
           {
            "bbox": [
             103.904326,
             1.41099,
             103.915177,
             1.443753
            ],
            "geometry": {
             "coordinates": [
              [
               [
                103.905479,
                1.41099
               ],
               [
                103.904326,
                1.425931
               ],
               [
                103.906555,
                1.443753
               ],
               [
                103.915177,
                1.442822
               ],
               [
                103.913565,
                1.424934
               ],
               [
                103.905479,
                1.41099
               ]
              ]
             ],
             "type": "Polygon"
            },
            "id": "prograding_feature_polygon_1167",
            "properties": {},
            "type": "Feature"
           },
           {
            "bbox": [
             105.066473,
             9.951039,
             105.10641,
             10.016018
            ],
            "geometry": {
             "coordinates": [
              [
               [
                105.105743,
                9.951039
               ],
               [
                105.088705,
                9.957068
               ],
               [
                105.066473,
                10.005568
               ],
               [
                105.080971,
                10.016018
               ],
               [
                105.08386,
                10.011439
               ],
               [
                105.086099,
                10.007604
               ],
               [
                105.088337,
                10.00377
               ],
               [
                105.090861,
                9.99913
               ],
               [
                105.094576,
                9.991075
               ],
               [
                105.100148,
                9.978993
               ],
               [
                105.102203,
                9.974105
               ],
               [
                105.103649,
                9.969917
               ],
               [
                105.105095,
                9.965729
               ],
               [
                105.10641,
                9.960075
               ],
               [
                105.105743,
                9.951039
               ]
              ]
             ],
             "type": "Polygon"
            },
            "id": "prograding_feature_polygon_1194",
            "properties": {},
            "type": "Feature"
           },
           {
            "bbox": [
             108.554642,
             11.155575,
             108.566819,
             11.173014
            ],
            "geometry": {
             "coordinates": [
              [
               [
                108.561387,
                11.155575
               ],
               [
                108.554642,
                11.171912
               ],
               [
                108.55743,
                11.173014
               ],
               [
                108.566819,
                11.157986
               ],
               [
                108.561387,
                11.155575
               ]
              ]
             ],
             "type": "Polygon"
            },
            "id": "prograding_feature_polygon_1204",
            "properties": {},
            "type": "Feature"
           },
           {
            "bbox": [
             105.709235,
             18.816292,
             105.729215,
             18.832681
            ],
            "geometry": {
             "coordinates": [
              [
               [
                105.712402,
                18.816292
               ],
               [
                105.710818,
                18.82027
               ],
               [
                105.709235,
                18.824249
               ],
               [
                105.709734,
                18.826862
               ],
               [
                105.72568,
                18.832681
               ],
               [
                105.729215,
                18.822287
               ],
               [
                105.712402,
                18.816292
               ]
              ]
             ],
             "type": "Polygon"
            },
            "id": "prograding_feature_polygon_1217",
            "properties": {},
            "type": "Feature"
           },
           {
            "bbox": [
             106.362176,
             20.176157,
             106.387213,
             20.198583
            ],
            "geometry": {
             "coordinates": [
              [
               [
                106.37218,
                20.176157
               ],
               [
                106.362176,
                20.190163
               ],
               [
                106.366889,
                20.192655
               ],
               [
                106.370856,
                20.194631
               ],
               [
                106.378791,
                20.198583
               ],
               [
                106.387213,
                20.183689
               ],
               [
                106.37218,
                20.176157
               ]
              ]
             ],
             "type": "Polygon"
            },
            "id": "prograding_feature_polygon_1223",
            "properties": {},
            "type": "Feature"
           },
           {
            "bbox": [
             107.028329,
             20.952278,
             107.080547,
             21.006389
            ],
            "geometry": {
             "coordinates": [
              [
               [
                107.066777,
                20.952278
               ],
               [
                107.053011,
                20.958991
               ],
               [
                107.030049,
                20.980531
               ],
               [
                107.02857,
                20.997249
               ],
               [
                107.028329,
                21.006389
               ],
               [
                107.080547,
                20.960684
               ],
               [
                107.066777,
                20.952278
               ]
              ]
             ],
             "type": "Polygon"
            },
            "id": "prograding_feature_polygon_1225",
            "properties": {},
            "type": "Feature"
           },
           {
            "bbox": [
             107.052816,
             20.930348,
             107.12547,
             20.962839
            ],
            "geometry": {
             "coordinates": [
              [
               [
                107.12547,
                20.930348
               ],
               [
                107.120097,
                20.930541
               ],
               [
                107.115624,
                20.930922
               ],
               [
                107.110028,
                20.932006
               ],
               [
                107.074828,
                20.942257
               ],
               [
                107.068726,
                20.945242
               ],
               [
                107.052816,
                20.962839
               ],
               [
                107.079142,
                20.958913
               ],
               [
                107.093447,
                20.955425
               ],
               [
                107.125319,
                20.947127
               ],
               [
                107.12547,
                20.930348
               ]
              ]
             ],
             "type": "Polygon"
            },
            "id": "prograding_feature_polygon_1226",
            "properties": {},
            "type": "Feature"
           },
           {
            "bbox": [
             107.267637,
             20.989763,
             107.277328,
             21.006725
            ],
            "geometry": {
             "coordinates": [
              [
               [
                107.276146,
                20.989763
               ],
               [
                107.267887,
                20.989895
               ],
               [
                107.267637,
                21.006667
               ],
               [
                107.272129,
                21.006725
               ],
               [
                107.277328,
                21.0065
               ],
               [
                107.276146,
                20.989763
               ]
              ]
             ],
             "type": "Polygon"
            },
            "id": "prograding_feature_polygon_1227",
            "properties": {},
            "type": "Feature"
           },
           {
            "bbox": [
             107.276146,
             20.987952,
             107.292538,
             21.0065
            ],
            "geometry": {
             "coordinates": [
              [
               [
                107.2874,
                20.987952
               ],
               [
                107.276146,
                20.989763
               ],
               [
                107.277328,
                21.0065
               ],
               [
                107.282629,
                21.006041
               ],
               [
                107.287064,
                21.005378
               ],
               [
                107.292538,
                21.004025
               ],
               [
                107.2874,
                20.987952
               ]
              ]
             ],
             "type": "Polygon"
            },
            "id": "prograding_feature_polygon_1228",
            "properties": {},
            "type": "Feature"
           },
           {
            "bbox": [
             -8.403479,
             43.335309,
             -8.376999,
             43.381097
            ],
            "geometry": {
             "coordinates": [
              [
               [
                -8.380548,
                43.335309
               ],
               [
                -8.389649,
                43.337813
               ],
               [
                -8.394796,
                43.3433
               ],
               [
                -8.403479,
                43.360649
               ],
               [
                -8.403068,
                43.376663
               ],
               [
                -8.386169,
                43.381097
               ],
               [
                -8.384451,
                43.377175
               ],
               [
                -8.377843,
                43.353227
               ],
               [
                -8.376999,
                43.348145
               ],
               [
                -8.380548,
                43.335309
               ]
              ]
             ],
             "type": "Polygon"
            },
            "id": "prograding_feature_polygon_123",
            "properties": {},
            "type": "Feature"
           },
           {
            "bbox": [
             109.037186,
             21.458582,
             109.075264,
             21.487635
            ],
            "geometry": {
             "coordinates": [
              [
               [
                109.037186,
                21.458582
               ],
               [
                109.037279,
                21.464186
               ],
               [
                109.046234,
                21.473803
               ],
               [
                109.048262,
                21.475414
               ],
               [
                109.062005,
                21.484638
               ],
               [
                109.06667,
                21.487635
               ],
               [
                109.075264,
                21.472954
               ],
               [
                109.072598,
                21.471134
               ],
               [
                109.06897,
                21.468669
               ],
               [
                109.061714,
                21.46374
               ],
               [
                109.057151,
                21.460884
               ],
               [
                109.055085,
                21.460023
               ],
               [
                109.037186,
                21.458582
               ]
              ]
             ],
             "type": "Polygon"
            },
            "id": "prograding_feature_polygon_1241",
            "properties": {},
            "type": "Feature"
           },
           {
            "bbox": [
             110.410589,
             21.203517,
             110.454301,
             21.255082
            ],
            "geometry": {
             "coordinates": [
              [
               [
                110.441318,
                21.203517
               ],
               [
                110.424949,
                21.21042
               ],
               [
                110.410589,
                21.217413
               ],
               [
                110.412761,
                21.225538
               ],
               [
                110.413848,
                21.2296
               ],
               [
                110.436604,
                21.255082
               ],
               [
                110.444031,
                21.254703
               ],
               [
                110.452359,
                21.249949
               ],
               [
                110.454301,
                21.235886
               ],
               [
                110.445007,
                21.211981
               ],
               [
                110.443169,
                21.207333
               ],
               [
                110.441318,
                21.203517
               ]
              ]
             ],
             "type": "Polygon"
            },
            "id": "prograding_feature_polygon_1270",
            "properties": {},
            "type": "Feature"
           },
           {
            "bbox": [
             111.264116,
             21.48671,
             111.277797,
             21.503704
            ],
            "geometry": {
             "coordinates": [
              [
               [
                111.26692,
                21.48671
               ],
               [
                111.264116,
                21.503222
               ],
               [
                111.269849,
                21.503704
               ],
               [
                111.277797,
                21.502708
               ],
               [
                111.271052,
                21.487214
               ],
               [
                111.270111,
                21.486989
               ],
               [
                111.26692,
                21.48671
               ]
              ]
             ],
             "type": "Polygon"
            },
            "id": "prograding_feature_polygon_1287",
            "properties": {},
            "type": "Feature"
           },
           {
            "bbox": [
             113.831007,
             22.559064,
             113.851233,
             22.573754
            ],
            "geometry": {
             "coordinates": [
              [
               [
                113.835387,
                22.559064
               ],
               [
                113.83327,
                22.562722
               ],
               [
                113.831007,
                22.566937
               ],
               [
                113.847386,
                22.573754
               ],
               [
                113.851233,
                22.566885
               ],
               [
                113.835387,
                22.559064
               ]
              ]
             ],
             "type": "Polygon"
            },
            "id": "prograding_feature_polygon_1303",
            "properties": {},
            "type": "Feature"
           },
           {
            "bbox": [
             113.846041,
             22.510946,
             113.875823,
             22.551813
            ],
            "geometry": {
             "coordinates": [
              [
               [
                113.872782,
                22.510946
               ],
               [
                113.851095,
                22.527922
               ],
               [
                113.848021,
                22.532849
               ],
               [
                113.846041,
                22.537486
               ],
               [
                113.870983,
                22.551813
               ],
               [
                113.875823,
                22.551433
               ],
               [
                113.875211,
                22.538984
               ],
               [
                113.872782,
                22.510946
               ]
              ]
             ],
             "type": "Polygon"
            },
            "id": "prograding_feature_polygon_1304",
            "properties": {},
            "type": "Feature"
           },
           {
            "bbox": [
             113.854046,
             22.453509,
             113.890242,
             22.538982
            ],
            "geometry": {
             "coordinates": [
              [
               [
                113.88462,
                22.453509
               ],
               [
                113.869053,
                22.459014
               ],
               [
                113.866807,
                22.462608
               ],
               [
                113.864495,
                22.467671
               ],
               [
                113.86291,
                22.471554
               ],
               [
                113.861399,
                22.476241
               ],
               [
                113.860196,
                22.480239
               ],
               [
                113.858921,
                22.484704
               ],
               [
                113.857007,
                22.492814
               ],
               [
                113.855967,
                22.497358
               ],
               [
                113.85458,
                22.505558
               ],
               [
                113.854046,
                22.512502
               ],
               [
                113.861889,
                22.538982
               ],
               [
                113.872782,
                22.510946
               ],
               [
                113.890242,
                22.460656
               ],
               [
                113.88462,
                22.453509
               ]
              ]
             ],
             "type": "Polygon"
            },
            "id": "prograding_feature_polygon_1306",
            "properties": {},
            "type": "Feature"
           },
           {
            "bbox": [
             113.90517,
             22.472919,
             113.938473,
             22.493916
            ],
            "geometry": {
             "coordinates": [
              [
               [
                113.917554,
                22.472919
               ],
               [
                113.90517,
                22.484947
               ],
               [
                113.909889,
                22.488712
               ],
               [
                113.915842,
                22.491307
               ],
               [
                113.92248,
                22.492652
               ],
               [
                113.934362,
                22.493916
               ],
               [
                113.938473,
                22.477756
               ],
               [
                113.917554,
                22.472919
               ]
              ]
             ],
             "type": "Polygon"
            },
            "id": "prograding_feature_polygon_1307",
            "properties": {},
            "type": "Feature"
           },
           {
            "bbox": [
             114.223226,
             22.535699,
             114.264871,
             22.579196
            ],
            "geometry": {
             "coordinates": [
              [
               [
                114.245922,
                22.535699
               ],
               [
                114.235082,
                22.54183
               ],
               [
                114.223226,
                22.554297
               ],
               [
                114.2266,
                22.557035
               ],
               [
                114.229975,
                22.559772
               ],
               [
                114.249262,
                22.573902
               ],
               [
                114.255374,
                22.577163
               ],
               [
                114.261639,
                22.579196
               ],
               [
                114.264871,
                22.562876
               ],
               [
                114.249105,
                22.5388
               ],
               [
                114.245922,
                22.535699
               ]
              ]
             ],
             "type": "Polygon"
            },
            "id": "prograding_feature_polygon_1310",
            "properties": {},
            "type": "Feature"
           },
           {
            "bbox": [
             114.267635,
             22.561007,
             114.312143,
             22.594579
            ],
            "geometry": {
             "coordinates": [
              [
               [
                114.276585,
                22.561007
               ],
               [
                114.26977,
                22.562299
               ],
               [
                114.267635,
                22.563022
               ],
               [
                114.267799,
                22.579611
               ],
               [
                114.273216,
                22.587843
               ],
               [
                114.295333,
                22.594579
               ],
               [
                114.312143,
                22.588723
               ],
               [
                114.310727,
                22.584992
               ],
               [
                114.308507,
                22.580061
               ],
               [
                114.301881,
                22.573658
               ],
               [
                114.287463,
                22.565785
               ],
               [
                114.276585,
                22.561007
               ]
              ]
             ],
             "type": "Polygon"
            },
            "id": "prograding_feature_polygon_1311",
            "properties": {},
            "type": "Feature"
           },
           {
            "bbox": [
             115.393472,
             22.751869,
             115.435679,
             22.796924
            ],
            "geometry": {
             "coordinates": [
              [
               [
                115.424542,
                22.751869
               ],
               [
                115.423054,
                22.752141
               ],
               [
                115.400734,
                22.780482
               ],
               [
                115.393472,
                22.795632
               ],
               [
                115.400232,
                22.796924
               ],
               [
                115.407516,
                22.796292
               ],
               [
                115.414171,
                22.79363
               ],
               [
                115.419418,
                22.789839
               ],
               [
                115.423495,
                22.785716
               ],
               [
                115.426908,
                22.781447
               ],
               [
                115.431378,
                22.774263
               ],
               [
                115.43384,
                22.769488
               ],
               [
                115.435679,
                22.764161
               ],
               [
                115.424542,
                22.751869
               ]
              ]
             ],
             "type": "Polygon"
            },
            "id": "prograding_feature_polygon_1317",
            "properties": {},
            "type": "Feature"
           },
           {
            "bbox": [
             -5.455016,
             36.124908,
             -5.416979,
             36.144374
            ],
            "geometry": {
             "coordinates": [
              [
               [
                -5.443719,
                36.124908
               ],
               [
                -5.447352,
                36.125199
               ],
               [
                -5.455016,
                36.131363
               ],
               [
                -5.453886,
                36.133584
               ],
               [
                -5.452254,
                36.13635
               ],
               [
                -5.424831,
                36.144374
               ],
               [
                -5.416979,
                36.12954
               ],
               [
                -5.443719,
                36.124908
               ]
              ]
             ],
             "type": "Polygon"
            },
            "id": "prograding_feature_polygon_132",
            "properties": {},
            "type": "Feature"
           },
           {
            "bbox": [
             116.651442,
             23.182297,
             116.669819,
             23.19254
            ],
            "geometry": {
             "coordinates": [
              [
               [
                116.667675,
                23.182297
               ],
               [
                116.651442,
                23.189374
               ],
               [
                116.65304,
                23.19254
               ],
               [
                116.669819,
                23.186635
               ],
               [
                116.667675,
                23.182297
               ]
              ]
             ],
             "type": "Polygon"
            },
            "id": "prograding_feature_polygon_1322",
            "properties": {},
            "type": "Feature"
           },
           {
            "bbox": [
             117.943185,
             24.446814,
             117.975986,
             24.47422
            ],
            "geometry": {
             "coordinates": [
              [
               [
                117.974553,
                24.446814
               ],
               [
                117.968659,
                24.447931
               ],
               [
                117.963327,
                24.449692
               ],
               [
                117.943185,
                24.459284
               ],
               [
                117.9505,
                24.47422
               ],
               [
                117.958705,
                24.470891
               ],
               [
                117.975986,
                24.463116
               ],
               [
                117.974553,
                24.446814
               ]
              ]
             ],
             "type": "Polygon"
            },
            "id": "prograding_feature_polygon_1341",
            "properties": {},
            "type": "Feature"
           },
           {
            "bbox": [
             118.020983,
             24.433327,
             118.060985,
             24.463414
            ],
            "geometry": {
             "coordinates": [
              [
               [
                118.034778,
                24.433327
               ],
               [
                118.029749,
                24.434127
               ],
               [
                118.020983,
                24.435913
               ],
               [
                118.024907,
                24.451874
               ],
               [
                118.027923,
                24.459634
               ],
               [
                118.045403,
                24.463414
               ],
               [
                118.060985,
                24.448791
               ],
               [
                118.04909,
                24.439713
               ],
               [
                118.034778,
                24.433327
               ]
              ]
             ],
             "type": "Polygon"
            },
            "id": "prograding_feature_polygon_1342",
            "properties": {},
            "type": "Feature"
           },
           {
            "bbox": [
             118.026369,
             24.459634,
             118.057217,
             24.496173
            ],
            "geometry": {
             "coordinates": [
              [
               [
                118.027923,
                24.459634
               ],
               [
                118.026802,
                24.464604
               ],
               [
                118.026369,
                24.470405
               ],
               [
                118.027626,
                24.476635
               ],
               [
                118.030485,
                24.481929
               ],
               [
                118.033846,
                24.486045
               ],
               [
                118.043863,
                24.496173
               ],
               [
                118.057217,
                24.485235
               ],
               [
                118.045403,
                24.463414
               ],
               [
                118.027923,
                24.459634
               ]
              ]
             ],
             "type": "Polygon"
            },
            "id": "prograding_feature_polygon_1343",
            "properties": {},
            "type": "Feature"
           },
           {
            "bbox": [
             118.067758,
             24.491001,
             118.08562,
             24.505564
            ],
            "geometry": {
             "coordinates": [
              [
               [
                118.079043,
                24.491001
               ],
               [
                118.067758,
                24.503331
               ],
               [
                118.068885,
                24.504486
               ],
               [
                118.085556,
                24.505564
               ],
               [
                118.08562,
                24.497446
               ],
               [
                118.079043,
                24.491001
               ]
              ]
             ],
             "type": "Polygon"
            },
            "id": "prograding_feature_polygon_1344",
            "properties": {},
            "type": "Feature"
           },
           {
            "bbox": [
             118.03149,
             24.544269,
             118.07127,
             24.577087
            ],
            "geometry": {
             "coordinates": [
              [
               [
                118.04179,
                24.544269
               ],
               [
                118.03149,
                24.557659
               ],
               [
                118.061186,
                24.575304
               ],
               [
                118.070761,
                24.577087
               ],
               [
                118.07127,
                24.561781
               ],
               [
                118.070542,
                24.560749
               ],
               [
                118.065695,
                24.556385
               ],
               [
                118.062202,
                24.553817
               ],
               [
                118.05719,
                24.550758
               ],
               [
                118.052227,
                24.548525
               ],
               [
                118.04179,
                24.544269
               ]
              ]
             ],
             "type": "Polygon"
            },
            "id": "prograding_feature_polygon_1346",
            "properties": {},
            "type": "Feature"
           },
           {
            "bbox": [
             118.098731,
             24.564603,
             118.130879,
             24.603057
            ],
            "geometry": {
             "coordinates": [
              [
               [
                118.109766,
                24.564603
               ],
               [
                118.098731,
                24.577497
               ],
               [
                118.105608,
                24.588851
               ],
               [
                118.108437,
                24.592999
               ],
               [
                118.111093,
                24.596293
               ],
               [
                118.114252,
                24.599936
               ],
               [
                118.117149,
                24.603057
               ],
               [
                118.130879,
                24.59252
               ],
               [
                118.117937,
                24.572982
               ],
               [
                118.113948,
                24.568193
               ],
               [
                118.109766,
                24.564603
               ]
              ]
             ],
             "type": "Polygon"
            },
            "id": "prograding_feature_polygon_1347",
            "properties": {},
            "type": "Feature"
           },
           {
            "bbox": [
             118.117149,
             24.59252,
             118.145184,
             24.618211
            ],
            "geometry": {
             "coordinates": [
              [
               [
                118.130879,
                24.59252
               ],
               [
                118.117149,
                24.603057
               ],
               [
                118.129622,
                24.618211
               ],
               [
                118.145184,
                24.610048
               ],
               [
                118.14242,
                24.605908
               ],
               [
                118.139822,
                24.602576
               ],
               [
                118.136673,
                24.598762
               ],
               [
                118.130879,
                24.59252
               ]
              ]
             ],
             "type": "Polygon"
            },
            "id": "prograding_feature_polygon_1348",
            "properties": {},
            "type": "Feature"
           },
           {
            "bbox": [
             118.140136,
             24.625553,
             118.176023,
             24.645456
            ],
            "geometry": {
             "coordinates": [
              [
               [
                118.165379,
                24.625553
               ],
               [
                118.154003,
                24.627278
               ],
               [
                118.140136,
                24.637661
               ],
               [
                118.145079,
                24.642096
               ],
               [
                118.151412,
                24.645456
               ],
               [
                118.161038,
                24.645303
               ],
               [
                118.167255,
                24.641544
               ],
               [
                118.176023,
                24.630716
               ],
               [
                118.165379,
                24.625553
               ]
              ]
             ],
             "type": "Polygon"
            },
            "id": "prograding_feature_polygon_1350",
            "properties": {},
            "type": "Feature"
           },
           {
            "bbox": [
             118.419342,
             24.651478,
             118.45779,
             24.673587
            ],
            "geometry": {
             "coordinates": [
              [
               [
                118.437155,
                24.651478
               ],
               [
                118.419342,
                24.653612
               ],
               [
                118.420321,
                24.658428
               ],
               [
                118.421777,
                24.663029
               ],
               [
                118.425476,
                24.673587
               ],
               [
                118.443161,
                24.670712
               ],
               [
                118.45779,
                24.663347
               ],
               [
                118.454896,
                24.655619
               ],
               [
                118.453692,
                24.652505
               ],
               [
                118.437155,
                24.651478
               ]
              ]
             ],
             "type": "Polygon"
            },
            "id": "prograding_feature_polygon_1354",
            "properties": {},
            "type": "Feature"
           },
           {
            "bbox": [
             118.423184,
             24.655619,
             118.460349,
             24.698079
            ],
            "geometry": {
             "coordinates": [
              [
               [
                118.454896,
                24.655619
               ],
               [
                118.437888,
                24.660879
               ],
               [
                118.423184,
                24.666906
               ],
               [
                118.427058,
                24.681622
               ],
               [
                118.428902,
                24.687697
               ],
               [
                118.430872,
                24.691365
               ],
               [
                118.437516,
                24.698079
               ],
               [
                118.452772,
                24.693019
               ],
               [
                118.455292,
                24.688683
               ],
               [
                118.457133,
                24.68496
               ],
               [
                118.459401,
                24.67966
               ],
               [
                118.460349,
                24.673078
               ],
               [
                118.459237,
                24.667211
               ],
               [
                118.454896,
                24.655619
               ]
              ]
             ],
             "type": "Polygon"
            },
            "id": "prograding_feature_polygon_1355",
            "properties": {},
            "type": "Feature"
           },
           {
            "bbox": [
             118.726343,
             24.712276,
             118.744601,
             24.721257
            ],
            "geometry": {
             "coordinates": [
              [
               [
                118.743788,
                24.712276
               ],
               [
                118.726343,
                24.71618
               ],
               [
                118.727994,
                24.721257
               ],
               [
                118.744601,
                24.715028
               ],
               [
                118.743788,
                24.712276
               ]
              ]
             ],
             "type": "Polygon"
            },
            "id": "prograding_feature_polygon_1360",
            "properties": {},
            "type": "Feature"
           },
           {
            "bbox": [
             118.753547,
             24.735549,
             118.784804,
             24.760264
            ],
            "geometry": {
             "coordinates": [
              [
               [
                118.768706,
                24.735549
               ],
               [
                118.753547,
                24.744308
               ],
               [
                118.766855,
                24.760264
               ],
               [
                118.784804,
                24.759564
               ],
               [
                118.782849,
                24.752321
               ],
               [
                118.779878,
                24.747334
               ],
               [
                118.777133,
                24.744105
               ],
               [
                118.768706,
                24.735549
               ]
              ]
             ],
             "type": "Polygon"
            },
            "id": "prograding_feature_polygon_1361",
            "properties": {},
            "type": "Feature"
           },
           {
            "bbox": [
             118.65315,
             24.912311,
             118.683139,
             24.948861
            ],
            "geometry": {
             "coordinates": [
              [
               [
                118.66666,
                24.912311
               ],
               [
                118.65315,
                24.923052
               ],
               [
                118.665581,
                24.948861
               ],
               [
                118.683139,
                24.945408
               ],
               [
                118.682549,
                24.926041
               ],
               [
                118.675174,
                24.916184
               ],
               [
                118.66666,
                24.912311
               ]
              ]
             ],
             "type": "Polygon"
            },
            "id": "prograding_feature_polygon_1364",
            "properties": {},
            "type": "Feature"
           },
           {
            "bbox": [
             118.674125,
             24.84325,
             118.730828,
             24.907795
            ],
            "geometry": {
             "coordinates": [
              [
               [
                118.724231,
                24.84325
               ],
               [
                118.718516,
                24.843261
               ],
               [
                118.714025,
                24.843343
               ],
               [
                118.708026,
                24.843774
               ],
               [
                118.701358,
                24.845614
               ],
               [
                118.674125,
                24.876489
               ],
               [
                118.677405,
                24.883993
               ],
               [
                118.695395,
                24.902408
               ],
               [
                118.698409,
                24.904985
               ],
               [
                118.724471,
                24.907795
               ],
               [
                118.72794,
                24.903248
               ],
               [
                118.730828,
                24.897022
               ],
               [
                118.724231,
                24.84325
               ]
              ]
             ],
             "type": "Polygon"
            },
            "id": "prograding_feature_polygon_1365",
            "properties": {},
            "type": "Feature"
           },
           {
            "bbox": [
             118.933427,
             25.143047,
             118.99744,
             25.198449
            ],
            "geometry": {
             "coordinates": [
              [
               [
                118.950418,
                25.143047
               ],
               [
                118.933427,
                25.148333
               ],
               [
                118.936072,
                25.154203
               ],
               [
                118.938658,
                25.157527
               ],
               [
                118.967955,
                25.191169
               ],
               [
                118.981808,
                25.198449
               ],
               [
                118.99744,
                25.176831
               ],
               [
                118.978799,
                25.160761
               ],
               [
                118.950418,
                25.143047
               ]
              ]
             ],
             "type": "Polygon"
            },
            "id": "prograding_feature_polygon_1369",
            "properties": {},
            "type": "Feature"
           },
           {
            "bbox": [
             118.928117,
             25.19369,
             118.975045,
             25.22022
            ],
            "geometry": {
             "coordinates": [
              [
               [
                118.962301,
                25.19369
               ],
               [
                118.941888,
                25.199936
               ],
               [
                118.934,
                25.204613
               ],
               [
                118.931192,
                25.207784
               ],
               [
                118.928117,
                25.212654
               ],
               [
                118.944018,
                25.22022
               ],
               [
                118.960447,
                25.214686
               ],
               [
                118.967127,
                25.211238
               ],
               [
                118.97076,
                25.208849
               ],
               [
                118.975045,
                25.205149
               ],
               [
                118.962301,
                25.19369
               ]
              ]
             ],
             "type": "Polygon"
            },
            "id": "prograding_feature_polygon_1370",
            "properties": {},
            "type": "Feature"
           },
           {
            "bbox": [
             119.188346,
             25.45547,
             119.200365,
             25.471866
            ],
            "geometry": {
             "coordinates": [
              [
               [
                119.195752,
                25.45547
               ],
               [
                119.188346,
                25.470249
               ],
               [
                119.191647,
                25.471866
               ],
               [
                119.200365,
                25.457683
               ],
               [
                119.195752,
                25.45547
               ]
              ]
             ],
             "type": "Polygon"
            },
            "id": "prograding_feature_polygon_1375",
            "properties": {},
            "type": "Feature"
           },
           {
            "bbox": [
             120.018519,
             26.855535,
             120.060482,
             26.889876
            ],
            "geometry": {
             "coordinates": [
              [
               [
                120.036086,
                26.855535
               ],
               [
                120.018519,
                26.858893
               ],
               [
                120.019787,
                26.863677
               ],
               [
                120.021907,
                26.868659
               ],
               [
                120.025401,
                26.873514
               ],
               [
                120.03052,
                26.877511
               ],
               [
                120.057221,
                26.889876
               ],
               [
                120.060482,
                26.887121
               ],
               [
                120.048428,
                26.864671
               ],
               [
                120.036086,
                26.855535
               ]
              ]
             ],
             "type": "Polygon"
            },
            "id": "prograding_feature_polygon_1386",
            "properties": {},
            "type": "Feature"
           },
           {
            "bbox": [
             120.787401,
             27.797915,
             120.809839,
             27.8172
            ],
            "geometry": {
             "coordinates": [
              [
               [
                120.801312,
                27.797915
               ],
               [
                120.787401,
                27.807971
               ],
               [
                120.795927,
                27.8172
               ],
               [
                120.809839,
                27.807144
               ],
               [
                120.806997,
                27.804067
               ],
               [
                120.804155,
                27.800991
               ],
               [
                120.801312,
                27.797915
               ]
              ]
             ],
             "type": "Polygon"
            },
            "id": "prograding_feature_polygon_1392",
            "properties": {},
            "type": "Feature"
           },
           {
            "bbox": [
             120.997876,
             28.066604,
             121.019859,
             28.096405
            ],
            "geometry": {
             "coordinates": [
              [
               [
                121.001907,
                28.066604
               ],
               [
                120.997876,
                28.083722
               ],
               [
                120.997887,
                28.091293
               ],
               [
                120.999958,
                28.096405
               ],
               [
                121.016506,
                28.090233
               ],
               [
                121.018948,
                28.079945
               ],
               [
                121.019496,
                28.075164
               ],
               [
                121.019678,
                28.071204
               ],
               [
                121.019859,
                28.067244
               ],
               [
                121.001907,
                28.066604
               ]
              ]
             ],
             "type": "Polygon"
            },
            "id": "prograding_feature_polygon_1396",
            "properties": {},
            "type": "Feature"
           },
           {
            "bbox": [
             121.131462,
             28.060519,
             121.155828,
             28.095543
            ],
            "geometry": {
             "coordinates": [
              [
               [
                121.138142,
                28.060519
               ],
               [
                121.131462,
                28.090021
               ],
               [
                121.148303,
                28.095543
               ],
               [
                121.151432,
                28.088114
               ],
               [
                121.152854,
                28.083564
               ],
               [
                121.153971,
                28.079042
               ],
               [
                121.154824,
                28.074234
               ],
               [
                121.155828,
                28.063307
               ],
               [
                121.138142,
                28.060519
               ]
              ]
             ],
             "type": "Polygon"
            },
            "id": "prograding_feature_polygon_1399",
            "properties": {},
            "type": "Feature"
           },
           {
            "bbox": [
             121.227165,
             28.056027,
             121.270563,
             28.089187
            ],
            "geometry": {
             "coordinates": [
              [
               [
                121.245769,
                28.056027
               ],
               [
                121.23663,
                28.056259
               ],
               [
                121.232274,
                28.057226
               ],
               [
                121.227165,
                28.07127
               ],
               [
                121.229037,
                28.083824
               ],
               [
                121.238564,
                28.088494
               ],
               [
                121.244468,
                28.089187
               ],
               [
                121.25003,
                28.089152
               ],
               [
                121.254495,
                28.088721
               ],
               [
                121.259855,
                28.087798
               ],
               [
                121.265119,
                28.086486
               ],
               [
                121.270563,
                28.084618
               ],
               [
                121.262289,
                28.070547
               ],
               [
                121.253055,
                28.059803
               ],
               [
                121.245769,
                28.056027
               ]
              ]
             ],
             "type": "Polygon"
            },
            "id": "prograding_feature_polygon_1400",
            "properties": {},
            "type": "Feature"
           },
           {
            "bbox": [
             121.530311,
             28.683382,
             121.548403,
             28.700045
            ],
            "geometry": {
             "coordinates": [
              [
               [
                121.548175,
                28.683382
               ],
               [
                121.530406,
                28.684284
               ],
               [
                121.530311,
                28.700045
               ],
               [
                121.535472,
                28.699913
               ],
               [
                121.548403,
                28.699142
               ],
               [
                121.548175,
                28.683382
               ]
              ]
             ],
             "type": "Polygon"
            },
            "id": "prograding_feature_polygon_1411",
            "properties": {},
            "type": "Feature"
           },
           {
            "bbox": [
             121.665442,
             29.980523,
             121.706512,
             30.007625
            ],
            "geometry": {
             "coordinates": [
              [
               [
                121.697163,
                29.980523
               ],
               [
                121.685656,
                29.986596
               ],
               [
                121.681821,
                29.988621
               ],
               [
                121.677435,
                29.9912
               ],
               [
                121.673827,
                29.993517
               ],
               [
                121.669246,
                29.997232
               ],
               [
                121.665442,
                30.004334
               ],
               [
                121.682617,
                30.007625
               ],
               [
                121.683003,
                30.007619
               ],
               [
                121.706512,
                29.993811
               ],
               [
                121.697163,
                29.980523
               ]
              ]
             ],
             "type": "Polygon"
            },
            "id": "prograding_feature_polygon_1432",
            "properties": {},
            "type": "Feature"
           },
           {
            "bbox": [
             120.946842,
             30.512906,
             120.990669,
             30.555681
            ],
            "geometry": {
             "coordinates": [
              [
               [
                120.962875,
                30.512906
               ],
               [
                120.946842,
                30.51989
               ],
               [
                120.950895,
                30.526796
               ],
               [
                120.953494,
                30.530694
               ],
               [
                120.95646,
                30.534652
               ],
               [
                120.959209,
                30.537711
               ],
               [
                120.962109,
                30.540932
               ],
               [
                120.965219,
                30.544025
               ],
               [
                120.968162,
                30.546947
               ],
               [
                120.971515,
                30.550125
               ],
               [
                120.97464,
                30.552903
               ],
               [
                120.977765,
                30.555681
               ],
               [
                120.990669,
                30.544914
               ],
               [
                120.962875,
                30.512906
               ]
              ]
             ],
             "type": "Polygon"
            },
            "id": "prograding_feature_polygon_1441",
            "properties": {},
            "type": "Feature"
           },
           {
            "bbox": [
             121.032107,
             30.572903,
             121.052295,
             30.589852
            ],
            "geometry": {
             "coordinates": [
              [
               [
                121.033546,
                30.572903
               ],
               [
                121.032107,
                30.58832
               ],
               [
                121.049055,
                30.589852
               ],
               [
                121.052295,
                30.574638
               ],
               [
                121.047813,
                30.573931
               ],
               [
                121.0425,
                30.573522
               ],
               [
                121.038023,
                30.573212
               ],
               [
                121.033546,
                30.572903
               ]
              ]
             ],
             "type": "Polygon"
            },
            "id": "prograding_feature_polygon_1442",
            "properties": {},
            "type": "Feature"
           },
           {
            "bbox": [
             121.049055,
             30.574638,
             121.108156,
             30.601837
            ],
            "geometry": {
             "coordinates": [
              [
               [
                121.052295,
                30.574638
               ],
               [
                121.049055,
                30.589852
               ],
               [
                121.06954,
                30.59616
               ],
               [
                121.073888,
                30.59713
               ],
               [
                121.078236,
                30.5981
               ],
               [
                121.083393,
                30.599148
               ],
               [
                121.092256,
                30.600406
               ],
               [
                121.097116,
                30.600925
               ],
               [
                121.101576,
                30.601381
               ],
               [
                121.106036,
                30.601837
               ],
               [
                121.108156,
                30.58648
               ],
               [
                121.057582,
                30.575749
               ],
               [
                121.052295,
                30.574638
               ]
              ]
             ],
             "type": "Polygon"
            },
            "id": "prograding_feature_polygon_1443",
            "properties": {},
            "type": "Feature"
           },
           {
            "bbox": [
             121.415401,
             30.758398,
             121.435658,
             30.777737
            ],
            "geometry": {
             "coordinates": [
              [
               [
                121.424683,
                30.758398
               ],
               [
                121.415401,
                30.771616
               ],
               [
                121.423093,
                30.775604
               ],
               [
                121.427726,
                30.777737
               ],
               [
                121.435658,
                30.763886
               ],
               [
                121.424683,
                30.758398
               ]
              ]
             ],
             "type": "Polygon"
            },
            "id": "prograding_feature_polygon_1449",
            "properties": {},
            "type": "Feature"
           },
           {
            "bbox": [
             119.27556,
             35.070122,
             119.313878,
             35.092725
            ],
            "geometry": {
             "coordinates": [
              [
               [
                119.283785,
                35.070122
               ],
               [
                119.27556,
                35.083194
               ],
               [
                119.283546,
                35.08656
               ],
               [
                119.288759,
                35.088638
               ],
               [
                119.293009,
                35.089827
               ],
               [
                119.298117,
                35.090998
               ],
               [
                119.307366,
                35.092305
               ],
               [
                119.311828,
                35.092725
               ],
               [
                119.313878,
                35.078119
               ],
               [
                119.283785,
                35.070122
               ]
              ]
             ],
             "type": "Polygon"
            },
            "id": "prograding_feature_polygon_1470",
            "properties": {},
            "type": "Feature"
           },
           {
            "bbox": [
             120.183216,
             35.986721,
             120.235481,
             36.044253
            ],
            "geometry": {
             "coordinates": [
              [
               [
                120.196813,
                35.986721
               ],
               [
                120.188221,
                35.989247
               ],
               [
                120.183216,
                35.9931
               ],
               [
                120.192602,
                36.009055
               ],
               [
                120.217844,
                36.044253
               ],
               [
                120.235481,
                36.041482
               ],
               [
                120.234834,
                36.035172
               ],
               [
                120.234042,
                36.030212
               ],
               [
                120.229183,
                36.000517
               ],
               [
                120.210808,
                35.990954
               ],
               [
                120.206293,
                35.988727
               ],
               [
                120.196813,
                35.986721
               ]
              ]
             ],
             "type": "Polygon"
            },
            "id": "prograding_feature_polygon_1483",
            "properties": {},
            "type": "Feature"
           },
           {
            "bbox": [
             120.192169,
             36.042764,
             120.242133,
             36.070144
            ],
            "geometry": {
             "coordinates": [
              [
               [
                120.235752,
                36.042764
               ],
               [
                120.192169,
                36.055629
               ],
               [
                120.192769,
                36.070144
               ],
               [
                120.197258,
                36.070023
               ],
               [
                120.215214,
                36.069538
               ],
               [
                120.220201,
                36.06924
               ],
               [
                120.226016,
                36.068719
               ],
               [
                120.230376,
                36.067849
               ],
               [
                120.239621,
                36.062367
               ],
               [
                120.242133,
                36.055171
               ],
               [
                120.241478,
                36.04926
               ],
               [
                120.238669,
                36.043996
               ],
               [
                120.235752,
                36.042764
               ]
              ]
             ],
             "type": "Polygon"
            },
            "id": "prograding_feature_polygon_1484",
            "properties": {},
            "type": "Feature"
           },
           {
            "bbox": [
             120.328375,
             36.185888,
             120.374064,
             36.219381
            ],
            "geometry": {
             "coordinates": [
              [
               [
                120.374064,
                36.185888
               ],
               [
                120.356105,
                36.186313
               ],
               [
                120.332108,
                36.208514
               ],
               [
                120.328375,
                36.212676
               ],
               [
                120.344304,
                36.219381
               ],
               [
                120.35815,
                36.211023
               ],
               [
                120.364091,
                36.207345
               ],
               [
                120.36698,
                36.204566
               ],
               [
                120.370218,
                36.199638
               ],
               [
                120.372067,
                36.195016
               ],
               [
                120.373193,
                36.191507
               ],
               [
                120.374064,
                36.185888
               ]
              ]
             ],
             "type": "Polygon"
            },
            "id": "prograding_feature_polygon_1491",
            "properties": {},
            "type": "Feature"
           },
           {
            "bbox": [
             120.347318,
             36.168772,
             120.373932,
             36.182689
            ],
            "geometry": {
             "coordinates": [
              [
               [
                120.364593,
                36.168772
               ],
               [
                120.347318,
                36.172757
               ],
               [
                120.350636,
                36.178017
               ],
               [
                120.355973,
                36.182689
               ],
               [
                120.373932,
                36.182264
               ],
               [
                120.372824,
                36.176937
               ],
               [
                120.368132,
                36.170929
               ],
               [
                120.364593,
                36.168772
               ]
              ]
             ],
             "type": "Polygon"
            },
            "id": "prograding_feature_polygon_1492",
            "properties": {},
            "type": "Feature"
           },
           {
            "bbox": [
             120.339928,
             36.150477,
             120.364205,
             36.167859
            ],
            "geometry": {
             "coordinates": [
              [
               [
                120.353163,
                36.150477
               ],
               [
                120.339928,
                36.160287
               ],
               [
                120.346314,
                36.167859
               ],
               [
                120.364205,
                36.166535
               ],
               [
                120.363133,
                36.160869
               ],
               [
                120.361446,
                36.157508
               ],
               [
                120.355454,
                36.15179
               ],
               [
                120.353163,
                36.150477
               ]
              ]
             ],
             "type": "Polygon"
            },
            "id": "prograding_feature_polygon_1493",
            "properties": {},
            "type": "Feature"
           },
           {
            "bbox": [
             120.328857,
             36.140203,
             120.351232,
             36.15652
            ],
            "geometry": {
             "coordinates": [
              [
               [
                120.345261,
                36.140203
               ],
               [
                120.328857,
                36.146122
               ],
               [
                120.330689,
                36.149433
               ],
               [
                120.333674,
                36.153464
               ],
               [
                120.336092,
                36.15652
               ],
               [
                120.351232,
                36.14871
               ],
               [
                120.345261,
                36.140203
               ]
              ]
             ],
             "type": "Polygon"
            },
            "id": "prograding_feature_polygon_1494",
            "properties": {},
            "type": "Feature"
           },
           {
            "bbox": [
             120.309827,
             36.090517,
             120.334094,
             36.122569
            ],
            "geometry": {
             "coordinates": [
              [
               [
                120.323876,
                36.090517
               ],
               [
                120.309827,
                36.111745
               ],
               [
                120.317909,
                36.122569
               ],
               [
                120.334094,
                36.116268
               ],
               [
                120.323876,
                36.090517
               ]
              ]
             ],
             "type": "Polygon"
            },
            "id": "prograding_feature_polygon_1495",
            "properties": {},
            "type": "Feature"
           },
           {
            "bbox": [
             2.121705,
             41.288011,
             2.167001,
             41.334054
            ],
            "geometry": {
             "coordinates": [
              [
               [
                2.128475,
                41.288011
               ],
               [
                2.121705,
                41.300514
               ],
               [
                2.151786,
                41.334054
               ],
               [
                2.167001,
                41.326879
               ],
               [
                2.16019,
                41.312768
               ],
               [
                2.158138,
                41.308884
               ],
               [
                2.151963,
                41.298779
               ],
               [
                2.135432,
                41.289962
               ],
               [
                2.128475,
                41.288011
               ]
              ]
             ],
             "type": "Polygon"
            },
            "id": "prograding_feature_polygon_151",
            "properties": {},
            "type": "Feature"
           },
           {
            "bbox": [
             122.144547,
             37.43971,
             122.164545,
             37.45281
            ],
            "geometry": {
             "coordinates": [
              [
               [
                122.148267,
                37.43971
               ],
               [
                122.144547,
                37.445154
               ],
               [
                122.159706,
                37.45281
               ],
               [
                122.162645,
                37.448977
               ],
               [
                122.164545,
                37.445746
               ],
               [
                122.148267,
                37.43971
               ]
              ]
             ],
             "type": "Polygon"
            },
            "id": "prograding_feature_polygon_1526",
            "properties": {},
            "type": "Feature"
           },
           {
            "bbox": [
             122.131633,
             37.447557,
             122.156645,
             37.465547
            ],
            "geometry": {
             "coordinates": [
              [
               [
                122.142323,
                37.447557
               ],
               [
                122.139611,
                37.4504
               ],
               [
                122.136599,
                37.453936
               ],
               [
                122.134255,
                37.456977
               ],
               [
                122.131633,
                37.462546
               ],
               [
                122.149197,
                37.465547
               ],
               [
                122.156645,
                37.456168
               ],
               [
                122.142323,
                37.447557
               ]
              ]
             ],
             "type": "Polygon"
            },
            "id": "prograding_feature_polygon_1527",
            "properties": {},
            "type": "Feature"
           },
           {
            "bbox": [
             122.115748,
             37.466031,
             122.148252,
             37.51443
            ],
            "geometry": {
             "coordinates": [
              [
               [
                122.130688,
                37.466031
               ],
               [
                122.117103,
                37.497481
               ],
               [
                122.115748,
                37.502918
               ],
               [
                122.116542,
                37.508023
               ],
               [
                122.121418,
                37.51443
               ],
               [
                122.134002,
                37.504665
               ],
               [
                122.142712,
                37.495285
               ],
               [
                122.145367,
                37.490061
               ],
               [
                122.146184,
                37.486556
               ],
               [
                122.146733,
                37.48229
               ],
               [
                122.148252,
                37.469032
               ],
               [
                122.130688,
                37.466031
               ]
              ]
             ],
             "type": "Polygon"
            },
            "id": "prograding_feature_polygon_1528",
            "properties": {},
            "type": "Feature"
           },
           {
            "bbox": [
             2.158704,
             41.346567,
             2.185139,
             41.367727
            ],
            "geometry": {
             "coordinates": [
              [
               [
                2.173077,
                41.346567
               ],
               [
                2.158704,
                41.354659
               ],
               [
                2.168361,
                41.367727
               ],
               [
                2.185139,
                41.362904
               ],
               [
                2.183073,
                41.359411
               ],
               [
                2.180738,
                41.355894
               ],
               [
                2.178521,
                41.352961
               ],
               [
                2.176304,
                41.350029
               ],
               [
                2.173077,
                41.346567
               ]
              ]
             ],
             "type": "Polygon"
            },
            "id": "prograding_feature_polygon_153",
            "properties": {},
            "type": "Feature"
           },
           {
            "bbox": [
             121.369122,
             37.576652,
             121.408574,
             37.613927
            ],
            "geometry": {
             "coordinates": [
              [
               [
                121.392051,
                37.576652
               ],
               [
                121.379245,
                37.581275
               ],
               [
                121.369122,
                37.587622
               ],
               [
                121.371014,
                37.597818
               ],
               [
                121.377658,
                37.601641
               ],
               [
                121.404723,
                37.613927
               ],
               [
                121.408574,
                37.612097
               ],
               [
                121.397944,
                37.587802
               ],
               [
                121.392051,
                37.576652
               ]
              ]
             ],
             "type": "Polygon"
            },
            "id": "prograding_feature_polygon_1536",
            "properties": {},
            "type": "Feature"
           },
           {
            "bbox": [
             117.736387,
             38.950179,
             117.771769,
             38.989344
            ],
            "geometry": {
             "coordinates": [
              [
               [
                117.761071,
                38.950179
               ],
               [
                117.739975,
                38.954983
               ],
               [
                117.736387,
                38.971173
               ],
               [
                117.744264,
                38.983726
               ],
               [
                117.750737,
                38.989344
               ],
               [
                117.770037,
                38.985145
               ],
               [
                117.771769,
                38.976522
               ],
               [
                117.768188,
                38.962834
               ],
               [
                117.761071,
                38.950179
               ]
              ]
             ],
             "type": "Polygon"
            },
            "id": "prograding_feature_polygon_1571",
            "properties": {},
            "type": "Feature"
           },
           {
            "bbox": [
             117.74575,
             39.014477,
             117.790055,
             39.054763
            ],
            "geometry": {
             "coordinates": [
              [
               [
                117.759998,
                39.014477
               ],
               [
                117.753931,
                39.018241
               ],
               [
                117.74902,
                39.021456
               ],
               [
                117.74575,
                39.030128
               ],
               [
                117.752563,
                39.049064
               ],
               [
                117.762211,
                39.054763
               ],
               [
                117.773928,
                39.051853
               ],
               [
                117.777302,
                39.049551
               ],
               [
                117.781515,
                39.044732
               ],
               [
                117.783882,
                39.040688
               ],
               [
                117.78548,
                39.036824
               ],
               [
                117.78676,
                39.03348
               ],
               [
                117.788024,
                39.029693
               ],
               [
                117.790055,
                39.022895
               ],
               [
                117.759998,
                39.014477
               ]
              ]
             ],
             "type": "Polygon"
            },
            "id": "prograding_feature_polygon_1572",
            "properties": {},
            "type": "Feature"
           },
           {
            "bbox": [
             117.712774,
             39.071224,
             117.753746,
             39.099034
            ],
            "geometry": {
             "coordinates": [
              [
               [
                117.746048,
                39.071224
               ],
               [
                117.741953,
                39.072656
               ],
               [
                117.737435,
                39.074444
               ],
               [
                117.733468,
                39.076078
               ],
               [
                117.728989,
                39.078146
               ],
               [
                117.725203,
                39.080023
               ],
               [
                117.720774,
                39.082851
               ],
               [
                117.716473,
                39.086692
               ],
               [
                117.713434,
                39.091831
               ],
               [
                117.712774,
                39.097401
               ],
               [
                117.738562,
                39.099034
               ],
               [
                117.753746,
                39.095983
               ],
               [
                117.753426,
                39.083942
               ],
               [
                117.746048,
                39.071224
               ]
              ]
             ],
             "type": "Polygon"
            },
            "id": "prograding_feature_polygon_1574",
            "properties": {},
            "type": "Feature"
           },
           {
            "bbox": [
             119.556907,
             39.89837,
             119.594703,
             39.923294
            ],
            "geometry": {
             "coordinates": [
              [
               [
                119.570328,
                39.89837
               ],
               [
                119.556907,
                39.909944
               ],
               [
                119.557128,
                39.913385
               ],
               [
                119.558614,
                39.918848
               ],
               [
                119.575809,
                39.923294
               ],
               [
                119.592207,
                39.9148
               ],
               [
                119.594703,
                39.901152
               ],
               [
                119.588054,
                39.898802
               ],
               [
                119.570328,
                39.89837
               ]
              ]
             ],
             "type": "Polygon"
            },
            "id": "prograding_feature_polygon_1583",
            "properties": {},
            "type": "Feature"
           },
           {
            "bbox": [
             119.626835,
             39.917822,
             119.678831,
             39.940771
            ],
            "geometry": {
             "coordinates": [
              [
               [
                119.637043,
                39.917822
               ],
               [
                119.626835,
                39.92916
               ],
               [
                119.632049,
                39.931674
               ],
               [
                119.661061,
                39.940194
               ],
               [
                119.672194,
                39.940771
               ],
               [
                119.678831,
                39.937703
               ],
               [
                119.668729,
                39.927736
               ],
               [
                119.664667,
                39.926266
               ],
               [
                119.660605,
                39.924796
               ],
               [
                119.656543,
                39.923326
               ],
               [
                119.651453,
                39.921693
               ],
               [
                119.637043,
                39.917822
               ]
              ]
             ],
             "type": "Polygon"
            },
            "id": "prograding_feature_polygon_1584",
            "properties": {},
            "type": "Feature"
           },
           {
            "bbox": [
             119.661061,
             39.920119,
             119.698173,
             39.940771
            ],
            "geometry": {
             "coordinates": [
              [
               [
                119.682192,
                39.920119
               ],
               [
                119.675248,
                39.922383
               ],
               [
                119.670387,
                39.925064
               ],
               [
                119.666121,
                39.927806
               ],
               [
                119.661061,
                39.940194
               ],
               [
                119.672194,
                39.940771
               ],
               [
                119.678831,
                39.937703
               ],
               [
                119.698173,
                39.927031
               ],
               [
                119.694639,
                39.923443
               ],
               [
                119.682192,
                39.920119
               ]
              ]
             ],
             "type": "Polygon"
            },
            "id": "prograding_feature_polygon_1585",
            "properties": {},
            "type": "Feature"
           },
           {
            "bbox": [
             119.675248,
             39.920119,
             119.714536,
             39.944738
            ],
            "geometry": {
             "coordinates": [
              [
               [
                119.682192,
                39.920119
               ],
               [
                119.675248,
                39.922383
               ],
               [
                119.681365,
                39.932728
               ],
               [
                119.683196,
                39.934641
               ],
               [
                119.687966,
                39.938752
               ],
               [
                119.696087,
                39.941777
               ],
               [
                119.705189,
                39.944738
               ],
               [
                119.714536,
                39.932973
               ],
               [
                119.694639,
                39.923443
               ],
               [
                119.682192,
                39.920119
               ]
              ]
             ],
             "type": "Polygon"
            },
            "id": "prograding_feature_polygon_1586",
            "properties": {},
            "type": "Feature"
           },
           {
            "bbox": [
             121.068945,
             40.830079,
             121.09603,
             40.867463
            ],
            "geometry": {
             "coordinates": [
              [
               [
                121.086646,
                40.830079
               ],
               [
                121.072892,
                40.838825
               ],
               [
                121.069056,
                40.85772
               ],
               [
                121.068945,
                40.863011
               ],
               [
                121.070054,
                40.867463
               ],
               [
                121.087042,
                40.86304
               ],
               [
                121.093566,
                40.84901
               ],
               [
                121.09603,
                40.839528
               ],
               [
                121.092685,
                40.835573
               ],
               [
                121.089536,
                40.83268
               ],
               [
                121.086646,
                40.830079
               ]
              ]
             ],
             "type": "Polygon"
            },
            "id": "prograding_feature_polygon_1597",
            "properties": {},
            "type": "Feature"
           },
           {
            "bbox": [
             121.655557,
             39.102927,
             121.693127,
             39.151989
            ],
            "geometry": {
             "coordinates": [
              [
               [
                121.688861,
                39.102927
               ],
               [
                121.672769,
                39.109125
               ],
               [
                121.655557,
                39.140797
               ],
               [
                121.666259,
                39.151989
               ],
               [
                121.677083,
                39.145765
               ],
               [
                121.681561,
                39.142529
               ],
               [
                121.686145,
                39.135871
               ],
               [
                121.69238,
                39.120935
               ],
               [
                121.693127,
                39.116074
               ],
               [
                121.69255,
                39.111294
               ],
               [
                121.691003,
                39.106917
               ],
               [
                121.688861,
                39.102927
               ]
              ]
             ],
             "type": "Polygon"
            },
            "id": "prograding_feature_polygon_1608",
            "properties": {},
            "type": "Feature"
           },
           {
            "bbox": [
             121.495647,
             38.815028,
             121.52508,
             38.842028
            ],
            "geometry": {
             "coordinates": [
              [
               [
                121.497873,
                38.815028
               ],
               [
                121.495647,
                38.82645
               ],
               [
                121.499824,
                38.833994
               ],
               [
                121.509229,
                38.842028
               ],
               [
                121.52508,
                38.83544
               ],
               [
                121.522966,
                38.832353
               ],
               [
                121.520162,
                38.828639
               ],
               [
                121.508786,
                38.817361
               ],
               [
                121.497873,
                38.815028
               ]
              ]
             ],
             "type": "Polygon"
            },
            "id": "prograding_feature_polygon_1615",
            "properties": {},
            "type": "Feature"
           },
           {
            "bbox": [
             121.527755,
             38.845209,
             121.553416,
             38.872081
            ],
            "geometry": {
             "coordinates": [
              [
               [
                121.538444,
                38.845209
               ],
               [
                121.527755,
                38.856455
               ],
               [
                121.540116,
                38.869949
               ],
               [
                121.545117,
                38.872081
               ],
               [
                121.553416,
                38.859674
               ],
               [
                121.546246,
                38.85042
               ],
               [
                121.542054,
                38.84729
               ],
               [
                121.538444,
                38.845209
               ]
              ]
             ],
             "type": "Polygon"
            },
            "id": "prograding_feature_polygon_1616",
            "properties": {},
            "type": "Feature"
           },
           {
            "bbox": [
             121.554186,
             38.863301,
             121.607398,
             38.882523
            ],
            "geometry": {
             "coordinates": [
              [
               [
                121.599402,
                38.863301
               ],
               [
                121.566972,
                38.86799
               ],
               [
                121.554186,
                38.877817
               ],
               [
                121.560708,
                38.881266
               ],
               [
                121.56897,
                38.882523
               ],
               [
                121.573458,
                38.882366
               ],
               [
                121.578839,
                38.881931
               ],
               [
                121.587724,
                38.8809
               ],
               [
                121.593072,
                38.87985
               ],
               [
                121.598056,
                38.878719
               ],
               [
                121.60229,
                38.877552
               ],
               [
                121.607398,
                38.875827
               ],
               [
                121.599402,
                38.863301
               ]
              ]
             ],
             "type": "Polygon"
            },
            "id": "prograding_feature_polygon_1617",
            "properties": {},
            "type": "Feature"
           },
           {
            "bbox": [
             121.604474,
             38.924085,
             121.669887,
             38.982467
            ],
            "geometry": {
             "coordinates": [
              [
               [
                121.619474,
                38.924085
               ],
               [
                121.606819,
                38.928406
               ],
               [
                121.604474,
                38.933966
               ],
               [
                121.604488,
                38.938923
               ],
               [
                121.604653,
                38.942414
               ],
               [
                121.605605,
                38.946965
               ],
               [
                121.60871,
                38.952698
               ],
               [
                121.619243,
                38.961643
               ],
               [
                121.624856,
                38.965749
               ],
               [
                121.652839,
                38.982467
               ],
               [
                121.669887,
                38.97806
               ],
               [
                121.658903,
                38.94036
               ],
               [
                121.646862,
                38.929916
               ],
               [
                121.619474,
                38.924085
               ]
              ]
             ],
             "type": "Polygon"
            },
            "id": "prograding_feature_polygon_1618",
            "properties": {},
            "type": "Feature"
           },
           {
            "bbox": [
             121.71013,
             39.016962,
             121.773926,
             39.043055
            ],
            "geometry": {
             "coordinates": [
              [
               [
                121.736845,
                39.016962
               ],
               [
                121.722621,
                39.023742
               ],
               [
                121.71013,
                39.034576
               ],
               [
                121.72784,
                39.043055
               ],
               [
                121.732319,
                39.042795
               ],
               [
                121.738619,
                39.041558
               ],
               [
                121.768622,
                39.035159
               ],
               [
                121.773926,
                39.033765
               ],
               [
                121.766548,
                39.021039
               ],
               [
                121.736845,
                39.016962
               ]
              ]
             ],
             "type": "Polygon"
            },
            "id": "prograding_feature_polygon_1619",
            "properties": {},
            "type": "Feature"
           },
           {
            "bbox": [
             121.850524,
             38.986753,
             121.903065,
             39.02409
            ],
            "geometry": {
             "coordinates": [
              [
               [
                121.902741,
                38.986753
               ],
               [
                121.884821,
                38.987759
               ],
               [
                121.869867,
                38.997487
               ],
               [
                121.864682,
                39.001844
               ],
               [
                121.850524,
                39.014223
               ],
               [
                121.863231,
                39.02409
               ],
               [
                121.89308,
                39.004062
               ],
               [
                121.896227,
                39.001571
               ],
               [
                121.900248,
                38.997643
               ],
               [
                121.903065,
                38.990235
               ],
               [
                121.902741,
                38.986753
               ]
              ]
             ],
             "type": "Polygon"
            },
            "id": "prograding_feature_polygon_1621",
            "properties": {},
            "type": "Feature"
           },
           {
            "bbox": [
             122.960485,
             39.63467,
             122.998074,
             39.66968
            ],
            "geometry": {
             "coordinates": [
              [
               [
                122.985487,
                39.63467
               ],
               [
                122.970869,
                39.650411
               ],
               [
                122.967604,
                39.654899
               ],
               [
                122.960485,
                39.665627
               ],
               [
                122.965636,
                39.66968
               ],
               [
                122.983874,
                39.66755
               ],
               [
                122.998074,
                39.664146
               ],
               [
                122.985487,
                39.63467
               ]
              ]
             ],
             "type": "Polygon"
            },
            "id": "prograding_feature_polygon_1629",
            "properties": {},
            "type": "Feature"
           },
           {
            "bbox": [
             126.679417,
             37.334437,
             126.701948,
             37.355091
            ],
            "geometry": {
             "coordinates": [
              [
               [
                126.695109,
                37.334437
               ],
               [
                126.679417,
                37.341393
               ],
               [
                126.68179,
                37.347744
               ],
               [
                126.685825,
                37.352501
               ],
               [
                126.688917,
                37.355091
               ],
               [
                126.701948,
                37.345259
               ],
               [
                126.695109,
                37.334437
               ]
              ]
             ],
             "type": "Polygon"
            },
            "id": "prograding_feature_polygon_1652",
            "properties": {},
            "type": "Feature"
           },
           {
            "bbox": [
             10.286944,
             43.540988,
             10.307531,
             43.564617
            ],
            "geometry": {
             "coordinates": [
              [
               [
                10.289723,
                43.540988
               ],
               [
                10.288388,
                43.546424
               ],
               [
                10.286944,
                43.552439
               ],
               [
                10.289462,
                43.563592
               ],
               [
                10.307372,
                43.564617
               ],
               [
                10.307421,
                43.560821
               ],
               [
                10.307531,
                43.542714
               ],
               [
                10.289723,
                43.540988
               ]
              ]
             ],
             "type": "Polygon"
            },
            "id": "prograding_feature_polygon_170",
            "properties": {},
            "type": "Feature"
           },
           {
            "bbox": [
             126.347013,
             34.784827,
             126.375853,
             34.825244
            ],
            "geometry": {
             "coordinates": [
              [
               [
                126.355411,
                34.784827
               ],
               [
                126.352773,
                34.787812
               ],
               [
                126.349683,
                34.791875
               ],
               [
                126.347013,
                34.797078
               ],
               [
                126.35132,
                34.82461
               ],
               [
                126.352713,
                34.825244
               ],
               [
                126.375853,
                34.808621
               ],
               [
                126.369951,
                34.793493
               ],
               [
                126.355411,
                34.784827
               ]
              ]
             ],
             "type": "Polygon"
            },
            "id": "prograding_feature_polygon_1705",
            "properties": {},
            "type": "Feature"
           },
           {
            "bbox": [
             126.400156,
             34.767228,
             126.447078,
             34.805479
            ],
            "geometry": {
             "coordinates": [
              [
               [
                126.409625,
                34.767228
               ],
               [
                126.400156,
                34.791911
               ],
               [
                126.406933,
                34.795041
               ],
               [
                126.410982,
                34.796638
               ],
               [
                126.415822,
                34.7983
               ],
               [
                126.42002,
                34.799611
               ],
               [
                126.424218,
                34.800922
               ],
               [
                126.429108,
                34.802378
               ],
               [
                126.43342,
                34.803412
               ],
               [
                126.442043,
                34.805479
               ],
               [
                126.447078,
                34.791317
               ],
               [
                126.43165,
                34.770833
               ],
               [
                126.427245,
                34.770112
               ],
               [
                126.409625,
                34.767228
               ]
              ]
             ],
             "type": "Polygon"
            },
            "id": "prograding_feature_polygon_1706",
            "properties": {},
            "type": "Feature"
           },
           {
            "bbox": [
             129.05486,
             35.087754,
             129.116346,
             35.129642
            ],
            "geometry": {
             "coordinates": [
              [
               [
                129.064094,
                35.087754
               ],
               [
                129.05486,
                35.093844
               ],
               [
                129.060164,
                35.116631
               ],
               [
                129.065162,
                35.129642
               ],
               [
                129.10904,
                35.105832
               ],
               [
                129.116346,
                35.092403
               ],
               [
                129.108139,
                35.089414
               ],
               [
                129.099769,
                35.088174
               ],
               [
                129.064094,
                35.087754
               ]
              ]
             ],
             "type": "Polygon"
            },
            "id": "prograding_feature_polygon_1725",
            "properties": {},
            "type": "Feature"
           },
           {
            "bbox": [
             129.338039,
             35.422591,
             129.37203,
             35.475974
            ],
            "geometry": {
             "coordinates": [
              [
               [
                129.367052,
                35.422591
               ],
               [
                129.3548,
                35.432354
               ],
               [
                129.342352,
                35.449929
               ],
               [
                129.340195,
                35.453139
               ],
               [
                129.338039,
                35.456348
               ],
               [
                129.353415,
                35.475974
               ],
               [
                129.358657,
                35.473094
               ],
               [
                129.364411,
                35.465681
               ],
               [
                129.37203,
                35.436503
               ],
               [
                129.37171,
                35.42843
               ],
               [
                129.367052,
                35.422591
               ]
              ]
             ],
             "type": "Polygon"
            },
            "id": "prograding_feature_polygon_1728",
            "properties": {},
            "type": "Feature"
           },
           {
            "bbox": [
             129.372577,
             35.496816,
             129.405869,
             35.527345
            ],
            "geometry": {
             "coordinates": [
              [
               [
                129.380711,
                35.496816
               ],
               [
                129.37819,
                35.496991
               ],
               [
                129.372577,
                35.513412
               ],
               [
                129.380857,
                35.520704
               ],
               [
                129.385861,
                35.523258
               ],
               [
                129.396863,
                35.527345
               ],
               [
                129.398903,
                35.524089
               ],
               [
                129.401212,
                35.520054
               ],
               [
                129.402803,
                35.516635
               ],
               [
                129.404393,
                35.513216
               ],
               [
                129.405869,
                35.50859
               ],
               [
                129.393929,
                35.502664
               ],
               [
                129.380711,
                35.496816
               ]
              ]
             ],
             "type": "Polygon"
            },
            "id": "prograding_feature_polygon_1729",
            "properties": {},
            "type": "Feature"
           },
           {
            "bbox": [
             14.461751,
             40.722243,
             14.48005,
             40.730673
            ],
            "geometry": {
             "coordinates": [
              [
               [
                14.463497,
                40.722243
               ],
               [
                14.461751,
                40.725379
               ],
               [
                14.478304,
                40.730673
               ],
               [
                14.48005,
                40.727537
               ],
               [
                14.463497,
                40.722243
               ]
              ]
             ],
             "type": "Polygon"
            },
            "id": "prograding_feature_polygon_173",
            "properties": {},
            "type": "Feature"
           },
           {
            "bbox": [
             -122.64355,
             47.553325,
             -122.616585,
             47.570666
            ],
            "geometry": {
             "coordinates": [
              [
               [
                -122.635367,
                47.553325
               ],
               [
                -122.64355,
                47.564119
               ],
               [
                -122.631842,
                47.568721
               ],
               [
                -122.616585,
                47.570666
               ],
               [
                -122.617142,
                47.561752
               ],
               [
                -122.622709,
                47.55827
               ],
               [
                -122.626406,
                47.556548
               ],
               [
                -122.631368,
                47.554706
               ],
               [
                -122.635367,
                47.553325
               ]
              ]
             ],
             "type": "Polygon"
            },
            "id": "prograding_feature_polygon_1778",
            "properties": {},
            "type": "Feature"
           },
           {
            "bbox": [
             -106.389646,
             23.207085,
             -106.365523,
             23.225289
            ],
            "geometry": {
             "coordinates": [
              [
               [
                -106.38906,
                23.207085
               ],
               [
                -106.389646,
                23.215668
               ],
               [
                -106.383824,
                23.225289
               ],
               [
                -106.370245,
                23.224304
               ],
               [
                -106.365523,
                23.220754
               ],
               [
                -106.371847,
                23.213416
               ],
               [
                -106.377645,
                23.208567
               ],
               [
                -106.38906,
                23.207085
               ]
              ]
             ],
             "type": "Polygon"
            },
            "id": "prograding_feature_polygon_1830",
            "properties": {},
            "type": "Feature"
           },
           {
            "bbox": [
             13.47972,
             43.602796,
             13.510651,
             43.62454
            ],
            "geometry": {
             "coordinates": [
              [
               [
                13.486055,
                43.602796
               ],
               [
                13.47972,
                43.614969
               ],
               [
                13.484627,
                43.61942
               ],
               [
                13.491771,
                43.62454
               ],
               [
                13.510651,
                43.615691
               ],
               [
                13.492082,
                43.605328
               ],
               [
                13.486055,
                43.602796
               ]
              ]
             ],
             "type": "Polygon"
            },
            "id": "prograding_feature_polygon_190",
            "properties": {},
            "type": "Feature"
           },
           {
            "bbox": [
             -77.152652,
             -12.028198,
             -77.125228,
             -11.926433
            ],
            "geometry": {
             "coordinates": [
              [
               [
                -77.134984,
                -12.028198
               ],
               [
                -77.152652,
                -12.025008
               ],
               [
                -77.149702,
                -11.930384
               ],
               [
                -77.132196,
                -11.926433
               ],
               [
                -77.131235,
                -11.931086
               ],
               [
                -77.130402,
                -11.935404
               ],
               [
                -77.128736,
                -11.944041
               ],
               [
                -77.12783,
                -11.948867
               ],
               [
                -77.126108,
                -11.961941
               ],
               [
                -77.125486,
                -11.967076
               ],
               [
                -77.125308,
                -11.971466
               ],
               [
                -77.125228,
                -11.976539
               ],
               [
                -77.125655,
                -11.98467
               ],
               [
                -77.126169,
                -11.989035
               ],
               [
                -77.1269,
                -11.993951
               ],
               [
                -77.127706,
                -11.998274
               ],
               [
                -77.128787,
                -12.003148
               ],
               [
                -77.134984,
                -12.028198
               ]
              ]
             ],
             "type": "Polygon"
            },
            "id": "prograding_feature_polygon_1908",
            "properties": {},
            "type": "Feature"
           },
           {
            "bbox": [
             -77.124128,
             -12.122687,
             -77.045258,
             -12.067833
            ],
            "geometry": {
             "coordinates": [
              [
               [
                -77.057143,
                -12.122687
               ],
               [
                -77.124128,
                -12.084032
               ],
               [
                -77.117174,
                -12.067833
               ],
               [
                -77.112442,
                -12.070047
               ],
               [
                -77.104482,
                -12.074118
               ],
               [
                -77.084582,
                -12.084296
               ],
               [
                -77.080173,
                -12.086748
               ],
               [
                -77.068663,
                -12.093598
               ],
               [
                -77.064826,
                -12.095882
               ],
               [
                -77.06053,
                -12.098664
               ],
               [
                -77.053222,
                -12.103772
               ],
               [
                -77.049569,
                -12.106327
               ],
               [
                -77.045258,
                -12.109513
               ],
               [
                -77.057143,
                -12.122687
               ]
              ]
             ],
             "type": "Polygon"
            },
            "id": "prograding_feature_polygon_1909",
            "properties": {},
            "type": "Feature"
           },
           {
            "bbox": [
             -76.986793,
             -12.293796,
             -76.880851,
             -12.220096
            ],
            "geometry": {
             "coordinates": [
              [
               [
                -76.888821,
                -12.293796
               ],
               [
                -76.893244,
                -12.291415
               ],
               [
                -76.897137,
                -12.289227
               ],
               [
                -76.986793,
                -12.236042
               ],
               [
                -76.979272,
                -12.220096
               ],
               [
                -76.971113,
                -12.223771
               ],
               [
                -76.967034,
                -12.225609
               ],
               [
                -76.962544,
                -12.22767
               ],
               [
                -76.958569,
                -12.229713
               ],
               [
                -76.946643,
                -12.235843
               ],
               [
                -76.938693,
                -12.23993
               ],
               [
                -76.934447,
                -12.242272
               ],
               [
                -76.930565,
                -12.244479
               ],
               [
                -76.926683,
                -12.246687
               ],
               [
                -76.912582,
                -12.255581
               ],
               [
                -76.908821,
                -12.257981
               ],
               [
                -76.904467,
                -12.26081
               ],
               [
                -76.880851,
                -12.278063
               ],
               [
                -76.888821,
                -12.293796
               ]
              ]
             ],
             "type": "Polygon"
            },
            "id": "prograding_feature_polygon_1910",
            "properties": {},
            "type": "Feature"
           },
           {
            "bbox": [
             -39.054266,
             -14.802825,
             -39.01907,
             -14.772014
            ],
            "geometry": {
             "coordinates": [
              [
               [
                -39.03558,
                -14.802825
               ],
               [
                -39.037728,
                -14.802606
               ],
               [
                -39.054266,
                -14.78404
               ],
               [
                -39.041301,
                -14.772014
               ],
               [
                -39.028206,
                -14.779545
               ],
               [
                -39.021406,
                -14.787179
               ],
               [
                -39.020171,
                -14.794091
               ],
               [
                -39.01907,
                -14.800603
               ],
               [
                -39.03558,
                -14.802825
               ]
              ]
             ],
             "type": "Polygon"
            },
            "id": "prograding_feature_polygon_2085",
            "properties": {},
            "type": "Feature"
           },
           {
            "bbox": [
             23.563922,
             37.940689,
             23.61571,
             37.968291
            ],
            "geometry": {
             "coordinates": [
              [
               [
                23.566448,
                37.940689
               ],
               [
                23.563922,
                37.940873
               ],
               [
                23.564916,
                37.955019
               ],
               [
                23.570658,
                37.968291
               ],
               [
                23.577062,
                37.967436
               ],
               [
                23.608219,
                37.96313
               ],
               [
                23.61571,
                37.955411
               ],
               [
                23.598064,
                37.948227
               ],
               [
                23.566448,
                37.940689
               ]
              ]
             ],
             "type": "Polygon"
            },
            "id": "prograding_feature_polygon_214",
            "properties": {},
            "type": "Feature"
           },
           {
            "bbox": [
             23.673837,
             37.93112,
             23.687855,
             37.946842
            ],
            "geometry": {
             "coordinates": [
              [
               [
                23.678063,
                37.93112
               ],
               [
                23.673837,
                37.932762
               ],
               [
                23.675856,
                37.946842
               ],
               [
                23.683547,
                37.945188
               ],
               [
                23.687855,
                37.943001
               ],
               [
                23.678063,
                37.93112
               ]
              ]
             ],
             "type": "Polygon"
            },
            "id": "prograding_feature_polygon_215",
            "properties": {},
            "type": "Feature"
           },
           {
            "bbox": [
             -96.19116,
             19.206667,
             -96.144283,
             19.255974
            ],
            "geometry": {
             "coordinates": [
              [
               [
                -96.150949,
                19.206667
               ],
               [
                -96.157311,
                19.207583
               ],
               [
                -96.161557,
                19.208967
               ],
               [
                -96.167161,
                19.211689
               ],
               [
                -96.172194,
                19.215215
               ],
               [
                -96.17663,
                19.219559
               ],
               [
                -96.179239,
                19.223012
               ],
               [
                -96.19116,
                19.242131
               ],
               [
                -96.180779,
                19.255974
               ],
               [
                -96.176431,
                19.252542
               ],
               [
                -96.146653,
                19.22382
               ],
               [
                -96.144283,
                19.207003
               ],
               [
                -96.150949,
                19.206667
               ]
              ]
             ],
             "type": "Polygon"
            },
            "id": "prograding_feature_polygon_2182",
            "properties": {},
            "type": "Feature"
           },
           {
            "bbox": [
             28.652118,
             40.951541,
             28.701571,
             40.979404
            ],
            "geometry": {
             "coordinates": [
              [
               [
                28.663042,
                40.951541
               ],
               [
                28.652118,
                40.956027
               ],
               [
                28.653195,
                40.96957
               ],
               [
                28.694875,
                40.978716
               ],
               [
                28.700697,
                40.979404
               ],
               [
                28.701571,
                40.965855
               ],
               [
                28.678146,
                40.956408
               ],
               [
                28.663042,
                40.951541
               ]
              ]
             ],
             "type": "Polygon"
            },
            "id": "prograding_feature_polygon_223",
            "properties": {},
            "type": "Feature"
           },
           {
            "bbox": [
             139.090659,
             37.948688,
             139.104758,
             37.964286
            ],
            "geometry": {
             "coordinates": [
              [
               [
                139.096742,
                37.948688
               ],
               [
                139.090659,
                37.962017
               ],
               [
                139.095455,
                37.963303
               ],
               [
                139.09977,
                37.964286
               ],
               [
                139.104758,
                37.950677
               ],
               [
                139.096742,
                37.948688
               ]
              ]
             ],
             "type": "Polygon"
            },
            "id": "prograding_feature_polygon_2661",
            "properties": {},
            "type": "Feature"
           },
           {
            "bbox": [
             139.039653,
             37.931771,
             139.062953,
             37.951602
            ],
            "geometry": {
             "coordinates": [
              [
               [
                139.052062,
                37.931771
               ],
               [
                139.039653,
                37.942017
               ],
               [
                139.042901,
                37.944464
               ],
               [
                139.047252,
                37.947517
               ],
               [
                139.050926,
                37.949555
               ],
               [
                139.057793,
                37.951602
               ],
               [
                139.062953,
                37.938031
               ],
               [
                139.052062,
                37.931771
               ]
              ]
             ],
             "type": "Polygon"
            },
            "id": "prograding_feature_polygon_2662",
            "properties": {},
            "type": "Feature"
           },
           {
            "bbox": [
             136.580335,
             36.599946,
             136.608994,
             36.62179
            ],
            "geometry": {
             "coordinates": [
              [
               [
                136.595662,
                36.599946
               ],
               [
                136.580335,
                36.607471
               ],
               [
                136.583195,
                36.611128
               ],
               [
                136.588616,
                36.616877
               ],
               [
                136.591327,
                36.619752
               ],
               [
                136.593251,
                36.62179
               ],
               [
                136.608994,
                36.614841
               ],
               [
                136.605652,
                36.611048
               ],
               [
                136.595662,
                36.599946
               ]
              ]
             ],
             "type": "Polygon"
            },
            "id": "prograding_feature_polygon_2667",
            "properties": {},
            "type": "Feature"
           },
           {
            "bbox": [
             132.239212,
             34.126371,
             132.258354,
             34.153678
            ],
            "geometry": {
             "coordinates": [
              [
               [
                132.247296,
                34.126371
               ],
               [
                132.239261,
                34.139673
               ],
               [
                132.239212,
                34.140737
               ],
               [
                132.240389,
                34.153678
               ],
               [
                132.258354,
                34.153581
               ],
               [
                132.258325,
                34.149864
               ],
               [
                132.258025,
                34.145476
               ],
               [
                132.257585,
                34.141776
               ],
               [
                132.256591,
                34.136965
               ],
               [
                132.247296,
                34.126371
               ]
              ]
             ],
             "type": "Polygon"
            },
            "id": "prograding_feature_polygon_2673",
            "properties": {},
            "type": "Feature"
           },
           {
            "bbox": [
             132.356685,
             34.343231,
             132.383938,
             34.361301
            ],
            "geometry": {
             "coordinates": [
              [
               [
                132.365564,
                34.343231
               ],
               [
                132.356685,
                34.346628
               ],
               [
                132.365847,
                34.357689
               ],
               [
                132.369565,
                34.361301
               ],
               [
                132.383938,
                34.352402
               ],
               [
                132.381243,
                34.349435
               ],
               [
                132.375556,
                34.345209
               ],
               [
                132.365564,
                34.343231
               ]
              ]
             ],
             "type": "Polygon"
            },
            "id": "prograding_feature_polygon_2676",
            "properties": {},
            "type": "Feature"
           },
           {
            "bbox": [
             135.005132,
             34.634203,
             135.015615,
             34.649524
            ],
            "geometry": {
             "coordinates": [
              [
               [
                135.012843,
                34.634203
               ],
               [
                135.005132,
                34.634746
               ],
               [
                135.005466,
                34.649524
               ],
               [
                135.009957,
                34.649455
               ],
               [
                135.015615,
                34.648807
               ],
               [
                135.012843,
                34.634203
               ]
              ]
             ],
             "type": "Polygon"
            },
            "id": "prograding_feature_polygon_2679",
            "properties": {},
            "type": "Feature"
           },
           {
            "bbox": [
             39.695819,
             40.997876,
             39.743075,
             41.018462
            ],
            "geometry": {
             "coordinates": [
              [
               [
                39.73749,
                40.997876
               ],
               [
                39.702539,
                41.000469
               ],
               [
                39.695819,
                41.013043
               ],
               [
                39.70415,
                41.015578
               ],
               [
                39.708316,
                41.016845
               ],
               [
                39.714341,
                41.018145
               ],
               [
                39.721131,
                41.018462
               ],
               [
                39.72838,
                41.017227
               ],
               [
                39.732506,
                41.015887
               ],
               [
                39.737538,
                41.014001
               ],
               [
                39.742703,
                41.011419
               ],
               [
                39.743075,
                41.010763
               ],
               [
                39.73749,
                40.997876
               ]
              ]
             ],
             "type": "Polygon"
            },
            "id": "prograding_feature_polygon_268",
            "properties": {},
            "type": "Feature"
           },
           {
            "bbox": [
             135.352444,
             34.462617,
             135.373888,
             34.475564
            ],
            "geometry": {
             "coordinates": [
              [
               [
                135.368977,
                34.462617
               ],
               [
                135.352444,
                34.469074
               ],
               [
                135.35912,
                34.475564
               ],
               [
                135.373888,
                34.467129
               ],
               [
                135.368977,
                34.462617
               ]
              ]
             ],
             "type": "Polygon"
            },
            "id": "prograding_feature_polygon_2684",
            "properties": {},
            "type": "Feature"
           },
           {
            "bbox": [
             135.27485,
             34.390338,
             135.309725,
             34.423062
            ],
            "geometry": {
             "coordinates": [
              [
               [
                135.287176,
                34.390338
               ],
               [
                135.27485,
                34.401124
               ],
               [
                135.291312,
                34.419551
               ],
               [
                135.296526,
                34.421966
               ],
               [
                135.299073,
                34.423062
               ],
               [
                135.309725,
                34.411127
               ],
               [
                135.287176,
                34.390338
               ]
              ]
             ],
             "type": "Polygon"
            },
            "id": "prograding_feature_polygon_2685",
            "properties": {},
            "type": "Feature"
           },
           {
            "bbox": [
             135.234041,
             34.361527,
             135.28064,
             34.396039
            ],
            "geometry": {
             "coordinates": [
              [
               [
                135.247435,
                34.361527
               ],
               [
                135.234041,
                34.371411
               ],
               [
                135.237034,
                34.374175
               ],
               [
                135.240028,
                34.376938
               ],
               [
                135.24375,
                34.380245
               ],
               [
                135.24709,
                34.382723
               ],
               [
                135.251669,
                34.385785
               ],
               [
                135.268314,
                34.396039
               ],
               [
                135.28064,
                34.385252
               ],
               [
                135.277372,
                34.382709
               ],
               [
                135.247435,
                34.361527
               ]
              ]
             ],
             "type": "Polygon"
            },
            "id": "prograding_feature_polygon_2686",
            "properties": {},
            "type": "Feature"
           },
           {
            "bbox": [
             135.131294,
             34.180349,
             135.152644,
             34.231491
            ],
            "geometry": {
             "coordinates": [
              [
               [
                135.145,
                34.180349
               ],
               [
                135.1388,
                34.183979
               ],
               [
                135.134552,
                34.190873
               ],
               [
                135.133583,
                34.195495
               ],
               [
                135.133234,
                34.199731
               ],
               [
                135.131294,
                34.231438
               ],
               [
                135.137116,
                34.231491
               ],
               [
                135.147235,
                34.226502
               ],
               [
                135.150355,
                34.219321
               ],
               [
                135.150883,
                34.214847
               ],
               [
                135.152644,
                34.193799
               ],
               [
                135.145,
                34.180349
               ]
              ]
             ],
             "type": "Polygon"
            },
            "id": "prograding_feature_polygon_2687",
            "properties": {},
            "type": "Feature"
           },
           {
            "bbox": [
             138.317774,
             34.840711,
             138.34408,
             34.860312
            ],
            "geometry": {
             "coordinates": [
              [
               [
                138.326562,
                34.840711
               ],
               [
                138.319253,
                34.852355
               ],
               [
                138.317774,
                34.85779
               ],
               [
                138.335476,
                34.860312
               ],
               [
                138.340055,
                34.852689
               ],
               [
                138.342476,
                34.848335
               ],
               [
                138.34408,
                34.843981
               ],
               [
                138.326562,
                34.840711
               ]
              ]
             ],
             "type": "Polygon"
            },
            "id": "prograding_feature_polygon_2705",
            "properties": {},
            "type": "Feature"
           },
           {
            "bbox": [
             138.317411,
             34.85779,
             138.342245,
             34.87174
            ],
            "geometry": {
             "coordinates": [
              [
               [
                138.317774,
                34.85779
               ],
               [
                138.317411,
                34.86324
               ],
               [
                138.319795,
                34.870069
               ],
               [
                138.324296,
                34.871102
               ],
               [
                138.342245,
                34.87174
               ],
               [
                138.335476,
                34.860312
               ],
               [
                138.317774,
                34.85779
               ]
              ]
             ],
             "type": "Polygon"
            },
            "id": "prograding_feature_polygon_2706",
            "properties": {},
            "type": "Feature"
           },
           {
            "bbox": [
             36.28448,
             41.306221,
             36.347424,
             41.339247
            ],
            "geometry": {
             "coordinates": [
              [
               [
                36.329503,
                41.306221
               ],
               [
                36.28448,
                41.326965
               ],
               [
                36.291915,
                41.339247
               ],
               [
                36.312508,
                41.334833
               ],
               [
                36.316763,
                41.333754
               ],
               [
                36.322323,
                41.332134
               ],
               [
                36.326284,
                41.330543
               ],
               [
                36.330244,
                41.328952
               ],
               [
                36.334963,
                41.326689
               ],
               [
                36.339316,
                41.324064
               ],
               [
                36.343551,
                41.320452
               ],
               [
                36.346742,
                41.313937
               ],
               [
                36.347424,
                41.307176
               ],
               [
                36.329503,
                41.306221
               ]
              ]
             ],
             "type": "Polygon"
            },
            "id": "prograding_feature_polygon_273",
            "properties": {},
            "type": "Feature"
           },
           {
            "bbox": [
             141.260386,
             38.400759,
             141.305413,
             38.425982
            ],
            "geometry": {
             "coordinates": [
              [
               [
                141.290235,
                38.400759
               ],
               [
                141.283976,
                38.400928
               ],
               [
                141.279549,
                38.401522
               ],
               [
                141.268649,
                38.407739
               ],
               [
                141.260386,
                38.418307
               ],
               [
                141.263905,
                38.422324
               ],
               [
                141.277331,
                38.425982
               ],
               [
                141.305413,
                38.421139
               ],
               [
                141.303993,
                38.408209
               ],
               [
                141.303749,
                38.407122
               ],
               [
                141.300049,
                38.4043
               ],
               [
                141.290235,
                38.400759
               ]
              ]
             ],
             "type": "Polygon"
            },
            "id": "prograding_feature_polygon_2743",
            "properties": {},
            "type": "Feature"
           },
           {
            "bbox": [
             -3.269366,
             51.385821,
             -3.246743,
             51.399959
            ],
            "geometry": {
             "coordinates": [
              [
               [
                -3.26564,
                51.385821
               ],
               [
                -3.269366,
                51.396788
               ],
               [
                -3.254237,
                51.399959
               ],
               [
                -3.246743,
                51.389771
               ],
               [
                -3.251529,
                51.388591
               ],
               [
                -3.255737,
                51.387611
               ],
               [
                -3.260644,
                51.386681
               ],
               [
                -3.26564,
                51.385821
               ]
              ]
             ],
             "type": "Polygon"
            },
            "id": "prograding_feature_polygon_2768",
            "properties": {},
            "type": "Feature"
           },
           {
            "bbox": [
             -3.152758,
             51.457782,
             -3.117765,
             51.485398
            ],
            "geometry": {
             "coordinates": [
              [
               [
                -3.137831,
                51.457782
               ],
               [
                -3.152758,
                51.464011
               ],
               [
                -3.133894,
                51.485398
               ],
               [
                -3.117765,
                51.480469
               ],
               [
                -3.121723,
                51.475446
               ],
               [
                -3.123702,
                51.472935
               ],
               [
                -3.125985,
                51.470141
               ],
               [
                -3.128203,
                51.467708
               ],
               [
                -3.130422,
                51.465275
               ],
               [
                -3.132641,
                51.462842
               ],
               [
                -3.135331,
                51.460107
               ],
               [
                -3.137831,
                51.457782
               ]
              ]
             ],
             "type": "Polygon"
            },
            "id": "prograding_feature_polygon_2769",
            "properties": {},
            "type": "Feature"
           },
           {
            "bbox": [
             29.08627,
             40.909003,
             29.139371,
             40.957849
            ],
            "geometry": {
             "coordinates": [
              [
               [
                29.124981,
                40.909003
               ],
               [
                29.117087,
                40.915584
               ],
               [
                29.113577,
                40.918691
               ],
               [
                29.08627,
                40.945809
               ],
               [
                29.094556,
                40.957849
               ],
               [
                29.099301,
                40.955503
               ],
               [
                29.102979,
                40.953556
               ],
               [
                29.107563,
                40.950529
               ],
               [
                29.111181,
                40.947233
               ],
               [
                29.139371,
                40.917133
               ],
               [
                29.124981,
                40.909003
               ]
              ]
             ],
             "type": "Polygon"
            },
            "id": "prograding_feature_polygon_279",
            "properties": {},
            "type": "Feature"
           },
           {
            "bbox": [
             -1.36723,
             54.908647,
             -1.34874,
             54.913122
            ],
            "geometry": {
             "coordinates": [
              [
               [
                -1.366387,
                54.908647
               ],
               [
                -1.36723,
                54.911183
               ],
               [
                -1.349583,
                54.913122
               ],
               [
                -1.34874,
                54.910586
               ],
               [
                -1.366387,
                54.908647
               ]
              ]
             ],
             "type": "Polygon"
            },
            "id": "prograding_feature_polygon_2796",
            "properties": {},
            "type": "Feature"
           },
           {
            "bbox": [
             29.213096,
             40.842882,
             29.275375,
             40.883334
            ],
            "geometry": {
             "coordinates": [
              [
               [
                29.273632,
                40.842882
               ],
               [
                29.213096,
                40.870928
               ],
               [
                29.220416,
                40.883334
               ],
               [
                29.250124,
                40.877231
               ],
               [
                29.256135,
                40.874678
               ],
               [
                29.260625,
                40.871863
               ],
               [
                29.275375,
                40.862235
               ],
               [
                29.273632,
                40.842882
               ]
              ]
             ],
             "type": "Polygon"
            },
            "id": "prograding_feature_polygon_280",
            "properties": {},
            "type": "Feature"
           },
           {
            "bbox": [
             29.293244,
             40.802253,
             29.350851,
             40.821879
            ],
            "geometry": {
             "coordinates": [
              [
               [
                29.335788,
                40.802253
               ],
               [
                29.294808,
                40.807467
               ],
               [
                29.293244,
                40.821013
               ],
               [
                29.298149,
                40.821266
               ],
               [
                29.311613,
                40.821672
               ],
               [
                29.316101,
                40.821807
               ],
               [
                29.32148,
                40.821879
               ],
               [
                29.325964,
                40.821677
               ],
               [
                29.332408,
                40.821073
               ],
               [
                29.338347,
                40.81919
               ],
               [
                29.343415,
                40.816082
               ],
               [
                29.347352,
                40.813107
               ],
               [
                29.350851,
                40.809665
               ],
               [
                29.335788,
                40.802253
               ]
              ]
             ],
             "type": "Polygon"
            },
            "id": "prograding_feature_polygon_281",
            "properties": {},
            "type": "Feature"
           },
           {
            "bbox": [
             106.819447,
             -6.129412,
             106.849477,
             -6.10968
            ],
            "geometry": {
             "coordinates": [
              [
               [
                106.842465,
                -6.129412
               ],
               [
                106.836614,
                -6.129323
               ],
               [
                106.819447,
                -6.127519
               ],
               [
                106.820385,
                -6.10968
               ],
               [
                106.824871,
                -6.109913
               ],
               [
                106.843772,
                -6.111213
               ],
               [
                106.849477,
                -6.128153
               ],
               [
                106.842465,
                -6.129412
               ]
              ]
             ],
             "type": "Polygon"
            },
            "id": "prograding_feature_polygon_2821",
            "properties": {},
            "type": "Feature"
           },
           {
            "bbox": [
             26.998601,
             38.394283,
             27.109121,
             38.421572
            ],
            "geometry": {
             "coordinates": [
              [
               [
                27.084864,
                38.394283
               ],
               [
                27.078192,
                38.394441
               ],
               [
                27.005767,
                38.401793
               ],
               [
                26.998601,
                38.414703
               ],
               [
                27.015576,
                38.420169
               ],
               [
                27.022304,
                38.421572
               ],
               [
                27.028997,
                38.421075
               ],
               [
                27.101127,
                38.413918
               ],
               [
                27.109121,
                38.401309
               ],
               [
                27.101076,
                38.398177
               ],
               [
                27.096205,
                38.396573
               ],
               [
                27.090925,
                38.39519
               ],
               [
                27.084864,
                38.394283
               ]
              ]
             ],
             "type": "Polygon"
            },
            "id": "prograding_feature_polygon_286",
            "properties": {},
            "type": "Feature"
           },
           {
            "bbox": [
             -72.387674,
             18.526974,
             -72.342437,
             18.549652
            ],
            "geometry": {
             "coordinates": [
              [
               [
                -72.372596,
                18.526974
               ],
               [
                -72.377046,
                18.52755
               ],
               [
                -72.383516,
                18.52925
               ],
               [
                -72.387674,
                18.53086
               ],
               [
                -72.380881,
                18.54663
               ],
               [
                -72.360387,
                18.549652
               ],
               [
                -72.342437,
                18.548922
               ],
               [
                -72.34485,
                18.542026
               ],
               [
                -72.348939,
                18.535985
               ],
               [
                -72.35459,
                18.531179
               ],
               [
                -72.358604,
                18.529267
               ],
               [
                -72.365629,
                18.527395
               ],
               [
                -72.372596,
                18.526974
               ]
              ]
             ],
             "type": "Polygon"
            },
            "id": "prograding_feature_polygon_2921",
            "properties": {},
            "type": "Feature"
           },
           {
            "bbox": [
             -72.359657,
             18.560581,
             -72.33833,
             18.57885
            ],
            "geometry": {
             "coordinates": [
              [
               [
                -72.341959,
                18.560581
               ],
               [
                -72.359657,
                18.563512
               ],
               [
                -72.358381,
                18.569312
               ],
               [
                -72.355476,
                18.574584
               ],
               [
                -72.352042,
                18.57885
               ],
               [
                -72.33833,
                18.567845
               ],
               [
                -72.341959,
                18.560581
               ]
              ]
             ],
             "type": "Polygon"
            },
            "id": "prograding_feature_polygon_2922",
            "properties": {},
            "type": "Feature"
           },
           {
            "bbox": [
             35.838249,
             34.449594,
             35.84759,
             34.464553
            ],
            "geometry": {
             "coordinates": [
              [
               [
                35.838609,
                34.449594
               ],
               [
                35.838249,
                34.464405
               ],
               [
                35.842739,
                34.464479
               ],
               [
                35.84723,
                34.464553
               ],
               [
                35.84759,
                34.449742
               ],
               [
                35.838609,
                34.449594
               ]
              ]
             ],
             "type": "Polygon"
            },
            "id": "prograding_feature_polygon_296",
            "properties": {},
            "type": "Feature"
           },
           {
            "bbox": [
             35.817685,
             34.446875,
             35.834986,
             34.463978
            ],
            "geometry": {
             "coordinates": [
              [
               [
                35.824373,
                34.446875
               ],
               [
                35.817685,
                34.460625
               ],
               [
                35.821854,
                34.462003
               ],
               [
                35.827269,
                34.463307
               ],
               [
                35.83294,
                34.463978
               ],
               [
                35.834986,
                34.449261
               ],
               [
                35.824373,
                34.446875
               ]
              ]
             ],
             "type": "Polygon"
            },
            "id": "prograding_feature_polygon_297",
            "properties": {},
            "type": "Feature"
           },
           {
            "bbox": [
             131.459475,
             31.924049,
             131.47892,
             31.934687
            ],
            "geometry": {
             "coordinates": [
              [
               [
                131.477046,
                31.924049
               ],
               [
                131.459475,
                31.927231
               ],
               [
                131.460412,
                31.930959
               ],
               [
                131.46135,
                31.934687
               ],
               [
                131.47892,
                31.931505
               ],
               [
                131.477983,
                31.927777
               ],
               [
                131.477046,
                31.924049
               ]
              ]
             ],
             "type": "Polygon"
            },
            "id": "prograding_feature_polygon_2988",
            "properties": {},
            "type": "Feature"
           },
           {
            "bbox": [
             35.532745,
             33.893114,
             35.57052,
             33.913856
            ],
            "geometry": {
             "coordinates": [
              [
               [
                35.552156,
                33.893114
               ],
               [
                35.54585,
                33.894589
               ],
               [
                35.533642,
                33.898964
               ],
               [
                35.532745,
                33.913856
               ],
               [
                35.562903,
                33.91095
               ],
               [
                35.57052,
                33.897445
               ],
               [
                35.566452,
                33.895864
               ],
               [
                35.560345,
                33.893763
               ],
               [
                35.552156,
                33.893114
               ]
              ]
             ],
             "type": "Polygon"
            },
            "id": "prograding_feature_polygon_299",
            "properties": {},
            "type": "Feature"
           },
           {
            "bbox": [
             130.388866,
             33.635966,
             130.423537,
             33.672338
            ],
            "geometry": {
             "coordinates": [
              [
               [
                130.418462,
                33.635966
               ],
               [
                130.408056,
                33.641482
               ],
               [
                130.406521,
                33.642623
               ],
               [
                130.397381,
                33.651153
               ],
               [
                130.388866,
                33.660511
               ],
               [
                130.397638,
                33.671994
               ],
               [
                130.398898,
                33.672338
               ],
               [
                130.417447,
                33.659741
               ],
               [
                130.423537,
                33.642925
               ],
               [
                130.418462,
                33.635966
               ]
              ]
             ],
             "type": "Polygon"
            },
            "id": "prograding_feature_polygon_2990",
            "properties": {},
            "type": "Feature"
           },
           {
            "bbox": [
             120.332721,
             22.496294,
             120.368755,
             22.526399
            ],
            "geometry": {
             "coordinates": [
              [
               [
                120.359773,
                22.496294
               ],
               [
                120.348103,
                22.502518
               ],
               [
                120.343516,
                22.505541
               ],
               [
                120.339367,
                22.508537
               ],
               [
                120.332721,
                22.514121
               ],
               [
                120.344809,
                22.526399
               ],
               [
                120.368755,
                22.510669
               ],
               [
                120.359773,
                22.496294
               ]
              ]
             ],
             "type": "Polygon"
            },
            "id": "prograding_feature_polygon_2995",
            "properties": {},
            "type": "Feature"
           },
           {
            "bbox": [
             120.322475,
             22.514121,
             120.344809,
             22.549696
            ],
            "geometry": {
             "coordinates": [
              [
               [
                120.332721,
                22.514121
               ],
               [
                120.329398,
                22.516912
               ],
               [
                120.325497,
                22.520281
               ],
               [
                120.322475,
                22.523351
               ],
               [
                120.336973,
                22.549696
               ],
               [
                120.344809,
                22.526399
               ],
               [
                120.332721,
                22.514121
               ]
              ]
             ],
             "type": "Polygon"
            },
            "id": "prograding_feature_polygon_2996",
            "properties": {},
            "type": "Feature"
           },
           {
            "bbox": [
             120.308454,
             22.529489,
             120.340252,
             22.562659
            ],
            "geometry": {
             "coordinates": [
              [
               [
                120.316431,
                22.529489
               ],
               [
                120.312896,
                22.53351
               ],
               [
                120.309397,
                22.538789
               ],
               [
                120.308454,
                22.547683
               ],
               [
                120.333488,
                22.562659
               ],
               [
                120.337191,
                22.559352
               ],
               [
                120.340252,
                22.556317
               ],
               [
                120.329722,
                22.540655
               ],
               [
                120.316431,
                22.529489
               ]
              ]
             ],
             "type": "Polygon"
            },
            "id": "prograding_feature_polygon_2997",
            "properties": {},
            "type": "Feature"
           },
           {
            "bbox": [
             35.489385,
             33.895271,
             35.521298,
             33.913937
            ],
            "geometry": {
             "coordinates": [
              [
               [
                35.490787,
                33.895271
               ],
               [
                35.489385,
                33.910137
               ],
               [
                35.499838,
                33.912672
               ],
               [
                35.505946,
                33.913937
               ],
               [
                35.515557,
                33.912533
               ],
               [
                35.519001,
                33.911229
               ],
               [
                35.521298,
                33.896439
               ],
               [
                35.490787,
                33.895271
               ]
              ]
             ],
             "type": "Polygon"
            },
            "id": "prograding_feature_polygon_300",
            "properties": {},
            "type": "Feature"
           },
           {
            "bbox": [
             35.4672,
             33.81969,
             35.491199,
             33.85008
            ],
            "geometry": {
             "coordinates": [
              [
               [
                35.473287,
                33.81969
               ],
               [
                35.4672,
                33.836633
               ],
               [
                35.467465,
                33.84412
               ],
               [
                35.473071,
                33.85008
               ],
               [
                35.484806,
                33.839608
               ],
               [
                35.489089,
                33.829423
               ],
               [
                35.490215,
                33.825811
               ],
               [
                35.491199,
                33.820851
               ],
               [
                35.473287,
                33.81969
               ]
              ]
             ],
             "type": "Polygon"
            },
            "id": "prograding_feature_polygon_301",
            "properties": {},
            "type": "Feature"
           },
           {
            "bbox": [
             110.29721,
             20.036679,
             110.319395,
             20.073053
            ],
            "geometry": {
             "coordinates": [
              [
               [
                110.315531,
                20.036679
               ],
               [
                110.2989,
                20.054702
               ],
               [
                110.29721,
                20.073053
               ],
               [
                110.311073,
                20.067114
               ],
               [
                110.312897,
                20.065847
               ],
               [
                110.319395,
                20.03883
               ],
               [
                110.315531,
                20.036679
               ]
              ]
             ],
             "type": "Polygon"
            },
            "id": "prograding_feature_polygon_3028",
            "properties": {},
            "type": "Feature"
           },
           {
            "bbox": [
             35.352148,
             33.534582,
             35.370364,
             33.549124
            ],
            "geometry": {
             "coordinates": [
              [
               [
                35.369573,
                33.534582
               ],
               [
                35.352148,
                33.538232
               ],
               [
                35.354338,
                33.545494
               ],
               [
                35.355433,
                33.549124
               ],
               [
                35.370364,
                33.546501
               ],
               [
                35.369573,
                33.534582
               ]
              ]
             ],
             "type": "Polygon"
            },
            "id": "prograding_feature_polygon_303",
            "properties": {},
            "type": "Feature"
           },
           {
            "bbox": [
             30.305402,
             31.351516,
             30.328935,
             31.370763
            ],
            "geometry": {
             "coordinates": [
              [
               [
                30.32092,
                31.351516
               ],
               [
                30.305402,
                31.359248
               ],
               [
                30.312944,
                31.370763
               ],
               [
                30.328935,
                31.363771
               ],
               [
                30.325447,
                31.358142
               ],
               [
                30.323184,
                31.354829
               ],
               [
                30.32092,
                31.351516
               ]
              ]
             ],
             "type": "Polygon"
            },
            "id": "prograding_feature_polygon_328",
            "properties": {},
            "type": "Feature"
           },
           {
            "bbox": [
             10.762283,
             34.719436,
             10.820429,
             34.775438
            ],
            "geometry": {
             "coordinates": [
              [
               [
                10.788604,
                34.719436
               ],
               [
                10.774156,
                34.719582
               ],
               [
                10.762702,
                34.720481
               ],
               [
                10.762283,
                34.724156
               ],
               [
                10.762378,
                34.729852
               ],
               [
                10.778017,
                34.750116
               ],
               [
                10.78189,
                34.754221
               ],
               [
                10.785472,
                34.757381
               ],
               [
                10.806599,
                34.775438
               ],
               [
                10.820429,
                34.766017
               ],
               [
                10.788604,
                34.719436
               ]
              ]
             ],
             "type": "Polygon"
            },
            "id": "prograding_feature_polygon_347",
            "properties": {},
            "type": "Feature"
           },
           {
            "bbox": [
             -7.629648,
             33.601192,
             -7.565953,
             33.618536
            ],
            "geometry": {
             "coordinates": [
              [
               [
                -7.620666,
                33.601192
               ],
               [
                -7.625157,
                33.601255
               ],
               [
                -7.629648,
                33.601319
               ],
               [
                -7.629342,
                33.61628
               ],
               [
                -7.573864,
                33.618536
               ],
               [
                -7.565953,
                33.605102
               ],
               [
                -7.569986,
                33.603454
               ],
               [
                -7.58085,
                33.602867
               ],
               [
                -7.620666,
                33.601192
               ]
              ]
             ],
             "type": "Polygon"
            },
            "id": "prograding_feature_polygon_368",
            "properties": {},
            "type": "Feature"
           },
           {
            "bbox": [
             2.336057,
             6.330615,
             2.435021,
             6.35691
            ],
            "geometry": {
             "coordinates": [
              [
               [
                2.426618,
                6.330615
               ],
               [
                2.419443,
                6.331263
               ],
               [
                2.336532,
                6.338824
               ],
               [
                2.336057,
                6.356674
               ],
               [
                2.340547,
                6.356792
               ],
               [
                2.345037,
                6.35691
               ],
               [
                2.350091,
                6.356794
               ],
               [
                2.359068,
                6.356469
               ],
               [
                2.363556,
                6.356306
               ],
               [
                2.368485,
                6.355982
               ],
               [
                2.372959,
                6.355597
               ],
               [
                2.381909,
                6.354826
               ],
               [
                2.386384,
                6.35444
               ],
               [
                2.391235,
                6.353821
               ],
               [
                2.404594,
                6.352073
               ],
               [
                2.409508,
                6.35128
               ],
               [
                2.413923,
                6.350458
               ],
               [
                2.435021,
                6.339339
               ],
               [
                2.426618,
                6.330615
               ]
              ]
             ],
             "type": "Polygon"
            },
            "id": "prograding_feature_polygon_448",
            "properties": {},
            "type": "Feature"
           },
           {
            "bbox": [
             13.146054,
             -8.945728,
             13.166874,
             -8.923754
            ],
            "geometry": {
             "coordinates": [
              [
               [
                13.162829,
                -8.945728
               ],
               [
                13.146054,
                -8.939375
               ],
               [
                13.149141,
                -8.923754
               ],
               [
                13.166874,
                -8.926603
               ],
               [
                13.165432,
                -8.935362
               ],
               [
                13.164303,
                -8.940439
               ],
               [
                13.162829,
                -8.945728
               ]
              ]
             ],
             "type": "Polygon"
            },
            "id": "prograding_feature_polygon_485",
            "properties": {},
            "type": "Feature"
           },
           {
            "bbox": [
             13.077748,
             -9.002368,
             13.09969,
             -8.981038
            ],
            "geometry": {
             "coordinates": [
              [
               [
                13.091424,
                -9.002368
               ],
               [
                13.077748,
                -8.990861
               ],
               [
                13.084124,
                -8.981038
               ],
               [
                13.09969,
                -8.989901
               ],
               [
                13.097447,
                -8.993744
               ],
               [
                13.09447,
                -8.998378
               ],
               [
                13.091424,
                -9.002368
               ]
              ]
             ],
             "type": "Polygon"
            },
            "id": "prograding_feature_polygon_486",
            "properties": {},
            "type": "Feature"
           },
           {
            "bbox": [
             31.01987,
             -29.883354,
             31.054347,
             -29.857045
            ],
            "geometry": {
             "coordinates": [
              [
               [
                31.032859,
                -29.883354
               ],
               [
                31.029585,
                -29.881386
               ],
               [
                31.024998,
                -29.872971
               ],
               [
                31.01987,
                -29.858039
               ],
               [
                31.026261,
                -29.857045
               ],
               [
                31.052739,
                -29.859666
               ],
               [
                31.054347,
                -29.864571
               ],
               [
                31.040715,
                -29.87884
               ],
               [
                31.032859,
                -29.883354
               ]
              ]
             ],
             "type": "Polygon"
            },
            "id": "prograding_feature_polygon_529",
            "properties": {},
            "type": "Feature"
           },
           {
            "bbox": [
             31.034244,
             -29.87884,
             31.054924,
             -29.85595
            ],
            "geometry": {
             "coordinates": [
              [
               [
                31.040715,
                -29.87884
               ],
               [
                31.034244,
                -29.876225
               ],
               [
                31.039862,
                -29.859194
               ],
               [
                31.051389,
                -29.85595
               ],
               [
                31.052739,
                -29.859666
               ],
               [
                31.054347,
                -29.864571
               ],
               [
                31.054924,
                -29.873197
               ],
               [
                31.040715,
                -29.87884
               ]
              ]
             ],
             "type": "Polygon"
            },
            "id": "prograding_feature_polygon_530",
            "properties": {},
            "type": "Feature"
           },
           {
            "bbox": [
             43.123751,
             11.583203,
             43.163128,
             11.623676
            ],
            "geometry": {
             "coordinates": [
              [
               [
                43.130602,
                11.583203
               ],
               [
                43.123751,
                11.599473
               ],
               [
                43.131761,
                11.620708
               ],
               [
                43.137605,
                11.622653
               ],
               [
                43.141973,
                11.623676
               ],
               [
                43.163128,
                11.611277
               ],
               [
                43.145969,
                11.593516
               ],
               [
                43.140896,
                11.588418
               ],
               [
                43.135742,
                11.585386
               ],
               [
                43.130602,
                11.583203
               ]
              ]
             ],
             "type": "Polygon"
            },
            "id": "prograding_feature_polygon_634",
            "properties": {},
            "type": "Feature"
           },
           {
            "bbox": [
             43.107567,
             11.576904,
             43.122266,
             11.596131
            ],
            "geometry": {
             "coordinates": [
              [
               [
                43.11308,
                11.576904
               ],
               [
                43.107567,
                11.593655
               ],
               [
                43.111842,
                11.595006
               ],
               [
                43.115478,
                11.596131
               ],
               [
                43.122266,
                11.579835
               ],
               [
                43.117355,
                11.578254
               ],
               [
                43.11308,
                11.576904
               ]
              ]
             ],
             "type": "Polygon"
            },
            "id": "prograding_feature_polygon_635",
            "properties": {},
            "type": "Feature"
           },
           {
            "bbox": [
             4.147589,
             52.0216,
             4.239495,
             52.084685
            ],
            "geometry": {
             "coordinates": [
              [
               [
                4.162136,
                52.0216
               ],
               [
                4.147589,
                52.028088
               ],
               [
                4.176589,
                52.056772
               ],
               [
                4.225461,
                52.084685
               ],
               [
                4.239495,
                52.077791
               ],
               [
                4.162136,
                52.0216
               ]
              ]
             ],
             "type": "Polygon"
            },
            "id": "prograding_feature_polygon_69",
            "properties": {},
            "type": "Feature"
           },
           {
            "bbox": [
             39.080633,
             21.683518,
             39.101068,
             21.720275
            ],
            "geometry": {
             "coordinates": [
              [
               [
                39.083893,
                21.683518
               ],
               [
                39.082574,
                21.687508
               ],
               [
                39.081062,
                21.693181
               ],
               [
                39.080633,
                21.697335
               ],
               [
                39.086521,
                21.720275
               ],
               [
                39.092478,
                21.711803
               ],
               [
                39.098517,
                21.69893
               ],
               [
                39.101068,
                21.688419
               ],
               [
                39.083893,
                21.683518
               ]
              ]
             ],
             "type": "Polygon"
            },
            "id": "prograding_feature_polygon_710",
            "properties": {},
            "type": "Feature"
           },
           {
            "bbox": [
             39.177478,
             21.405891,
             39.195878,
             21.424657
            ],
            "geometry": {
             "coordinates": [
              [
               [
                39.18487,
                21.405891
               ],
               [
                39.17858,
                21.41035
               ],
               [
                39.177478,
                21.412471
               ],
               [
                39.180062,
                21.417992
               ],
               [
                39.190228,
                21.424657
               ],
               [
                39.193329,
                21.420344
               ],
               [
                39.195878,
                21.414871
               ],
               [
                39.18487,
                21.405891
               ]
              ]
             ],
             "type": "Polygon"
            },
            "id": "prograding_feature_polygon_713",
            "properties": {},
            "type": "Feature"
           },
           {
            "bbox": [
             42.943322,
             14.753296,
             42.962726,
             14.765293
            ],
            "geometry": {
             "coordinates": [
              [
               [
                42.945125,
                14.753296
               ],
               [
                42.943322,
                14.761806
               ],
               [
                42.960923,
                14.765293
               ],
               [
                42.962726,
                14.756783
               ],
               [
                42.945125,
                14.753296
               ]
              ]
             ],
             "type": "Polygon"
            },
            "id": "prograding_feature_polygon_742",
            "properties": {},
            "type": "Feature"
           },
           {
            "bbox": [
             45.008145,
             12.788842,
             45.030166,
             12.825881
            ],
            "geometry": {
             "coordinates": [
              [
               [
                45.018067,
                12.788842
               ],
               [
                45.008145,
                12.818061
               ],
               [
                45.024221,
                12.825881
               ],
               [
                45.026226,
                12.821963
               ],
               [
                45.028319,
                12.816934
               ],
               [
                45.029767,
                12.811234
               ],
               [
                45.030166,
                12.80318
               ],
               [
                45.018067,
                12.788842
               ]
              ]
             ],
             "type": "Polygon"
            },
            "id": "prograding_feature_polygon_748",
            "properties": {},
            "type": "Feature"
           },
           {
            "bbox": [
             49.104012,
             14.51795,
             49.119975,
             14.536284
            ],
            "geometry": {
             "coordinates": [
              [
               [
                49.108261,
                14.51795
               ],
               [
                49.104012,
                14.534849
               ],
               [
                49.11008,
                14.535837
               ],
               [
                49.114566,
                14.536061
               ],
               [
                49.119052,
                14.536284
               ],
               [
                49.119975,
                14.518915
               ],
               [
                49.108261,
                14.51795
               ]
              ]
             ],
             "type": "Polygon"
            },
            "id": "prograding_feature_polygon_755",
            "properties": {},
            "type": "Feature"
           },
           {
            "bbox": [
             55.457618,
             25.426448,
             55.487165,
             25.470526
            ],
            "geometry": {
             "coordinates": [
              [
               [
                55.475441,
                25.426448
               ],
               [
                55.457618,
                25.445071
               ],
               [
                55.469761,
                25.466465
               ],
               [
                55.472926,
                25.470526
               ],
               [
                55.487165,
                25.460634
               ],
               [
                55.47779,
                25.427168
               ],
               [
                55.475441,
                25.426448
               ]
              ]
             ],
             "type": "Polygon"
            },
            "id": "prograding_feature_polygon_801",
            "properties": {},
            "type": "Feature"
           },
           {
            "bbox": [
             55.250602,
             25.25078,
             55.289281,
             25.286023
            ],
            "geometry": {
             "coordinates": [
              [
               [
                55.260241,
                25.25078
               ],
               [
                55.253085,
                25.254929
               ],
               [
                55.250602,
                25.271656
               ],
               [
                55.253053,
                25.276124
               ],
               [
                55.255097,
                25.27974
               ],
               [
                55.269148,
                25.286023
               ],
               [
                55.281731,
                25.28474
               ],
               [
                55.289281,
                25.268564
               ],
               [
                55.276913,
                25.256836
               ],
               [
                55.275351,
                25.25589
               ],
               [
                55.260241,
                25.25078
               ]
              ]
             ],
             "type": "Polygon"
            },
            "id": "prograding_feature_polygon_803",
            "properties": {},
            "type": "Feature"
           },
           {
            "bbox": [
             55.254995,
             25.227875,
             55.271612,
             25.241473
            ],
            "geometry": {
             "coordinates": [
              [
               [
                55.268711,
                25.227875
               ],
               [
                55.254995,
                25.238371
               ],
               [
                55.257896,
                25.241473
               ],
               [
                55.271612,
                25.230977
               ],
               [
                55.268711,
                25.227875
               ]
              ]
             ],
             "type": "Polygon"
            },
            "id": "prograding_feature_polygon_804",
            "properties": {},
            "type": "Feature"
           },
           {
            "bbox": [
             55.246089,
             25.219018,
             55.268711,
             25.238371
            ],
            "geometry": {
             "coordinates": [
              [
               [
                55.261011,
                25.219018
               ],
               [
                55.246089,
                25.22807
               ],
               [
                55.248967,
                25.231915
               ],
               [
                55.252094,
                25.235269
               ],
               [
                55.254995,
                25.238371
               ],
               [
                55.268711,
                25.227875
               ],
               [
                55.261011,
                25.219018
               ]
              ]
             ],
             "type": "Polygon"
            },
            "id": "prograding_feature_polygon_805",
            "properties": {},
            "type": "Feature"
           },
           {
            "bbox": [
             55.238584,
             25.208893,
             55.261011,
             25.22807
            ],
            "geometry": {
             "coordinates": [
              [
               [
                55.253506,
                25.208893
               ],
               [
                55.238584,
                25.217946
               ],
               [
                55.246089,
                25.22807
               ],
               [
                55.261011,
                25.219018
               ],
               [
                55.256008,
                25.212268
               ],
               [
                55.253506,
                25.208893
               ]
              ]
             ],
             "type": "Polygon"
            },
            "id": "prograding_feature_polygon_806",
            "properties": {},
            "type": "Feature"
           },
           {
            "bbox": [
             55.172585,
             25.126519,
             55.208481,
             25.162312
            ],
            "geometry": {
             "coordinates": [
              [
               [
                55.18698,
                25.126519
               ],
               [
                55.172585,
                25.136251
               ],
               [
                55.180648,
                25.146025
               ],
               [
                55.191399,
                25.159055
               ],
               [
                55.194087,
                25.162312
               ],
               [
                55.208481,
                25.152581
               ],
               [
                55.200419,
                25.142808
               ],
               [
                55.192356,
                25.133035
               ],
               [
                55.18698,
                25.126519
               ]
              ]
             ],
             "type": "Polygon"
            },
            "id": "prograding_feature_polygon_808",
            "properties": {},
            "type": "Feature"
           },
           {
            "bbox": [
             55.128923,
             25.080586,
             55.155796,
             25.09815
            ],
            "geometry": {
             "coordinates": [
              [
               [
                55.14282,
                25.080586
               ],
               [
                55.128923,
                25.090899
               ],
               [
                55.132517,
                25.094613
               ],
               [
                55.13572,
                25.097464
               ],
               [
                55.146085,
                25.09815
               ],
               [
                55.155796,
                25.090597
               ],
               [
                55.14282,
                25.080586
               ]
              ]
             ],
             "type": "Polygon"
            },
            "id": "prograding_feature_polygon_810",
            "properties": {},
            "type": "Feature"
           },
           {
            "bbox": [
             55.126077,
             25.077439,
             55.14282,
             25.090899
            ],
            "geometry": {
             "coordinates": [
              [
               [
                55.139974,
                25.077439
               ],
               [
                55.126077,
                25.087752
               ],
               [
                55.128923,
                25.090899
               ],
               [
                55.14282,
                25.080586
               ],
               [
                55.139974,
                25.077439
               ]
              ]
             ],
             "type": "Polygon"
            },
            "id": "prograding_feature_polygon_811",
            "properties": {},
            "type": "Feature"
           },
           {
            "bbox": [
             55.040956,
             25.01401,
             55.078654,
             25.04126
            ],
            "geometry": {
             "coordinates": [
              [
               [
                55.058875,
                25.01401
               ],
               [
                55.040956,
                25.015189
               ],
               [
                55.045263,
                25.037859
               ],
               [
                55.050974,
                25.04126
               ],
               [
                55.071409,
                25.033949
               ],
               [
                55.078654,
                25.019052
               ],
               [
                55.058875,
                25.01401
               ]
              ]
             ],
             "type": "Polygon"
            },
            "id": "prograding_feature_polygon_812",
            "properties": {},
            "type": "Feature"
           },
           {
            "bbox": [
             54.481902,
             24.416655,
             54.499704,
             24.450485
            ],
            "geometry": {
             "coordinates": [
              [
               [
                54.488523,
                24.416655
               ],
               [
                54.481902,
                24.416871
               ],
               [
                54.484976,
                24.432988
               ],
               [
                54.490104,
                24.450485
               ],
               [
                54.499704,
                24.43441
               ],
               [
                54.496706,
                24.418971
               ],
               [
                54.488523,
                24.416655
               ]
              ]
             ],
             "type": "Polygon"
            },
            "id": "prograding_feature_polygon_832",
            "properties": {},
            "type": "Feature"
           },
           {
            "bbox": [
             54.324453,
             24.470792,
             54.37635,
             24.520242
            ],
            "geometry": {
             "coordinates": [
              [
               [
                54.348402,
                24.470792
               ],
               [
                54.324453,
                24.4881
               ],
               [
                54.325066,
                24.49325
               ],
               [
                54.347292,
                24.507691
               ],
               [
                54.373832,
                24.520242
               ],
               [
                54.37635,
                24.516858
               ],
               [
                54.376329,
                24.504925
               ],
               [
                54.374449,
                24.501214
               ],
               [
                54.371605,
                24.496408
               ],
               [
                54.369063,
                24.493038
               ],
               [
                54.365793,
                24.488857
               ],
               [
                54.353269,
                24.475466
               ],
               [
                54.348402,
                24.470792
               ]
              ]
             ],
             "type": "Polygon"
            },
            "id": "prograding_feature_polygon_841",
            "properties": {},
            "type": "Feature"
           },
           {
            "bbox": [
             54.433089,
             24.340512,
             54.475189,
             24.374749
            ],
            "geometry": {
             "coordinates": [
              [
               [
                54.441442,
                24.340512
               ],
               [
                54.433089,
                24.351934
               ],
               [
                54.461365,
                24.374749
               ],
               [
                54.475189,
                24.364296
               ],
               [
                54.467713,
                24.341921
               ],
               [
                54.459397,
                24.341079
               ],
               [
                54.441442,
                24.340512
               ]
              ]
             ],
             "type": "Polygon"
            },
            "id": "prograding_feature_polygon_844",
            "properties": {},
            "type": "Feature"
           },
           {
            "bbox": [
             51.537756,
             25.281825,
             51.559692,
             25.306802
            ],
            "geometry": {
             "coordinates": [
              [
               [
                51.552739,
                25.281825
               ],
               [
                51.540039,
                25.286959
               ],
               [
                51.537756,
                25.302968
               ],
               [
                51.538021,
                25.3031
               ],
               [
                51.546718,
                25.306802
               ],
               [
                51.55784,
                25.298439
               ],
               [
                51.557983,
                25.298262
               ],
               [
                51.559302,
                25.294599
               ],
               [
                51.559692,
                25.282092
               ],
               [
                51.552739,
                25.281825
               ]
              ]
             ],
             "type": "Polygon"
            },
            "id": "prograding_feature_polygon_876",
            "properties": {},
            "type": "Feature"
           },
           {
            "bbox": [
             50.138923,
             26.416211,
             50.188857,
             26.44367
            ],
            "geometry": {
             "coordinates": [
              [
               [
                50.1578,
                26.416211
               ],
               [
                50.152451,
                26.417622
               ],
               [
                50.147936,
                26.419574
               ],
               [
                50.143897,
                26.421333
               ],
               [
                50.138923,
                26.423769
               ],
               [
                50.148842,
                26.437184
               ],
               [
                50.164479,
                26.44367
               ],
               [
                50.180707,
                26.436767
               ],
               [
                50.188857,
                26.424583
               ],
               [
                50.18558,
                26.421833
               ],
               [
                50.1578,
                26.416211
               ]
              ]
             ],
             "type": "Polygon"
            },
            "id": "prograding_feature_polygon_903",
            "properties": {},
            "type": "Feature"
           },
           {
            "bbox": [
             50.02289,
             26.474737,
             50.073047,
             26.556009
            ],
            "geometry": {
             "coordinates": [
              [
               [
                50.058609,
                26.474737
               ],
               [
                50.036902,
                26.496757
               ],
               [
                50.034604,
                26.50233
               ],
               [
                50.02289,
                26.536673
               ],
               [
                50.0449,
                26.556009
               ],
               [
                50.073047,
                26.484307
               ],
               [
                50.058609,
                26.474737
               ]
              ]
             ],
             "type": "Polygon"
            },
            "id": "prograding_feature_polygon_906",
            "properties": {},
            "type": "Feature"
           },
           {
            "bbox": [
             50.016383,
             26.529445,
             50.080699,
             26.563307
            ],
            "geometry": {
             "coordinates": [
              [
               [
                50.028364,
                26.529445
               ],
               [
                50.025254,
                26.533257
               ],
               [
                50.02289,
                26.536673
               ],
               [
                50.019914,
                26.541283
               ],
               [
                50.018202,
                26.544998
               ],
               [
                50.016383,
                26.550365
               ],
               [
                50.023463,
                26.562978
               ],
               [
                50.032744,
                26.563307
               ],
               [
                50.071826,
                26.552773
               ],
               [
                50.080699,
                26.538797
               ],
               [
                50.072421,
                26.536505
               ],
               [
                50.028364,
                26.529445
               ]
              ]
             ],
             "type": "Polygon"
            },
            "id": "prograding_feature_polygon_907",
            "properties": {},
            "type": "Feature"
           },
           {
            "bbox": [
             48.060939,
             29.335414,
             48.077583,
             29.353357
            ],
            "geometry": {
             "coordinates": [
              [
               [
                48.063307,
                29.335414
               ],
               [
                48.060939,
                29.350938
               ],
               [
                48.072881,
                29.353357
               ],
               [
                48.077583,
                29.338242
               ],
               [
                48.068913,
                29.336193
               ],
               [
                48.063307,
                29.335414
               ]
              ]
             ],
             "type": "Polygon"
            },
            "id": "prograding_feature_polygon_926",
            "properties": {},
            "type": "Feature"
           },
           {
            "bbox": [
             52.569882,
             27.467722,
             52.612727,
             27.507913
            ],
            "geometry": {
             "coordinates": [
              [
               [
                52.59995,
                27.467722
               ],
               [
                52.593634,
                27.47339
               ],
               [
                52.590082,
                27.476712
               ],
               [
                52.581351,
                27.485817
               ],
               [
                52.578441,
                27.488852
               ],
               [
                52.575356,
                27.492457
               ],
               [
                52.572686,
                27.495661
               ],
               [
                52.569882,
                27.499694
               ],
               [
                52.585274,
                27.507913
               ],
               [
                52.612727,
                27.478929
               ],
               [
                52.59995,
                27.467722
               ]
              ]
             ],
             "type": "Polygon"
            },
            "id": "prograding_feature_polygon_966",
            "properties": {},
            "type": "Feature"
           },
           {
            "bbox": [
             56.266636,
             27.166188,
             56.281237,
             27.183524
            ],
            "geometry": {
             "coordinates": [
              [
               [
                56.273583,
                27.166188
               ],
               [
                56.266636,
                27.180928
               ],
               [
                56.271873,
                27.1824
               ],
               [
                56.276183,
                27.183524
               ],
               [
                56.281237,
                27.168186
               ],
               [
                56.273583,
                27.166188
               ]
              ]
             ],
             "type": "Polygon"
            },
            "id": "prograding_feature_polygon_977",
            "properties": {},
            "type": "Feature"
           },
           {
            "bbox": [
             101.822278,
             6.433133,
             101.844806,
             6.456018
            ],
            "geometry": {
             "coordinates": [
              [
               [
                101.833439,
                6.433133
               ],
               [
                101.822278,
                6.440447
               ],
               [
                101.831066,
                6.456018
               ],
               [
                101.835451,
                6.453421
               ],
               [
                101.844806,
                6.446958
               ],
               [
                101.833439,
                6.433133
               ]
              ]
             ],
             "type": "Polygon"
            },
            "id": "retreating_feature_polygon_1000",
            "properties": {},
            "type": "Feature"
           },
           {
            "bbox": [
             113.848021,
             22.519834,
             113.888455,
             22.551813
            ],
            "geometry": {
             "coordinates": [
              [
               [
                113.884312,
                22.519834
               ],
               [
                113.861683,
                22.522389
               ],
               [
                113.851095,
                22.527922
               ],
               [
                113.848021,
                22.532849
               ],
               [
                113.870983,
                22.551813
               ],
               [
                113.875823,
                22.551433
               ],
               [
                113.888455,
                22.524224
               ],
               [
                113.884312,
                22.519834
               ]
              ]
             ],
             "type": "Polygon"
            },
            "id": "retreating_feature_polygon_1040",
            "properties": {},
            "type": "Feature"
           },
           {
            "bbox": [
             119.552726,
             35.399104,
             119.577598,
             35.430618
            ],
            "geometry": {
             "coordinates": [
              [
               [
                119.570682,
                35.399104
               ],
               [
                119.552726,
                35.399606
               ],
               [
                119.553104,
                35.404367
               ],
               [
                119.553645,
                35.408002
               ],
               [
                119.554186,
                35.411636
               ],
               [
                119.555359,
                35.415994
               ],
               [
                119.556386,
                35.419558
               ],
               [
                119.557748,
                35.423647
               ],
               [
                119.560487,
                35.430618
               ],
               [
                119.577598,
                35.426156
               ],
               [
                119.570682,
                35.399104
               ]
              ]
             ],
             "type": "Polygon"
            },
            "id": "retreating_feature_polygon_1091",
            "properties": {},
            "type": "Feature"
           },
           {
            "bbox": [
             117.763118,
             38.984752,
             117.799365,
             39.01278
            ],
            "geometry": {
             "coordinates": [
              [
               [
                117.771822,
                38.984752
               ],
               [
                117.770441,
                38.988331
               ],
               [
                117.763118,
                39.007931
               ],
               [
                117.779966,
                39.01278
               ],
               [
                117.793102,
                39.012697
               ],
               [
                117.799365,
                38.993253
               ],
               [
                117.788911,
                38.989062
               ],
               [
                117.771822,
                38.984752
               ]
              ]
             ],
             "type": "Polygon"
            },
            "id": "retreating_feature_polygon_1125",
            "properties": {},
            "type": "Feature"
           },
           {
            "bbox": [
             126.600748,
             37.479799,
             126.62928,
             37.504746
            ],
            "geometry": {
             "coordinates": [
              [
               [
                126.612686,
                37.479799
               ],
               [
                126.600748,
                37.494448
               ],
               [
                126.61317,
                37.504746
               ],
               [
                126.620605,
                37.504212
               ],
               [
                126.624256,
                37.497944
               ],
               [
                126.627089,
                37.490919
               ],
               [
                126.62928,
                37.484258
               ],
               [
                126.612686,
                37.479799
               ]
              ]
             ],
             "type": "Polygon"
            },
            "id": "retreating_feature_polygon_1138",
            "properties": {},
            "type": "Feature"
           },
           {
            "bbox": [
             127.569969,
             39.79231,
             127.597563,
             39.809532
            ],
            "geometry": {
             "coordinates": [
              [
               [
                127.578381,
                39.79231
               ],
               [
                127.569969,
                39.804507
               ],
               [
                127.58104,
                39.809532
               ],
               [
                127.597563,
                39.802822
               ],
               [
                127.590509,
                39.797802
               ],
               [
                127.586692,
                39.795983
               ],
               [
                127.582874,
                39.794164
               ],
               [
                127.578381,
                39.79231
               ]
              ]
             ],
             "type": "Polygon"
            },
            "id": "retreating_feature_polygon_1151",
            "properties": {},
            "type": "Feature"
           },
           {
            "bbox": [
             31.756513,
             31.475349,
             31.809535,
             31.509413
            ],
            "geometry": {
             "coordinates": [
              [
               [
                31.770258,
                31.475349
               ],
               [
                31.765052,
                31.477028
               ],
               [
                31.757082,
                31.480617
               ],
               [
                31.756513,
                31.485216
               ],
               [
                31.765213,
                31.491838
               ],
               [
                31.769,
                31.493896
               ],
               [
                31.773245,
                31.496121
               ],
               [
                31.800186,
                31.509413
               ],
               [
                31.809535,
                31.496332
               ],
               [
                31.770258,
                31.475349
               ]
              ]
             ],
             "type": "Polygon"
            },
            "id": "retreating_feature_polygon_224",
            "properties": {},
            "type": "Feature"
           },
           {
            "bbox": [
             31.16738,
             31.571804,
             31.198129,
             31.59265
            ],
            "geometry": {
             "coordinates": [
              [
               [
                31.193364,
                31.571804
               ],
               [
                31.171711,
                31.576878
               ],
               [
                31.16738,
                31.577893
               ],
               [
                31.172145,
                31.59265
               ],
               [
                31.180807,
                31.590621
               ],
               [
                31.198129,
                31.586562
               ],
               [
                31.193364,
                31.571804
               ]
              ]
             ],
             "type": "Polygon"
            },
            "id": "retreating_feature_polygon_227",
            "properties": {},
            "type": "Feature"
           },
           {
            "bbox": [
             -17.026916,
             20.91022,
             -17.007894,
             20.925331
            ],
            "geometry": {
             "coordinates": [
              [
               [
                -17.013269,
                20.91022
               ],
               [
                -17.026916,
                20.921135
               ],
               [
                -17.025327,
                20.925331
               ],
               [
                -17.007894,
                20.921271
               ],
               [
                -17.009845,
                20.915416
               ],
               [
                -17.013269,
                20.91022
               ]
              ]
             ],
             "type": "Polygon"
            },
            "id": "retreating_feature_polygon_317",
            "properties": {},
            "type": "Feature"
           },
           {
            "bbox": [
             -0.308264,
             5.50285,
             -0.286761,
             5.524173
            ],
            "geometry": {
             "coordinates": [
              [
               [
                -0.304091,
                5.50285
               ],
               [
                -0.308264,
                5.520244
               ],
               [
                -0.303895,
                5.521282
               ],
               [
                -0.299306,
                5.522302
               ],
               [
                -0.290522,
                5.524173
               ],
               [
                -0.286761,
                5.506686
               ],
               [
                -0.304091,
                5.50285
               ]
              ]
             ],
             "type": "Polygon"
            },
            "id": "retreating_feature_polygon_354",
            "properties": {},
            "type": "Feature"
           },
           {
            "bbox": [
             3.357054,
             6.388768,
             3.363441,
             6.406998
            ],
            "geometry": {
             "coordinates": [
              [
               [
                3.36152,
                6.388768
               ],
               [
                3.357054,
                6.389246
               ],
               [
                3.358975,
                6.406998
               ],
               [
                3.363441,
                6.40652
               ],
               [
                3.36152,
                6.388768
               ]
              ]
             ],
             "type": "Polygon"
            },
            "id": "retreating_feature_polygon_378",
            "properties": {},
            "type": "Feature"
           },
           {
            "bbox": [
             12.200028,
             -5.566091,
             12.23613,
             -5.540374
            ],
            "geometry": {
             "coordinates": [
              [
               [
                12.211612,
                -5.566091
               ],
               [
                12.204611,
                -5.56466
               ],
               [
                12.200028,
                -5.562953
               ],
               [
                12.206353,
                -5.546217
               ],
               [
                12.220028,
                -5.540374
               ],
               [
                12.23613,
                -5.548305
               ],
               [
                12.233557,
                -5.553093
               ],
               [
                12.23012,
                -5.557985
               ],
               [
                12.22521,
                -5.562514
               ],
               [
                12.218679,
                -5.565508
               ],
               [
                12.211612,
                -5.566091
               ]
              ]
             ],
             "type": "Polygon"
            },
            "id": "retreating_feature_polygon_411",
            "properties": {},
            "type": "Feature"
           },
           {
            "bbox": [
             34.824792,
             -19.852879,
             34.845796,
             -19.833899
            ],
            "geometry": {
             "coordinates": [
              [
               [
                34.834977,
                -19.852879
               ],
               [
                34.829184,
                -19.847973
               ],
               [
                34.825809,
                -19.841842
               ],
               [
                34.824792,
                -19.837727
               ],
               [
                34.842291,
                -19.833899
               ],
               [
                34.845796,
                -19.839388
               ],
               [
                34.834977,
                -19.852879
               ]
              ]
             ],
             "type": "Polygon"
            },
            "id": "retreating_feature_polygon_479",
            "properties": {},
            "type": "Feature"
           },
           {
            "bbox": [
             54.472043,
             24.375135,
             54.500072,
             24.409428
            ],
            "geometry": {
             "coordinates": [
              [
               [
                54.487154,
                24.375135
               ],
               [
                54.473867,
                24.398677
               ],
               [
                54.472043,
                24.407834
               ],
               [
                54.473799,
                24.409428
               ],
               [
                54.482287,
                24.406345
               ],
               [
                54.493274,
                24.398131
               ],
               [
                54.500072,
                24.386081
               ],
               [
                54.495184,
                24.378351
               ],
               [
                54.487154,
                24.375135
               ]
              ]
             ],
             "type": "Polygon"
            },
            "id": "retreating_feature_polygon_733",
            "properties": {},
            "type": "Feature"
           },
           {
            "bbox": [
             70.401092,
             20.872311,
             70.416516,
             20.887543
            ],
            "geometry": {
             "coordinates": [
              [
               [
                70.404411,
                20.872311
               ],
               [
                70.401092,
                20.875139
               ],
               [
                70.413197,
                20.887543
               ],
               [
                70.416516,
                20.884715
               ],
               [
                70.404411,
                20.872311
               ]
              ]
             ],
             "type": "Polygon"
            },
            "id": "retreating_feature_polygon_901",
            "properties": {},
            "type": "Feature"
           },
           {
            "bbox": [
             86.955835,
             20.810805,
             86.975556,
             20.837445
            ],
            "geometry": {
             "coordinates": [
              [
               [
                86.975394,
                20.810805
               ],
               [
                86.957439,
                20.811412
               ],
               [
                86.955835,
                20.834936
               ],
               [
                86.973599,
                20.837445
               ],
               [
                86.97427,
                20.833295
               ],
               [
                86.974889,
                20.82842
               ],
               [
                86.975471,
                20.820041
               ],
               [
                86.975556,
                20.815001
               ],
               [
                86.975394,
                20.810805
               ]
              ]
             ],
             "type": "Polygon"
            },
            "id": "retreating_feature_polygon_962",
            "properties": {},
            "type": "Feature"
           },
           {
            "bbox": [
             90.078982,
             21.807954,
             90.121333,
             21.844906
            ],
            "geometry": {
             "coordinates": [
              [
               [
                90.112588,
                21.807954
               ],
               [
                90.108664,
                21.809984
               ],
               [
                90.103342,
                21.812936
               ],
               [
                90.099674,
                21.815343
               ],
               [
                90.095294,
                21.818447
               ],
               [
                90.091945,
                21.821225
               ],
               [
                90.087983,
                21.824811
               ],
               [
                90.085005,
                21.827933
               ],
               [
                90.081565,
                21.831905
               ],
               [
                90.078982,
                21.835316
               ],
               [
                90.093681,
                21.844906
               ],
               [
                90.121333,
                21.822524
               ],
               [
                90.112588,
                21.807954
               ]
              ]
             ],
             "type": "Polygon"
            },
            "id": "retreating_feature_polygon_974",
            "properties": {},
            "type": "Feature"
           },
           {
            "bbox": [
             91.758692,
             22.227645,
             91.799162,
             22.286244
            ],
            "geometry": {
             "coordinates": [
              [
               [
                91.78771,
                22.227645
               ],
               [
                91.783599,
                22.231947
               ],
               [
                91.78035,
                22.23594
               ],
               [
                91.775384,
                22.242869
               ],
               [
                91.772612,
                22.246984
               ],
               [
                91.77045,
                22.250628
               ],
               [
                91.766128,
                22.257916
               ],
               [
                91.763902,
                22.262461
               ],
               [
                91.761989,
                22.267006
               ],
               [
                91.760601,
                22.270959
               ],
               [
                91.759411,
                22.275875
               ],
               [
                91.758734,
                22.281039
               ],
               [
                91.758692,
                22.286244
               ],
               [
                91.776639,
                22.28548
               ],
               [
                91.799162,
                22.240458
               ],
               [
                91.78771,
                22.227645
               ]
              ]
             ],
             "type": "Polygon"
            },
            "id": "retreating_feature_polygon_981",
            "properties": {},
            "type": "Feature"
           },
           {
            "bbox": [
             91.949164,
             21.434655,
             91.966326,
             21.447907
            ],
            "geometry": {
             "coordinates": [
              [
               [
                91.952353,
                21.434655
               ],
               [
                91.949164,
                21.438542
               ],
               [
                91.964048,
                21.447907
               ],
               [
                91.966326,
                21.445167
               ],
               [
                91.952353,
                21.434655
               ]
              ]
             ],
             "type": "Polygon"
            },
            "id": "retreating_feature_polygon_983",
            "properties": {},
            "type": "Feature"
           }
          ],
          "type": "FeatureCollection"
         },
         "hovertemplate": "hotspot_id=%{location}<br>changerate=%{z}<extra></extra>",
         "locations": [
          "prograding_feature_polygon_1027",
          "prograding_feature_polygon_1028",
          "prograding_feature_polygon_1029",
          "prograding_feature_polygon_1070",
          "prograding_feature_polygon_1072",
          "prograding_feature_polygon_1104",
          "prograding_feature_polygon_1105",
          "prograding_feature_polygon_1120",
          "prograding_feature_polygon_1121",
          "prograding_feature_polygon_1146",
          "prograding_feature_polygon_115",
          "prograding_feature_polygon_1152",
          "prograding_feature_polygon_1164",
          "prograding_feature_polygon_1166",
          "prograding_feature_polygon_1167",
          "prograding_feature_polygon_1194",
          "prograding_feature_polygon_1204",
          "prograding_feature_polygon_1217",
          "prograding_feature_polygon_1223",
          "prograding_feature_polygon_1225",
          "prograding_feature_polygon_1226",
          "prograding_feature_polygon_1227",
          "prograding_feature_polygon_1228",
          "prograding_feature_polygon_123",
          "prograding_feature_polygon_1241",
          "prograding_feature_polygon_1270",
          "prograding_feature_polygon_1287",
          "prograding_feature_polygon_1303",
          "prograding_feature_polygon_1304",
          "prograding_feature_polygon_1306",
          "prograding_feature_polygon_1307",
          "prograding_feature_polygon_1310",
          "prograding_feature_polygon_1311",
          "prograding_feature_polygon_1317",
          "prograding_feature_polygon_132",
          "prograding_feature_polygon_1322",
          "prograding_feature_polygon_1341",
          "prograding_feature_polygon_1342",
          "prograding_feature_polygon_1343",
          "prograding_feature_polygon_1344",
          "prograding_feature_polygon_1346",
          "prograding_feature_polygon_1347",
          "prograding_feature_polygon_1348",
          "prograding_feature_polygon_1350",
          "prograding_feature_polygon_1354",
          "prograding_feature_polygon_1355",
          "prograding_feature_polygon_1360",
          "prograding_feature_polygon_1361",
          "prograding_feature_polygon_1364",
          "prograding_feature_polygon_1365",
          "prograding_feature_polygon_1369",
          "prograding_feature_polygon_1370",
          "prograding_feature_polygon_1375",
          "prograding_feature_polygon_1386",
          "prograding_feature_polygon_1392",
          "prograding_feature_polygon_1396",
          "prograding_feature_polygon_1399",
          "prograding_feature_polygon_1400",
          "prograding_feature_polygon_1411",
          "prograding_feature_polygon_1432",
          "prograding_feature_polygon_1441",
          "prograding_feature_polygon_1442",
          "prograding_feature_polygon_1443",
          "prograding_feature_polygon_1449",
          "prograding_feature_polygon_1470",
          "prograding_feature_polygon_1483",
          "prograding_feature_polygon_1484",
          "prograding_feature_polygon_1491",
          "prograding_feature_polygon_1492",
          "prograding_feature_polygon_1493",
          "prograding_feature_polygon_1494",
          "prograding_feature_polygon_1495",
          "prograding_feature_polygon_151",
          "prograding_feature_polygon_1526",
          "prograding_feature_polygon_1527",
          "prograding_feature_polygon_1528",
          "prograding_feature_polygon_153",
          "prograding_feature_polygon_1536",
          "prograding_feature_polygon_1571",
          "prograding_feature_polygon_1572",
          "prograding_feature_polygon_1574",
          "prograding_feature_polygon_1583",
          "prograding_feature_polygon_1584",
          "prograding_feature_polygon_1585",
          "prograding_feature_polygon_1586",
          "prograding_feature_polygon_1597",
          "prograding_feature_polygon_1608",
          "prograding_feature_polygon_1615",
          "prograding_feature_polygon_1616",
          "prograding_feature_polygon_1617",
          "prograding_feature_polygon_1618",
          "prograding_feature_polygon_1619",
          "prograding_feature_polygon_1621",
          "prograding_feature_polygon_1629",
          "prograding_feature_polygon_1652",
          "prograding_feature_polygon_170",
          "prograding_feature_polygon_1705",
          "prograding_feature_polygon_1706",
          "prograding_feature_polygon_1725",
          "prograding_feature_polygon_1728",
          "prograding_feature_polygon_1729",
          "prograding_feature_polygon_173",
          "prograding_feature_polygon_1778",
          "prograding_feature_polygon_1830",
          "prograding_feature_polygon_190",
          "prograding_feature_polygon_1908",
          "prograding_feature_polygon_1909",
          "prograding_feature_polygon_1910",
          "prograding_feature_polygon_2085",
          "prograding_feature_polygon_214",
          "prograding_feature_polygon_215",
          "prograding_feature_polygon_2182",
          "prograding_feature_polygon_223",
          "prograding_feature_polygon_2661",
          "prograding_feature_polygon_2662",
          "prograding_feature_polygon_2667",
          "prograding_feature_polygon_2673",
          "prograding_feature_polygon_2676",
          "prograding_feature_polygon_2679",
          "prograding_feature_polygon_268",
          "prograding_feature_polygon_2684",
          "prograding_feature_polygon_2685",
          "prograding_feature_polygon_2686",
          "prograding_feature_polygon_2687",
          "prograding_feature_polygon_2705",
          "prograding_feature_polygon_2706",
          "prograding_feature_polygon_273",
          "prograding_feature_polygon_2743",
          "prograding_feature_polygon_2768",
          "prograding_feature_polygon_2769",
          "prograding_feature_polygon_279",
          "prograding_feature_polygon_2796",
          "prograding_feature_polygon_280",
          "prograding_feature_polygon_281",
          "prograding_feature_polygon_2821",
          "prograding_feature_polygon_286",
          "prograding_feature_polygon_2921",
          "prograding_feature_polygon_2922",
          "prograding_feature_polygon_296",
          "prograding_feature_polygon_297",
          "prograding_feature_polygon_2988",
          "prograding_feature_polygon_299",
          "prograding_feature_polygon_2990",
          "prograding_feature_polygon_2995",
          "prograding_feature_polygon_2996",
          "prograding_feature_polygon_2997",
          "prograding_feature_polygon_300",
          "prograding_feature_polygon_301",
          "prograding_feature_polygon_3028",
          "prograding_feature_polygon_303",
          "prograding_feature_polygon_328",
          "prograding_feature_polygon_347",
          "prograding_feature_polygon_368",
          "prograding_feature_polygon_448",
          "prograding_feature_polygon_485",
          "prograding_feature_polygon_486",
          "prograding_feature_polygon_529",
          "prograding_feature_polygon_530",
          "prograding_feature_polygon_634",
          "prograding_feature_polygon_635",
          "prograding_feature_polygon_69",
          "prograding_feature_polygon_710",
          "prograding_feature_polygon_713",
          "prograding_feature_polygon_742",
          "prograding_feature_polygon_748",
          "prograding_feature_polygon_755",
          "prograding_feature_polygon_801",
          "prograding_feature_polygon_803",
          "prograding_feature_polygon_804",
          "prograding_feature_polygon_805",
          "prograding_feature_polygon_806",
          "prograding_feature_polygon_808",
          "prograding_feature_polygon_810",
          "prograding_feature_polygon_811",
          "prograding_feature_polygon_812",
          "prograding_feature_polygon_832",
          "prograding_feature_polygon_841",
          "prograding_feature_polygon_844",
          "prograding_feature_polygon_876",
          "prograding_feature_polygon_903",
          "prograding_feature_polygon_906",
          "prograding_feature_polygon_907",
          "prograding_feature_polygon_926",
          "prograding_feature_polygon_966",
          "prograding_feature_polygon_977",
          "retreating_feature_polygon_1000",
          "retreating_feature_polygon_1040",
          "retreating_feature_polygon_1091",
          "retreating_feature_polygon_1125",
          "retreating_feature_polygon_1138",
          "retreating_feature_polygon_1151",
          "retreating_feature_polygon_224",
          "retreating_feature_polygon_227",
          "retreating_feature_polygon_317",
          "retreating_feature_polygon_354",
          "retreating_feature_polygon_378",
          "retreating_feature_polygon_411",
          "retreating_feature_polygon_479",
          "retreating_feature_polygon_733",
          "retreating_feature_polygon_901",
          "retreating_feature_polygon_962",
          "retreating_feature_polygon_974",
          "retreating_feature_polygon_981",
          "retreating_feature_polygon_983"
         ],
         "marker": {
          "line": {
           "width": 0
          }
         },
         "name": "",
         "subplot": "mapbox",
         "type": "choroplethmapbox",
         "z": [
          8.002132693926493,
          9.935417802861103,
          9.428030388057232,
          -9.402799778124866,
          10.213047862052917,
          12.142976462841034,
          9.937585473060608,
          26.05991331736247,
          6.88029203414917,
          6.345725337664287,
          7.118764837405512,
          7.942365258932114,
          5.875652764524732,
          35.85075248612298,
          11.141669034957886,
          16.614472524325052,
          5.405321836471558,
          7.911882169544697,
          6.047624206542968,
          9.049764774207558,
          8.170599466189742,
          9.95113229751587,
          16.337905630469322,
          5.6612523804817885,
          10.027509794880947,
          7.49886595676927,
          -6.701108455657959,
          7.500010738770167,
          13.74278175830841,
          10.655971633063423,
          11.005652393613543,
          10.568269040967737,
          20.567667911095278,
          6.118001223756717,
          10.094401468833288,
          18.133235931396484,
          18.272936940193176,
          12.157470941543579,
          10.756506707933214,
          9.422197182973227,
          10.027603295445441,
          11.215988477071127,
          17.047250111897785,
          12.12243025643485,
          6.364583572745323,
          5.993728001328075,
          7.137092113494873,
          5.024070228849139,
          11.58582034111023,
          5.729368033232512,
          7.8385433645712,
          12.055540814995766,
          12.160279750823975,
          15.362050580978394,
          15.732973337173462,
          13.978680312633514,
          6.910916172795826,
          5.959397457540035,
          12.372578334808349,
          27.781693988376194,
          13.415586511294046,
          25.40924186706543,
          16.53930413722992,
          21.456773042678833,
          8.031426414847374,
          18.06425209403038,
          12.22094625979662,
          11.554868419965109,
          17.759390306472778,
          16.504407787322997,
          33.90509796142578,
          8.256735603014628,
          15.607529991918065,
          14.478543281555176,
          5.890910530090332,
          6.407478485788618,
          5.864176054795583,
          5.190596489501851,
          5.46608690586355,
          5.471374591191609,
          5.8641220822053794,
          5.8987505707357615,
          6.307082303545692,
          7.830391958355904,
          14.949927594926622,
          10.081312856995142,
          19.45122102101644,
          22.262280073016882,
          14.195732695715767,
          6.84188534590331,
          6.299088394847409,
          24.61404311781128,
          8.91666350194386,
          5.244593252738317,
          6.593484497070312,
          5.084230192005634,
          11.106055958704514,
          5.60376432187417,
          8.620470482856035,
          12.207935492197672,
          5.583443847413246,
          5.214429020881653,
          7.919376571973165,
          5.47067887087663,
          5.249893584847451,
          5.863745870797531,
          8.91596309762252,
          5.912682553132375,
          7.327421736717224,
          5.65716634512258,
          8.650550444920858,
          8.893525577508486,
          7.759002663727317,
          5.2847749789555865,
          5.1542246580123905,
          14.386802951494852,
          24.318109194437664,
          19.04792652130127,
          5.2943564256032305,
          7.468594962900335,
          9.833402474721273,
          10.255064414607155,
          5.229642528701913,
          8.505170113192154,
          5.073193679253261,
          5.991888642311096,
          5.860370742157102,
          5.277378076257614,
          8.524404525756836,
          6.409678526222706,
          8.368613465627034,
          6.421807527542114,
          9.278879705350846,
          5.0832215547561646,
          6.6486097148486545,
          5.478235432734857,
          6.152590730786324,
          9.006133377552032,
          8.518252819776535,
          16.00328942015767,
          9.007103443145752,
          9.047585699293348,
          7.023922815918922,
          14.274559453129768,
          11.79896285533905,
          15.808705508708954,
          6.6443431952169965,
          13.446764588356018,
          7.080271148681641,
          8.437241852283478,
          7.252616923302412,
          9.331818553663435,
          5.18082708971841,
          7.091677581722086,
          5.915899333357811,
          13.366111516952515,
          5.5962418735027315,
          5.032758156458537,
          5.226921054788611,
          5.984216084082921,
          10.45010990362901,
          5.216968127659389,
          11.458135604858398,
          9.706592559814453,
          8.084102037052313,
          9.63543926179409,
          9.02509001493454,
          6.603767011728552,
          14.720654010772705,
          13.638911485671997,
          8.765188306570053,
          5.337596038977305,
          15.213475716114043,
          14.84646362066269,
          33.92308032512665,
          11.33075936200718,
          8.228988883170215,
          10.95979622999827,
          8.558703154325485,
          8.580225660250736,
          12.055229208971324,
          15.676474307712756,
          6.561966180801392,
          6.6403620893305,
          7.98366783062617,
          6.769531160593033,
          9.082811645099095,
          -8.648412452803719,
          -5.614809401830038,
          6.230619031190872,
          -7.043224143981933,
          -5.2956648239722615,
          -6.179718443325588,
          -5.307180235783259,
          -6.745822763442993,
          11.545312404632568,
          -10.826207412406802,
          -6.006986975669861,
          -8.351018998026849,
          -6.088724374771118,
          -6.281781890562603,
          -9.561365556716918,
          -7.863976076369484,
          -6.903188467025757
         ]
        },
        {
         "hovertemplate": "center_y=%{lat}<br>center_x=%{lon}<br>changerate=%{marker.color}<extra></extra>",
         "lat": [
          24.86019788293844,
          24.808197918239618,
          24.767610435373815,
          21.16768200243494,
          12.484341208316469,
          13.24954298957686,
          13.293413015054782,
          16.97141313095163,
          17.01387279464612,
          22.08985028174161,
          46.16687868187174,
          21.462271305295936,
          5.414682851307904,
          2.20238099317406,
          1.4301940452219346,
          9.983083187429244,
          11.163755650410259,
          18.824428756244252,
          20.187293426092356,
          20.975407584368817,
          20.946288347006206,
          20.998464691898068,
          20.997617684586604,
          43.35898643388187,
          21.471092806646848,
          21.229575836732167,
          21.496617258648307,
          22.566568979190553,
          22.53337862102656,
          22.48984567393255,
          22.483716118662276,
          22.55725728499171,
          22.57874135530359,
          22.776658526935275,
          36.13359795383494,
          23.187543748813,
          24.460248617937715,
          24.448115683219818,
          24.47690994543554,
          24.499888060385903,
          24.560502488999475,
          24.584261329536588,
          24.605744653543056,
          24.63569459781168,
          24.661295186229577,
          24.676495189301978,
          24.716437275652915,
          24.749354271413935,
          24.930894854395184,
          24.87662281317375,
          25.169468046790193,
          25.207229337800985,
          25.463422431752143,
          26.871164523751997,
          27.80755735425971,
          28.080241242305274,
          28.07751228214776,
          28.074025645550662,
          28.691768711249203,
          29.995468554161285,
          30.533795441895098,
          30.581220317634628,
          30.588877074757022,
          30.76807147450215,
          35.08187273760885,
          36.01347235712549,
          36.05825328528878,
          36.20201934500785,
          36.17637304564429,
          36.16054350275814,
          36.14804578797389,
          36.10917839052565,
          41.31039968119713,
          37.446030128672604,
          37.45758017163586,
          37.48867594439298,
          41.35774962766563,
          37.5949448044441,
          38.97008446862924,
          39.03383847552146,
          39.08762363570017,
          39.91007026555497,
          39.93017110576548,
          39.93025556877711,
          39.93200780895528,
          40.84910603649292,
          39.12761185531808,
          38.82882123082813,
          38.85848649215197,
          38.87373912879962,
          38.95140699323914,
          39.03008347176937,
          39.00386602634145,
          39.65625986738522,
          37.34445830527122,
          43.552939300657265,
          34.804234746308516,
          34.786458798429635,
          35.103566346733764,
          35.44991435965429,
          35.51193138784691,
          40.726458,
          47.562721108228565,
          23.216757479935655,
          43.61417810995951,
          -11.977600767733337,
          -12.095373574656493,
          -12.256032337980423,
          -14.788585066293203,
          37.95531005763456,
          37.93965244247322,
          19.228811149596826,
          40.96572535999478,
          37.956582722665935,
          37.94170883955083,
          36.61100523384421,
          34.142794832714046,
          34.35114742827911,
          34.64222138492952,
          41.00818019313521,
          34.46881394721345,
          34.407073297137295,
          34.37884137215128,
          34.20711670427442,
          34.85067045576522,
          34.865352770277006,
          41.322389428086815,
          38.41381370662676,
          51.3928134226639,
          51.47179454471068,
          40.93317590956436,
          54.9108845,
          40.86548546557218,
          40.81278770496493,
          -6.119959571056035,
          38.407781180646246,
          18.53880253144213,
          18.568318099905536,
          34.457073502059075,
          34.45579245121501,
          31.929367993989466,
          33.90338188567107,
          33.65444820908908,
          22.511424830873423,
          22.529495584262296,
          22.546687332092972,
          33.90413009740748,
          33.832874396766734,
          20.05577986088281,
          33.54194568887256,
          31.361269148732667,
          34.744488648483966,
          33.60964730786265,
          6.344192153473557,
          -8.933964330499068,
          -8.991306809553818,
          -29.867786959075232,
          -29.86790390258399,
          11.605133117803351,
          11.586421937358185,
          52.05368625682624,
          21.6986556728316,
          21.41505798584906,
          14.759294500000001,
          12.809264473208415,
          14.527466753252714,
          25.44923863593123,
          25.26917282336635,
          25.234674000000002,
          25.228501778049523,
          25.21848163048461,
          25.144415683744867,
          25.09051823577662,
          25.084169000000003,
          25.026051612987512,
          24.430284123270557,
          24.495435676227338,
          24.355012981983272,
          25.293668951175885,
          26.428866404136176,
          26.513838118695624,
          26.546146623798393,
          29.344177331632554,
          27.488258332116025,
          27.17499991652503,
          6.444455134510181,
          22.533660321614004,
          35.41396820209952,
          38.999946232084184,
          37.492228754079505,
          39.80155092711857,
          31.491547399186636,
          31.582227304126814,
          20.91881980992689,
          5.5135439803432105,
          6.397883000000001,
          -5.553914732801702,
          -19.842036831826622,
          24.392363914885383,
          20.879927000000002,
          20.82366998064068,
          21.82676845286922,
          22.259296900376846,
          21.44128449521951
         ],
         "legendgroup": "",
         "lon": [
          66.94932716739007,
          67.00298480931276,
          67.07521723340093,
          72.77233318961386,
          74.98260134066412,
          80.33993047506308,
          80.34710469897783,
          82.27775959558642,
          82.29175248545049,
          88.18207061522072,
          -1.2253175770751592,
          91.95532100549772,
          100.36908479360933,
          102.20630845433432,
          103.90926766563301,
          105.08753059720617,
          108.56051110742168,
          105.71901116323961,
          106.37500109159751,
          107.05069068022625,
          107.09384616402048,
          107.27225567535923,
          107.28346087138324,
          -8.390125893091996,
          109.05661178365084,
          110.43473068861255,
          111.27011716781645,
          113.84105565160725,
          113.86416043744117,
          113.86979264247191,
          113.92320274720069,
          114.24642298097103,
          114.28710057687432,
          115.41604284144864,
          -5.435687457724566,
          116.66091872388837,
          117.96085439107186,
          118.03898690089872,
          118.04050269187589,
          118.07827152451571,
          118.05361785808098,
          118.11431022555468,
          118.13105082086356,
          118.15833486065343,
          118.43762761218427,
          118.44294335336022,
          118.73482772493831,
          118.76978920271124,
          118.66978720011294,
          118.70663809377731,
          118.96658510238981,
          118.95156930531081,
          119.19424805462658,
          120.03913198788831,
          120.79862002680058,
          121.00846711431086,
          121.14412996589608,
          121.24613631369327,
          121.53932023857423,
          121.68660633773003,
          120.96868340181409,
          121.04179371301197,
          121.0787724343432,
          121.42576451118224,
          119.29595027656654,
          120.21278397775245,
          120.21816104135799,
          120.35316592389543,
          120.36138435624092,
          120.35272063172673,
          120.33998895628535,
          120.32204018038604,
          2.144569558937831,
          122.15467260676257,
          122.144034698483,
          122.13213135883377,
          2.171819665763556,
          121.3885553652381,
          117.7543903082739,
          117.7666957185894,
          117.73543492524067,
          119.57603100256969,
          119.65236207976402,
          119.67815334381942,
          119.69470265115469,
          121.08169266326415,
          121.67587898891789,
          121.50846946666462,
          121.54107385608386,
          121.58192038174388,
          121.63722480560527,
          121.7421991809717,
          121.87756947738357,
          122.98018816194818,
          126.69055850842238,
          10.297794757386985,
          126.35956011335377,
          126.4239311560972,
          129.08162688728567,
          129.3571199676487,
          129.38879417717212,
          14.470900500000003,
          -122.6290821787047,
          -106.37918351110741,
          13.492961527705436,
          -77.13954424596372,
          -77.08538339396114,
          -76.9332938527057,
          -39.03557612352782,
          23.58535648434111,
          23.67949983981465,
          -96.16754202860538,
          28.676239361983843,
          139.09791488162105,
          139.05246538425584,
          136.5945271520131,
          132.24868844419365,
          132.37022922893956,
          135.00980439746866,
          39.72014029203192,
          135.3631687425646,
          135.29228988784604,
          135.25719888596495,
          135.14173637884386,
          138.33077487907042,
          138.32839360329308,
          36.317514885170745,
          141.28433470136943,
          -3.258851497234048,
          -3.135271305507501,
          29.111878287253152,
          -1.3579849999999998,
          29.247205253676363,
          29.320380444836562,
          106.83333363711235,
          27.053761787962202,
          -72.36564653609236,
          -72.34942032245016,
          35.84291949994991,
          35.82730556891004,
          131.46919758792467,
          35.550258031071245,
          130.40715561562234,
          120.35114501872495,
          120.33428619887705,
          120.3231724920972,
          35.50513266758001,
          35.47800933845707,
          110.30804925430785,
          35.36191437742777,
          30.31716968436949,
          10.790420005011914,
          -7.599548625484836,
          2.382114525196444,
          13.156645730905174,
          13.088635757313064,
          31.036169243324537,
          31.045267578719272,
          43.14039578829514,
          43.11467342148173,
          4.191763532827534,
          39.089653481662836,
          39.18660381830127,
          42.953024000000006,
          45.02015692636211,
          49.11275938178537,
          55.473359269811986,
          55.268516790795225,
          55.26330350000001,
          55.257446844272934,
          55.249797617564425,
          55.190533011015134,
          55.142226440654326,
          55.134448500000005,
          55.05796652395877,
          54.491014582049125,
          54.352537122471674,
          54.45595639674016,
          51.548971536365094,
          50.16390352360155,
          50.047267504874114,
          50.044742413551816,
          48.06874699493566,
          52.59147171679168,
          56.27429735922743,
          101.83310088796406,
          113.86958901251727,
          119.56467727153456,
          117.78135189212442,
          126.61568842242016,
          127.58255689234375,
          31.782769552431727,
          31.18275463160083,
          -17.01690778949836,
          -0.2974241655596403,
          3.3602475000000003,
          12.217378396234718,
          34.83517028856358,
          54.48601570795856,
          70.408804,
          86.96600629440256,
          90.10076484830746,
          91.77802932417906,
          91.95756250555328
         ],
         "marker": {
          "color": [
           8.002132693926493,
           9.935417802861103,
           9.428030388057232,
           -9.402799778124866,
           10.213047862052917,
           12.142976462841034,
           9.937585473060608,
           26.05991331736247,
           6.88029203414917,
           6.345725337664287,
           7.118764837405512,
           7.942365258932114,
           5.875652764524732,
           35.85075248612298,
           11.141669034957886,
           16.614472524325052,
           5.405321836471558,
           7.911882169544697,
           6.047624206542968,
           9.049764774207558,
           8.170599466189742,
           9.95113229751587,
           16.337905630469322,
           5.6612523804817885,
           10.027509794880947,
           7.49886595676927,
           -6.701108455657959,
           7.500010738770167,
           13.74278175830841,
           10.655971633063423,
           11.005652393613543,
           10.568269040967737,
           20.567667911095278,
           6.118001223756717,
           10.094401468833288,
           18.133235931396484,
           18.272936940193176,
           12.157470941543579,
           10.756506707933214,
           9.422197182973227,
           10.027603295445441,
           11.215988477071127,
           17.047250111897785,
           12.12243025643485,
           6.364583572745323,
           5.993728001328075,
           7.137092113494873,
           5.024070228849139,
           11.58582034111023,
           5.729368033232512,
           7.8385433645712,
           12.055540814995766,
           12.160279750823975,
           15.362050580978394,
           15.732973337173462,
           13.978680312633514,
           6.910916172795826,
           5.959397457540035,
           12.372578334808349,
           27.781693988376194,
           13.415586511294046,
           25.40924186706543,
           16.53930413722992,
           21.456773042678833,
           8.031426414847374,
           18.06425209403038,
           12.22094625979662,
           11.554868419965109,
           17.759390306472778,
           16.504407787322997,
           33.90509796142578,
           8.256735603014628,
           15.607529991918065,
           14.478543281555176,
           5.890910530090332,
           6.407478485788618,
           5.864176054795583,
           5.190596489501851,
           5.46608690586355,
           5.471374591191609,
           5.8641220822053794,
           5.8987505707357615,
           6.307082303545692,
           7.830391958355904,
           14.949927594926622,
           10.081312856995142,
           19.45122102101644,
           22.262280073016882,
           14.195732695715767,
           6.84188534590331,
           6.299088394847409,
           24.61404311781128,
           8.91666350194386,
           5.244593252738317,
           6.593484497070312,
           5.084230192005634,
           11.106055958704514,
           5.60376432187417,
           8.620470482856035,
           12.207935492197672,
           5.583443847413246,
           5.214429020881653,
           7.919376571973165,
           5.47067887087663,
           5.249893584847451,
           5.863745870797531,
           8.91596309762252,
           5.912682553132375,
           7.327421736717224,
           5.65716634512258,
           8.650550444920858,
           8.893525577508486,
           7.759002663727317,
           5.2847749789555865,
           5.1542246580123905,
           14.386802951494852,
           24.318109194437664,
           19.04792652130127,
           5.2943564256032305,
           7.468594962900335,
           9.833402474721273,
           10.255064414607155,
           5.229642528701913,
           8.505170113192154,
           5.073193679253261,
           5.991888642311096,
           5.860370742157102,
           5.277378076257614,
           8.524404525756836,
           6.409678526222706,
           8.368613465627034,
           6.421807527542114,
           9.278879705350846,
           5.0832215547561646,
           6.6486097148486545,
           5.478235432734857,
           6.152590730786324,
           9.006133377552032,
           8.518252819776535,
           16.00328942015767,
           9.007103443145752,
           9.047585699293348,
           7.023922815918922,
           14.274559453129768,
           11.79896285533905,
           15.808705508708954,
           6.6443431952169965,
           13.446764588356018,
           7.080271148681641,
           8.437241852283478,
           7.252616923302412,
           9.331818553663435,
           5.18082708971841,
           7.091677581722086,
           5.915899333357811,
           13.366111516952515,
           5.5962418735027315,
           5.032758156458537,
           5.226921054788611,
           5.984216084082921,
           10.45010990362901,
           5.216968127659389,
           11.458135604858398,
           9.706592559814453,
           8.084102037052313,
           9.63543926179409,
           9.02509001493454,
           6.603767011728552,
           14.720654010772705,
           13.638911485671997,
           8.765188306570053,
           5.337596038977305,
           15.213475716114043,
           14.84646362066269,
           33.92308032512665,
           11.33075936200718,
           8.228988883170215,
           10.95979622999827,
           8.558703154325485,
           8.580225660250736,
           12.055229208971324,
           15.676474307712756,
           6.561966180801392,
           6.6403620893305,
           7.98366783062617,
           6.769531160593033,
           9.082811645099095,
           -8.648412452803719,
           -5.614809401830038,
           6.230619031190872,
           -7.043224143981933,
           -5.2956648239722615,
           -6.179718443325588,
           -5.307180235783259,
           -6.745822763442993,
           11.545312404632568,
           -10.826207412406802,
           -6.006986975669861,
           -8.351018998026849,
           -6.088724374771118,
           -6.281781890562603,
           -9.561365556716918,
           -7.863976076369484,
           -6.903188467025757
          ],
          "coloraxis": "coloraxis"
         },
         "mode": "markers",
         "name": "",
         "showlegend": false,
         "subplot": "mapbox",
         "type": "scattermapbox"
        }
       ],
       "layout": {
        "coloraxis": {
         "cmax": 10,
         "cmin": -10,
         "colorbar": {
          "title": {
           "text": "changerate"
          }
         },
         "colorscale": [
          [
           0,
           "rgb(165,0,38)"
          ],
          [
           0.1,
           "rgb(215,48,39)"
          ],
          [
           0.2,
           "rgb(244,109,67)"
          ],
          [
           0.3,
           "rgb(253,174,97)"
          ],
          [
           0.4,
           "rgb(254,224,139)"
          ],
          [
           0.5,
           "rgb(255,255,191)"
          ],
          [
           0.6,
           "rgb(217,239,139)"
          ],
          [
           0.7,
           "rgb(166,217,106)"
          ],
          [
           0.8,
           "rgb(102,189,99)"
          ],
          [
           0.9,
           "rgb(26,152,80)"
          ],
          [
           1,
           "rgb(0,104,55)"
          ]
         ]
        },
        "height": 600,
        "legend": {
         "tracegroupgap": 0
        },
        "mapbox": {
         "center": {},
         "domain": {
          "x": [
           0,
           1
          ],
          "y": [
           0,
           1
          ]
         },
         "style": "carto-positron",
         "zoom": 1
        },
        "margin": {
         "t": 60
        },
        "template": {
         "data": {
          "bar": [
           {
            "error_x": {
             "color": "#2a3f5f"
            },
            "error_y": {
             "color": "#2a3f5f"
            },
            "marker": {
             "line": {
              "color": "#E5ECF6",
              "width": 0.5
             },
             "pattern": {
              "fillmode": "overlay",
              "size": 10,
              "solidity": 0.2
             }
            },
            "type": "bar"
           }
          ],
          "barpolar": [
           {
            "marker": {
             "line": {
              "color": "#E5ECF6",
              "width": 0.5
             },
             "pattern": {
              "fillmode": "overlay",
              "size": 10,
              "solidity": 0.2
             }
            },
            "type": "barpolar"
           }
          ],
          "carpet": [
           {
            "aaxis": {
             "endlinecolor": "#2a3f5f",
             "gridcolor": "white",
             "linecolor": "white",
             "minorgridcolor": "white",
             "startlinecolor": "#2a3f5f"
            },
            "baxis": {
             "endlinecolor": "#2a3f5f",
             "gridcolor": "white",
             "linecolor": "white",
             "minorgridcolor": "white",
             "startlinecolor": "#2a3f5f"
            },
            "type": "carpet"
           }
          ],
          "choropleth": [
           {
            "colorbar": {
             "outlinewidth": 0,
             "ticks": ""
            },
            "type": "choropleth"
           }
          ],
          "contour": [
           {
            "colorbar": {
             "outlinewidth": 0,
             "ticks": ""
            },
            "colorscale": [
             [
              0,
              "#0d0887"
             ],
             [
              0.1111111111111111,
              "#46039f"
             ],
             [
              0.2222222222222222,
              "#7201a8"
             ],
             [
              0.3333333333333333,
              "#9c179e"
             ],
             [
              0.4444444444444444,
              "#bd3786"
             ],
             [
              0.5555555555555556,
              "#d8576b"
             ],
             [
              0.6666666666666666,
              "#ed7953"
             ],
             [
              0.7777777777777778,
              "#fb9f3a"
             ],
             [
              0.8888888888888888,
              "#fdca26"
             ],
             [
              1,
              "#f0f921"
             ]
            ],
            "type": "contour"
           }
          ],
          "contourcarpet": [
           {
            "colorbar": {
             "outlinewidth": 0,
             "ticks": ""
            },
            "type": "contourcarpet"
           }
          ],
          "heatmap": [
           {
            "colorbar": {
             "outlinewidth": 0,
             "ticks": ""
            },
            "colorscale": [
             [
              0,
              "#0d0887"
             ],
             [
              0.1111111111111111,
              "#46039f"
             ],
             [
              0.2222222222222222,
              "#7201a8"
             ],
             [
              0.3333333333333333,
              "#9c179e"
             ],
             [
              0.4444444444444444,
              "#bd3786"
             ],
             [
              0.5555555555555556,
              "#d8576b"
             ],
             [
              0.6666666666666666,
              "#ed7953"
             ],
             [
              0.7777777777777778,
              "#fb9f3a"
             ],
             [
              0.8888888888888888,
              "#fdca26"
             ],
             [
              1,
              "#f0f921"
             ]
            ],
            "type": "heatmap"
           }
          ],
          "heatmapgl": [
           {
            "colorbar": {
             "outlinewidth": 0,
             "ticks": ""
            },
            "colorscale": [
             [
              0,
              "#0d0887"
             ],
             [
              0.1111111111111111,
              "#46039f"
             ],
             [
              0.2222222222222222,
              "#7201a8"
             ],
             [
              0.3333333333333333,
              "#9c179e"
             ],
             [
              0.4444444444444444,
              "#bd3786"
             ],
             [
              0.5555555555555556,
              "#d8576b"
             ],
             [
              0.6666666666666666,
              "#ed7953"
             ],
             [
              0.7777777777777778,
              "#fb9f3a"
             ],
             [
              0.8888888888888888,
              "#fdca26"
             ],
             [
              1,
              "#f0f921"
             ]
            ],
            "type": "heatmapgl"
           }
          ],
          "histogram": [
           {
            "marker": {
             "pattern": {
              "fillmode": "overlay",
              "size": 10,
              "solidity": 0.2
             }
            },
            "type": "histogram"
           }
          ],
          "histogram2d": [
           {
            "colorbar": {
             "outlinewidth": 0,
             "ticks": ""
            },
            "colorscale": [
             [
              0,
              "#0d0887"
             ],
             [
              0.1111111111111111,
              "#46039f"
             ],
             [
              0.2222222222222222,
              "#7201a8"
             ],
             [
              0.3333333333333333,
              "#9c179e"
             ],
             [
              0.4444444444444444,
              "#bd3786"
             ],
             [
              0.5555555555555556,
              "#d8576b"
             ],
             [
              0.6666666666666666,
              "#ed7953"
             ],
             [
              0.7777777777777778,
              "#fb9f3a"
             ],
             [
              0.8888888888888888,
              "#fdca26"
             ],
             [
              1,
              "#f0f921"
             ]
            ],
            "type": "histogram2d"
           }
          ],
          "histogram2dcontour": [
           {
            "colorbar": {
             "outlinewidth": 0,
             "ticks": ""
            },
            "colorscale": [
             [
              0,
              "#0d0887"
             ],
             [
              0.1111111111111111,
              "#46039f"
             ],
             [
              0.2222222222222222,
              "#7201a8"
             ],
             [
              0.3333333333333333,
              "#9c179e"
             ],
             [
              0.4444444444444444,
              "#bd3786"
             ],
             [
              0.5555555555555556,
              "#d8576b"
             ],
             [
              0.6666666666666666,
              "#ed7953"
             ],
             [
              0.7777777777777778,
              "#fb9f3a"
             ],
             [
              0.8888888888888888,
              "#fdca26"
             ],
             [
              1,
              "#f0f921"
             ]
            ],
            "type": "histogram2dcontour"
           }
          ],
          "mesh3d": [
           {
            "colorbar": {
             "outlinewidth": 0,
             "ticks": ""
            },
            "type": "mesh3d"
           }
          ],
          "parcoords": [
           {
            "line": {
             "colorbar": {
              "outlinewidth": 0,
              "ticks": ""
             }
            },
            "type": "parcoords"
           }
          ],
          "pie": [
           {
            "automargin": true,
            "type": "pie"
           }
          ],
          "scatter": [
           {
            "fillpattern": {
             "fillmode": "overlay",
             "size": 10,
             "solidity": 0.2
            },
            "type": "scatter"
           }
          ],
          "scatter3d": [
           {
            "line": {
             "colorbar": {
              "outlinewidth": 0,
              "ticks": ""
             }
            },
            "marker": {
             "colorbar": {
              "outlinewidth": 0,
              "ticks": ""
             }
            },
            "type": "scatter3d"
           }
          ],
          "scattercarpet": [
           {
            "marker": {
             "colorbar": {
              "outlinewidth": 0,
              "ticks": ""
             }
            },
            "type": "scattercarpet"
           }
          ],
          "scattergeo": [
           {
            "marker": {
             "colorbar": {
              "outlinewidth": 0,
              "ticks": ""
             }
            },
            "type": "scattergeo"
           }
          ],
          "scattergl": [
           {
            "marker": {
             "colorbar": {
              "outlinewidth": 0,
              "ticks": ""
             }
            },
            "type": "scattergl"
           }
          ],
          "scattermapbox": [
           {
            "marker": {
             "colorbar": {
              "outlinewidth": 0,
              "ticks": ""
             }
            },
            "type": "scattermapbox"
           }
          ],
          "scatterpolar": [
           {
            "marker": {
             "colorbar": {
              "outlinewidth": 0,
              "ticks": ""
             }
            },
            "type": "scatterpolar"
           }
          ],
          "scatterpolargl": [
           {
            "marker": {
             "colorbar": {
              "outlinewidth": 0,
              "ticks": ""
             }
            },
            "type": "scatterpolargl"
           }
          ],
          "scatterternary": [
           {
            "marker": {
             "colorbar": {
              "outlinewidth": 0,
              "ticks": ""
             }
            },
            "type": "scatterternary"
           }
          ],
          "surface": [
           {
            "colorbar": {
             "outlinewidth": 0,
             "ticks": ""
            },
            "colorscale": [
             [
              0,
              "#0d0887"
             ],
             [
              0.1111111111111111,
              "#46039f"
             ],
             [
              0.2222222222222222,
              "#7201a8"
             ],
             [
              0.3333333333333333,
              "#9c179e"
             ],
             [
              0.4444444444444444,
              "#bd3786"
             ],
             [
              0.5555555555555556,
              "#d8576b"
             ],
             [
              0.6666666666666666,
              "#ed7953"
             ],
             [
              0.7777777777777778,
              "#fb9f3a"
             ],
             [
              0.8888888888888888,
              "#fdca26"
             ],
             [
              1,
              "#f0f921"
             ]
            ],
            "type": "surface"
           }
          ],
          "table": [
           {
            "cells": {
             "fill": {
              "color": "#EBF0F8"
             },
             "line": {
              "color": "white"
             }
            },
            "header": {
             "fill": {
              "color": "#C8D4E3"
             },
             "line": {
              "color": "white"
             }
            },
            "type": "table"
           }
          ]
         },
         "layout": {
          "annotationdefaults": {
           "arrowcolor": "#2a3f5f",
           "arrowhead": 0,
           "arrowwidth": 1
          },
          "autotypenumbers": "strict",
          "coloraxis": {
           "colorbar": {
            "outlinewidth": 0,
            "ticks": ""
           }
          },
          "colorscale": {
           "diverging": [
            [
             0,
             "#8e0152"
            ],
            [
             0.1,
             "#c51b7d"
            ],
            [
             0.2,
             "#de77ae"
            ],
            [
             0.3,
             "#f1b6da"
            ],
            [
             0.4,
             "#fde0ef"
            ],
            [
             0.5,
             "#f7f7f7"
            ],
            [
             0.6,
             "#e6f5d0"
            ],
            [
             0.7,
             "#b8e186"
            ],
            [
             0.8,
             "#7fbc41"
            ],
            [
             0.9,
             "#4d9221"
            ],
            [
             1,
             "#276419"
            ]
           ],
           "sequential": [
            [
             0,
             "#0d0887"
            ],
            [
             0.1111111111111111,
             "#46039f"
            ],
            [
             0.2222222222222222,
             "#7201a8"
            ],
            [
             0.3333333333333333,
             "#9c179e"
            ],
            [
             0.4444444444444444,
             "#bd3786"
            ],
            [
             0.5555555555555556,
             "#d8576b"
            ],
            [
             0.6666666666666666,
             "#ed7953"
            ],
            [
             0.7777777777777778,
             "#fb9f3a"
            ],
            [
             0.8888888888888888,
             "#fdca26"
            ],
            [
             1,
             "#f0f921"
            ]
           ],
           "sequentialminus": [
            [
             0,
             "#0d0887"
            ],
            [
             0.1111111111111111,
             "#46039f"
            ],
            [
             0.2222222222222222,
             "#7201a8"
            ],
            [
             0.3333333333333333,
             "#9c179e"
            ],
            [
             0.4444444444444444,
             "#bd3786"
            ],
            [
             0.5555555555555556,
             "#d8576b"
            ],
            [
             0.6666666666666666,
             "#ed7953"
            ],
            [
             0.7777777777777778,
             "#fb9f3a"
            ],
            [
             0.8888888888888888,
             "#fdca26"
            ],
            [
             1,
             "#f0f921"
            ]
           ]
          },
          "colorway": [
           "#636efa",
           "#EF553B",
           "#00cc96",
           "#ab63fa",
           "#FFA15A",
           "#19d3f3",
           "#FF6692",
           "#B6E880",
           "#FF97FF",
           "#FECB52"
          ],
          "font": {
           "color": "#2a3f5f"
          },
          "geo": {
           "bgcolor": "white",
           "lakecolor": "white",
           "landcolor": "#E5ECF6",
           "showlakes": true,
           "showland": true,
           "subunitcolor": "white"
          },
          "hoverlabel": {
           "align": "left"
          },
          "hovermode": "closest",
          "mapbox": {
           "style": "light"
          },
          "paper_bgcolor": "white",
          "plot_bgcolor": "#E5ECF6",
          "polar": {
           "angularaxis": {
            "gridcolor": "white",
            "linecolor": "white",
            "ticks": ""
           },
           "bgcolor": "#E5ECF6",
           "radialaxis": {
            "gridcolor": "white",
            "linecolor": "white",
            "ticks": ""
           }
          },
          "scene": {
           "xaxis": {
            "backgroundcolor": "#E5ECF6",
            "gridcolor": "white",
            "gridwidth": 2,
            "linecolor": "white",
            "showbackground": true,
            "ticks": "",
            "zerolinecolor": "white"
           },
           "yaxis": {
            "backgroundcolor": "#E5ECF6",
            "gridcolor": "white",
            "gridwidth": 2,
            "linecolor": "white",
            "showbackground": true,
            "ticks": "",
            "zerolinecolor": "white"
           },
           "zaxis": {
            "backgroundcolor": "#E5ECF6",
            "gridcolor": "white",
            "gridwidth": 2,
            "linecolor": "white",
            "showbackground": true,
            "ticks": "",
            "zerolinecolor": "white"
           }
          },
          "shapedefaults": {
           "line": {
            "color": "#2a3f5f"
           }
          },
          "ternary": {
           "aaxis": {
            "gridcolor": "white",
            "linecolor": "white",
            "ticks": ""
           },
           "baxis": {
            "gridcolor": "white",
            "linecolor": "white",
            "ticks": ""
           },
           "bgcolor": "#E5ECF6",
           "caxis": {
            "gridcolor": "white",
            "linecolor": "white",
            "ticks": ""
           }
          },
          "title": {
           "x": 0.05
          },
          "xaxis": {
           "automargin": true,
           "gridcolor": "white",
           "linecolor": "white",
           "ticks": "",
           "title": {
            "standoff": 15
           },
           "zerolinecolor": "white",
           "zerolinewidth": 2
          },
          "yaxis": {
           "automargin": true,
           "gridcolor": "white",
           "linecolor": "white",
           "ticks": "",
           "title": {
            "standoff": 15
           },
           "zerolinecolor": "white",
           "zerolinewidth": 2
          }
         }
        },
        "width": 1000
       }
      }
     },
     "metadata": {},
     "output_type": "display_data"
    }
   ],
   "source": [
    "import plotly.graph_objects as go\n",
    "\n",
    "fig = go.Figure()\n",
    "\n",
    "fig1 = px.choropleth_mapbox(\n",
    "                    df_merged_filt, \n",
    "                    geojson= df_merged_filt.polygon,\n",
    "                    locations=df_merged_filt.index,\n",
    "                    color = 'changerate',\n",
    "                    color_continuous_scale = 'RdYlGn',\n",
    "                    mapbox_style='carto-positron',\n",
    "                    range_color=[-10, 10],\n",
    "                    zoom = 1,\n",
    "                    width = 1000,\n",
    "                    height = 600)\n",
    "\n",
    "fig2  = px.scatter_mapbox(df_merged_filt, \n",
    "                    lon = 'center_x',\n",
    "                    lat = 'center_y',\n",
    "                    color = 'changerate',\n",
    "                    color_continuous_scale = 'RdYlGn',\n",
    "                    mapbox_style='carto-positron',\n",
    "                    range_color=[-10, 10],\n",
    "                    zoom = 1,\n",
    "                    width = 1000,\n",
    "                    height = 600)\n",
    "\n",
    "fig1.update_traces(marker_line_width=0)\n",
    "fig1.add_trace(fig2.data[0])\n",
    "fig1.show()"
   ]
  },
  {
   "cell_type": "code",
   "execution_count": null,
   "metadata": {},
   "outputs": [],
   "source": []
  }
 ],
 "metadata": {
  "kernelspec": {
   "display_name": "geo_env",
   "language": "python",
   "name": "python3"
  },
  "language_info": {
   "codemirror_mode": {
    "name": "ipython",
    "version": 3
   },
   "file_extension": ".py",
   "mimetype": "text/x-python",
   "name": "python",
   "nbconvert_exporter": "python",
   "pygments_lexer": "ipython3",
   "version": "3.8.16"
  },
  "orig_nbformat": 4
 },
 "nbformat": 4,
 "nbformat_minor": 2
}
