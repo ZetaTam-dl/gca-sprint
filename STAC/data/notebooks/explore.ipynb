{
 "cells": [
  {
   "cell_type": "code",
   "execution_count": 1,
   "id": "b576a4c7",
   "metadata": {},
   "outputs": [],
   "source": [
    "%load_ext lab_black"
   ]
  },
  {
   "cell_type": "code",
   "execution_count": 2,
   "id": "d121945d",
   "metadata": {},
   "outputs": [],
   "source": [
    "import pathlib\n",
    "import subprocess\n",
    "import os\n",
    "import sys\n",
    "\n",
    "# make root directories importable by appending root to path\n",
    "cwd = pathlib.Path().resolve()\n",
    "sys.path.append(os.path.dirname(cwd))"
   ]
  },
  {
   "cell_type": "code",
   "execution_count": 3,
   "id": "bc025cab",
   "metadata": {},
   "outputs": [
    {
     "name": "stdout",
     "output_type": "stream",
     "text": [
      "Environmental variables loaded.\n"
     ]
    }
   ],
   "source": [
    "from etl.keys import load_env_variables\n",
    "\n",
    "load_env_variables([\"MAPBOX_ACCESS_TOKEN\"])"
   ]
  },
  {
   "cell_type": "code",
   "execution_count": 4,
   "id": "8dbaae4b",
   "metadata": {},
   "outputs": [],
   "source": [
    "import rioxarray\n",
    "import xarray as xr\n",
    "\n",
    "zarr_fp = pathlib.Path.home().joinpath(\"ddata\", \"temp\", \"CoastAlRisk_Europe_EESSL.zarr\")\n",
    "ds = xr.open_dataset(zarr_fp, engine=\"zarr\")"
   ]
  },
  {
   "cell_type": "code",
   "execution_count": 15,
   "id": "d2e447ca",
   "metadata": {},
   "outputs": [],
   "source": [
    "crap_dir = pathlib.Path.home().joinpath(\"ddata\", \"crap\")"
   ]
  },
  {
   "cell_type": "code",
   "execution_count": 21,
   "id": "e2766f82",
   "metadata": {},
   "outputs": [
    {
     "name": "stdout",
     "output_type": "stream",
     "text": [
      "Downloading..\n"
     ]
    },
    {
     "ename": "KeyboardInterrupt",
     "evalue": "",
     "output_type": "error",
     "traceback": [
      "\u001b[0;31m---------------------------------------------------------------------------\u001b[0m",
      "\u001b[0;31mKeyboardInterrupt\u001b[0m                         Traceback (most recent call last)",
      "\u001b[1;32m/home/calkoen/dev/coclicodata/notebooks/explore.ipynb Cell 7'\u001b[0m in \u001b[0;36m<cell line: 8>\u001b[0;34m()\u001b[0m\n\u001b[1;32m      <a href='vscode-notebook-cell://wsl%2Bubuntu-20.04/home/calkoen/dev/coclicodata/notebooks/explore.ipynb#ch0000008vscode-remote?line=7'>8</a>\u001b[0m \u001b[39mif\u001b[39;00m \u001b[39mnot\u001b[39;00m pathlib\u001b[39m.\u001b[39mPath(crap_dir, file)\u001b[39m.\u001b[39mexists():\n\u001b[1;32m      <a href='vscode-notebook-cell://wsl%2Bubuntu-20.04/home/calkoen/dev/coclicodata/notebooks/explore.ipynb#ch0000008vscode-remote?line=8'>9</a>\u001b[0m     \u001b[39mprint\u001b[39m(\u001b[39m\"\u001b[39m\u001b[39mDownloading..\u001b[39m\u001b[39m\"\u001b[39m)\n\u001b[0;32m---> <a href='vscode-notebook-cell://wsl%2Bubuntu-20.04/home/calkoen/dev/coclicodata/notebooks/explore.ipynb#ch0000008vscode-remote?line=9'>10</a>\u001b[0m     urllib\u001b[39m.\u001b[39;49mrequest\u001b[39m.\u001b[39;49murlretrieve(url, crap_dir\u001b[39m.\u001b[39;49mjoinpath(file))\n\u001b[1;32m     <a href='vscode-notebook-cell://wsl%2Bubuntu-20.04/home/calkoen/dev/coclicodata/notebooks/explore.ipynb#ch0000008vscode-remote?line=11'>12</a>\u001b[0m ds \u001b[39m=\u001b[39m xr\u001b[39m.\u001b[39mopen_dataset(file)\n",
      "File \u001b[0;32m~/miniconda3/envs/coclico/lib/python3.10/urllib/request.py:270\u001b[0m, in \u001b[0;36murlretrieve\u001b[0;34m(url, filename, reporthook, data)\u001b[0m\n\u001b[1;32m    <a href='file:///home/calkoen/miniconda3/envs/coclico/lib/python3.10/urllib/request.py?line=266'>267</a>\u001b[0m     reporthook(blocknum, bs, size)\n\u001b[1;32m    <a href='file:///home/calkoen/miniconda3/envs/coclico/lib/python3.10/urllib/request.py?line=268'>269</a>\u001b[0m \u001b[39mwhile\u001b[39;00m \u001b[39mTrue\u001b[39;00m:\n\u001b[0;32m--> <a href='file:///home/calkoen/miniconda3/envs/coclico/lib/python3.10/urllib/request.py?line=269'>270</a>\u001b[0m     block \u001b[39m=\u001b[39m fp\u001b[39m.\u001b[39;49mread(bs)\n\u001b[1;32m    <a href='file:///home/calkoen/miniconda3/envs/coclico/lib/python3.10/urllib/request.py?line=270'>271</a>\u001b[0m     \u001b[39mif\u001b[39;00m \u001b[39mnot\u001b[39;00m block:\n\u001b[1;32m    <a href='file:///home/calkoen/miniconda3/envs/coclico/lib/python3.10/urllib/request.py?line=271'>272</a>\u001b[0m         \u001b[39mbreak\u001b[39;00m\n",
      "File \u001b[0;32m~/miniconda3/envs/coclico/lib/python3.10/http/client.py:465\u001b[0m, in \u001b[0;36mHTTPResponse.read\u001b[0;34m(self, amt)\u001b[0m\n\u001b[1;32m    <a href='file:///home/calkoen/miniconda3/envs/coclico/lib/python3.10/http/client.py?line=461'>462</a>\u001b[0m \u001b[39mif\u001b[39;00m \u001b[39mself\u001b[39m\u001b[39m.\u001b[39mlength \u001b[39mis\u001b[39;00m \u001b[39mnot\u001b[39;00m \u001b[39mNone\u001b[39;00m \u001b[39mand\u001b[39;00m amt \u001b[39m>\u001b[39m \u001b[39mself\u001b[39m\u001b[39m.\u001b[39mlength:\n\u001b[1;32m    <a href='file:///home/calkoen/miniconda3/envs/coclico/lib/python3.10/http/client.py?line=462'>463</a>\u001b[0m     \u001b[39m# clip the read to the \"end of response\"\u001b[39;00m\n\u001b[1;32m    <a href='file:///home/calkoen/miniconda3/envs/coclico/lib/python3.10/http/client.py?line=463'>464</a>\u001b[0m     amt \u001b[39m=\u001b[39m \u001b[39mself\u001b[39m\u001b[39m.\u001b[39mlength\n\u001b[0;32m--> <a href='file:///home/calkoen/miniconda3/envs/coclico/lib/python3.10/http/client.py?line=464'>465</a>\u001b[0m s \u001b[39m=\u001b[39m \u001b[39mself\u001b[39;49m\u001b[39m.\u001b[39;49mfp\u001b[39m.\u001b[39;49mread(amt)\n\u001b[1;32m    <a href='file:///home/calkoen/miniconda3/envs/coclico/lib/python3.10/http/client.py?line=465'>466</a>\u001b[0m \u001b[39mif\u001b[39;00m \u001b[39mnot\u001b[39;00m s \u001b[39mand\u001b[39;00m amt:\n\u001b[1;32m    <a href='file:///home/calkoen/miniconda3/envs/coclico/lib/python3.10/http/client.py?line=466'>467</a>\u001b[0m     \u001b[39m# Ideally, we would raise IncompleteRead if the content-length\u001b[39;00m\n\u001b[1;32m    <a href='file:///home/calkoen/miniconda3/envs/coclico/lib/python3.10/http/client.py?line=467'>468</a>\u001b[0m     \u001b[39m# wasn't satisfied, but it might break compatibility.\u001b[39;00m\n\u001b[1;32m    <a href='file:///home/calkoen/miniconda3/envs/coclico/lib/python3.10/http/client.py?line=468'>469</a>\u001b[0m     \u001b[39mself\u001b[39m\u001b[39m.\u001b[39m_close_conn()\n",
      "File \u001b[0;32m~/miniconda3/envs/coclico/lib/python3.10/socket.py:705\u001b[0m, in \u001b[0;36mSocketIO.readinto\u001b[0;34m(self, b)\u001b[0m\n\u001b[1;32m    <a href='file:///home/calkoen/miniconda3/envs/coclico/lib/python3.10/socket.py?line=702'>703</a>\u001b[0m \u001b[39mwhile\u001b[39;00m \u001b[39mTrue\u001b[39;00m:\n\u001b[1;32m    <a href='file:///home/calkoen/miniconda3/envs/coclico/lib/python3.10/socket.py?line=703'>704</a>\u001b[0m     \u001b[39mtry\u001b[39;00m:\n\u001b[0;32m--> <a href='file:///home/calkoen/miniconda3/envs/coclico/lib/python3.10/socket.py?line=704'>705</a>\u001b[0m         \u001b[39mreturn\u001b[39;00m \u001b[39mself\u001b[39;49m\u001b[39m.\u001b[39;49m_sock\u001b[39m.\u001b[39;49mrecv_into(b)\n\u001b[1;32m    <a href='file:///home/calkoen/miniconda3/envs/coclico/lib/python3.10/socket.py?line=705'>706</a>\u001b[0m     \u001b[39mexcept\u001b[39;00m timeout:\n\u001b[1;32m    <a href='file:///home/calkoen/miniconda3/envs/coclico/lib/python3.10/socket.py?line=706'>707</a>\u001b[0m         \u001b[39mself\u001b[39m\u001b[39m.\u001b[39m_timeout_occurred \u001b[39m=\u001b[39m \u001b[39mTrue\u001b[39;00m\n",
      "\u001b[0;31mKeyboardInterrupt\u001b[0m: "
     ]
    }
   ],
   "source": [
    "import pathlib\n",
    "import xarray as xr\n",
    "import urllib.request\n",
    "\n",
    "url = \"http://berkeleyearth.lbl.gov/auto/Global/Gridded/Complete_TMAX_EqualArea.nc\"\n",
    "file = \"Complete_TMAX_EqualArea.nc\"\n",
    "\n",
    "if not pathlib.Path(crap_dir, file).exists():\n",
    "    print(\"Downloading..\")\n",
    "    urllib.request.urlretrieve(url, crap_dir.joinpath(file))\n",
    "\n",
    "ds = xr.open_dataset(file)"
   ]
  }
 ],
 "metadata": {
  "interpreter": {
   "hash": "d52b8dfbdab1c939c3c4b10b0d762f4c8139583e350f28e123ee37db8f80dd50"
  },
  "kernelspec": {
   "display_name": "Python 3.10.4 ('base')",
   "language": "python",
   "name": "python3"
  },
  "language_info": {
   "codemirror_mode": {
    "name": "ipython",
    "version": 3
   },
   "file_extension": ".py",
   "mimetype": "text/x-python",
   "name": "python",
   "nbconvert_exporter": "python",
   "pygments_lexer": "ipython3",
   "version": "3.10.4"
  }
 },
 "nbformat": 4,
 "nbformat_minor": 5
}
